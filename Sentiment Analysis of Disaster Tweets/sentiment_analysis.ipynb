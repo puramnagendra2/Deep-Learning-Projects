{
 "cells": [
  {
   "cell_type": "markdown",
   "metadata": {},
   "source": [
    "# Importing Libraries"
   ]
  },
  {
   "cell_type": "code",
   "execution_count": 62,
   "metadata": {},
   "outputs": [],
   "source": [
    "import numpy as np\n",
    "import pandas as pd\n",
    "import matplotlib.pyplot as plt\n",
    "import re\n",
    "import contractions"
   ]
  },
  {
   "cell_type": "markdown",
   "metadata": {},
   "source": [
    "# Loading Dataset"
   ]
  },
  {
   "cell_type": "code",
   "execution_count": 63,
   "metadata": {},
   "outputs": [
    {
     "data": {
      "text/html": [
       "<div>\n",
       "<style scoped>\n",
       "    .dataframe tbody tr th:only-of-type {\n",
       "        vertical-align: middle;\n",
       "    }\n",
       "\n",
       "    .dataframe tbody tr th {\n",
       "        vertical-align: top;\n",
       "    }\n",
       "\n",
       "    .dataframe thead th {\n",
       "        text-align: right;\n",
       "    }\n",
       "</style>\n",
       "<table border=\"1\" class=\"dataframe\">\n",
       "  <thead>\n",
       "    <tr style=\"text-align: right;\">\n",
       "      <th></th>\n",
       "      <th>id</th>\n",
       "      <th>keyword</th>\n",
       "      <th>location</th>\n",
       "      <th>text</th>\n",
       "      <th>target</th>\n",
       "    </tr>\n",
       "  </thead>\n",
       "  <tbody>\n",
       "    <tr>\n",
       "      <th>0</th>\n",
       "      <td>0</td>\n",
       "      <td>ablaze</td>\n",
       "      <td>NaN</td>\n",
       "      <td>Communal violence in Bhainsa, Telangana. \"Stones were pelted on Muslims' houses and some houses and vehicles were set ablaze…</td>\n",
       "      <td>1</td>\n",
       "    </tr>\n",
       "    <tr>\n",
       "      <th>1</th>\n",
       "      <td>1</td>\n",
       "      <td>ablaze</td>\n",
       "      <td>NaN</td>\n",
       "      <td>Telangana: Section 144 has been imposed in Bhainsa from January 13 to 15, after clash erupted between two groups on January 12. Po…</td>\n",
       "      <td>1</td>\n",
       "    </tr>\n",
       "    <tr>\n",
       "      <th>2</th>\n",
       "      <td>2</td>\n",
       "      <td>ablaze</td>\n",
       "      <td>New York City</td>\n",
       "      <td>Arsonist sets cars ablaze at dealership https://t.co/gOQvyJbpVI</td>\n",
       "      <td>1</td>\n",
       "    </tr>\n",
       "    <tr>\n",
       "      <th>3</th>\n",
       "      <td>3</td>\n",
       "      <td>ablaze</td>\n",
       "      <td>Morgantown, WV</td>\n",
       "      <td>Arsonist sets cars ablaze at dealership https://t.co/0gL7NUCPlb https://t.co/u1CcBhOWh9</td>\n",
       "      <td>1</td>\n",
       "    </tr>\n",
       "    <tr>\n",
       "      <th>4</th>\n",
       "      <td>4</td>\n",
       "      <td>ablaze</td>\n",
       "      <td>NaN</td>\n",
       "      <td>\"Lord Jesus, your love brings freedom and pardon. Fill me with your Holy Spirit and set my heart ablaze with your l… https://t.co/VlTznnPNi8</td>\n",
       "      <td>0</td>\n",
       "    </tr>\n",
       "  </tbody>\n",
       "</table>\n",
       "</div>"
      ],
      "text/plain": [
       "   id keyword        location  \\\n",
       "0  0   ablaze  NaN              \n",
       "1  1   ablaze  NaN              \n",
       "2  2   ablaze  New York City    \n",
       "3  3   ablaze  Morgantown, WV   \n",
       "4  4   ablaze  NaN              \n",
       "\n",
       "                                                                                                                                           text  \\\n",
       "0  Communal violence in Bhainsa, Telangana. \"Stones were pelted on Muslims' houses and some houses and vehicles were set ablaze…                  \n",
       "1  Telangana: Section 144 has been imposed in Bhainsa from January 13 to 15, after clash erupted between two groups on January 12. Po…            \n",
       "2  Arsonist sets cars ablaze at dealership https://t.co/gOQvyJbpVI                                                                                \n",
       "3  Arsonist sets cars ablaze at dealership https://t.co/0gL7NUCPlb https://t.co/u1CcBhOWh9                                                        \n",
       "4  \"Lord Jesus, your love brings freedom and pardon. Fill me with your Holy Spirit and set my heart ablaze with your l… https://t.co/VlTznnPNi8   \n",
       "\n",
       "   target  \n",
       "0  1       \n",
       "1  1       \n",
       "2  1       \n",
       "3  1       \n",
       "4  0       "
      ]
     },
     "execution_count": 63,
     "metadata": {},
     "output_type": "execute_result"
    }
   ],
   "source": [
    "df = pd.read_csv('tweets.csv')\n",
    "df.head()"
   ]
  },
  {
   "cell_type": "markdown",
   "metadata": {},
   "source": [
    "# Basic Information"
   ]
  },
  {
   "cell_type": "code",
   "execution_count": 64,
   "metadata": {},
   "outputs": [
    {
     "name": "stdout",
     "output_type": "stream",
     "text": [
      "<class 'pandas.core.frame.DataFrame'>\n",
      "RangeIndex: 11370 entries, 0 to 11369\n",
      "Data columns (total 5 columns):\n",
      " #   Column    Non-Null Count  Dtype \n",
      "---  ------    --------------  ----- \n",
      " 0   id        11370 non-null  int64 \n",
      " 1   keyword   11370 non-null  object\n",
      " 2   location  7952 non-null   object\n",
      " 3   text      11370 non-null  object\n",
      " 4   target    11370 non-null  int64 \n",
      "dtypes: int64(2), object(3)\n",
      "memory usage: 444.3+ KB\n"
     ]
    }
   ],
   "source": [
    "df.info()"
   ]
  },
  {
   "cell_type": "code",
   "execution_count": 65,
   "metadata": {},
   "outputs": [
    {
     "data": {
      "text/html": [
       "<div>\n",
       "<style scoped>\n",
       "    .dataframe tbody tr th:only-of-type {\n",
       "        vertical-align: middle;\n",
       "    }\n",
       "\n",
       "    .dataframe tbody tr th {\n",
       "        vertical-align: top;\n",
       "    }\n",
       "\n",
       "    .dataframe thead th {\n",
       "        text-align: right;\n",
       "    }\n",
       "</style>\n",
       "<table border=\"1\" class=\"dataframe\">\n",
       "  <thead>\n",
       "    <tr style=\"text-align: right;\">\n",
       "      <th></th>\n",
       "      <th>id</th>\n",
       "      <th>target</th>\n",
       "    </tr>\n",
       "  </thead>\n",
       "  <tbody>\n",
       "    <tr>\n",
       "      <th>count</th>\n",
       "      <td>11370.000000</td>\n",
       "      <td>11370.000000</td>\n",
       "    </tr>\n",
       "    <tr>\n",
       "      <th>mean</th>\n",
       "      <td>5684.500000</td>\n",
       "      <td>0.185928</td>\n",
       "    </tr>\n",
       "    <tr>\n",
       "      <th>std</th>\n",
       "      <td>3282.380615</td>\n",
       "      <td>0.389066</td>\n",
       "    </tr>\n",
       "    <tr>\n",
       "      <th>min</th>\n",
       "      <td>0.000000</td>\n",
       "      <td>0.000000</td>\n",
       "    </tr>\n",
       "    <tr>\n",
       "      <th>25%</th>\n",
       "      <td>2842.250000</td>\n",
       "      <td>0.000000</td>\n",
       "    </tr>\n",
       "    <tr>\n",
       "      <th>50%</th>\n",
       "      <td>5684.500000</td>\n",
       "      <td>0.000000</td>\n",
       "    </tr>\n",
       "    <tr>\n",
       "      <th>75%</th>\n",
       "      <td>8526.750000</td>\n",
       "      <td>0.000000</td>\n",
       "    </tr>\n",
       "    <tr>\n",
       "      <th>max</th>\n",
       "      <td>11369.000000</td>\n",
       "      <td>1.000000</td>\n",
       "    </tr>\n",
       "  </tbody>\n",
       "</table>\n",
       "</div>"
      ],
      "text/plain": [
       "                 id        target\n",
       "count  11370.000000  11370.000000\n",
       "mean   5684.500000   0.185928    \n",
       "std    3282.380615   0.389066    \n",
       "min    0.000000      0.000000    \n",
       "25%    2842.250000   0.000000    \n",
       "50%    5684.500000   0.000000    \n",
       "75%    8526.750000   0.000000    \n",
       "max    11369.000000  1.000000    "
      ]
     },
     "execution_count": 65,
     "metadata": {},
     "output_type": "execute_result"
    }
   ],
   "source": [
    "df.describe()"
   ]
  },
  {
   "cell_type": "code",
   "execution_count": 66,
   "metadata": {},
   "outputs": [
    {
     "data": {
      "text/html": [
       "<div>\n",
       "<style scoped>\n",
       "    .dataframe tbody tr th:only-of-type {\n",
       "        vertical-align: middle;\n",
       "    }\n",
       "\n",
       "    .dataframe tbody tr th {\n",
       "        vertical-align: top;\n",
       "    }\n",
       "\n",
       "    .dataframe thead th {\n",
       "        text-align: right;\n",
       "    }\n",
       "</style>\n",
       "<table border=\"1\" class=\"dataframe\">\n",
       "  <thead>\n",
       "    <tr style=\"text-align: right;\">\n",
       "      <th></th>\n",
       "      <th>keyword</th>\n",
       "      <th>location</th>\n",
       "      <th>text</th>\n",
       "    </tr>\n",
       "  </thead>\n",
       "  <tbody>\n",
       "    <tr>\n",
       "      <th>count</th>\n",
       "      <td>11370</td>\n",
       "      <td>7952</td>\n",
       "      <td>11370</td>\n",
       "    </tr>\n",
       "    <tr>\n",
       "      <th>unique</th>\n",
       "      <td>219</td>\n",
       "      <td>4504</td>\n",
       "      <td>11223</td>\n",
       "    </tr>\n",
       "    <tr>\n",
       "      <th>top</th>\n",
       "      <td>thunderstorm</td>\n",
       "      <td>United States</td>\n",
       "      <td>I want to help you with my project to save the Caribbean Sea from floods and hurricanes https://t.co/qD8Om9NqQK</td>\n",
       "    </tr>\n",
       "    <tr>\n",
       "      <th>freq</th>\n",
       "      <td>93</td>\n",
       "      <td>96</td>\n",
       "      <td>3</td>\n",
       "    </tr>\n",
       "  </tbody>\n",
       "</table>\n",
       "</div>"
      ],
      "text/plain": [
       "             keyword       location  \\\n",
       "count   11370         7952            \n",
       "unique  219           4504            \n",
       "top     thunderstorm  United States   \n",
       "freq    93            96              \n",
       "\n",
       "                                                                                                                   text  \n",
       "count   11370                                                                                                            \n",
       "unique  11223                                                                                                            \n",
       "top     I want to help you with my project to save the Caribbean Sea from floods and hurricanes https://t.co/qD8Om9NqQK  \n",
       "freq    3                                                                                                                "
      ]
     },
     "execution_count": 66,
     "metadata": {},
     "output_type": "execute_result"
    }
   ],
   "source": [
    "df.describe(exclude='number')"
   ]
  },
  {
   "cell_type": "code",
   "execution_count": 67,
   "metadata": {},
   "outputs": [
    {
     "data": {
      "text/plain": [
       "Index(['id', 'target'], dtype='object')"
      ]
     },
     "execution_count": 67,
     "metadata": {},
     "output_type": "execute_result"
    }
   ],
   "source": [
    "# Getting numerical columns\n",
    "df.select_dtypes('number').columns"
   ]
  },
  {
   "cell_type": "code",
   "execution_count": 68,
   "metadata": {},
   "outputs": [
    {
     "data": {
      "text/plain": [
       "Index(['keyword', 'location', 'text'], dtype='object')"
      ]
     },
     "execution_count": 68,
     "metadata": {},
     "output_type": "execute_result"
    }
   ],
   "source": [
    "# Getting Categorical Columns\n",
    "df.select_dtypes(exclude='number').columns"
   ]
  },
  {
   "cell_type": "code",
   "execution_count": 69,
   "metadata": {},
   "outputs": [
    {
     "data": {
      "text/plain": [
       "(11370, 5)"
      ]
     },
     "execution_count": 69,
     "metadata": {},
     "output_type": "execute_result"
    }
   ],
   "source": [
    "# Knowing Shape of the Dataset\n",
    "df.shape"
   ]
  },
  {
   "cell_type": "markdown",
   "metadata": {},
   "source": [
    "# Dropping unwanted columns"
   ]
  },
  {
   "cell_type": "code",
   "execution_count": 70,
   "metadata": {},
   "outputs": [],
   "source": [
    "df.drop('id', axis=1, inplace=True)"
   ]
  },
  {
   "cell_type": "code",
   "execution_count": 71,
   "metadata": {},
   "outputs": [
    {
     "data": {
      "text/html": [
       "<div>\n",
       "<style scoped>\n",
       "    .dataframe tbody tr th:only-of-type {\n",
       "        vertical-align: middle;\n",
       "    }\n",
       "\n",
       "    .dataframe tbody tr th {\n",
       "        vertical-align: top;\n",
       "    }\n",
       "\n",
       "    .dataframe thead th {\n",
       "        text-align: right;\n",
       "    }\n",
       "</style>\n",
       "<table border=\"1\" class=\"dataframe\">\n",
       "  <thead>\n",
       "    <tr style=\"text-align: right;\">\n",
       "      <th></th>\n",
       "      <th>keyword</th>\n",
       "      <th>location</th>\n",
       "      <th>text</th>\n",
       "      <th>target</th>\n",
       "    </tr>\n",
       "  </thead>\n",
       "  <tbody>\n",
       "    <tr>\n",
       "      <th>0</th>\n",
       "      <td>ablaze</td>\n",
       "      <td>NaN</td>\n",
       "      <td>Communal violence in Bhainsa, Telangana. \"Stones were pelted on Muslims' houses and some houses and vehicles were set ablaze…</td>\n",
       "      <td>1</td>\n",
       "    </tr>\n",
       "    <tr>\n",
       "      <th>1</th>\n",
       "      <td>ablaze</td>\n",
       "      <td>NaN</td>\n",
       "      <td>Telangana: Section 144 has been imposed in Bhainsa from January 13 to 15, after clash erupted between two groups on January 12. Po…</td>\n",
       "      <td>1</td>\n",
       "    </tr>\n",
       "    <tr>\n",
       "      <th>2</th>\n",
       "      <td>ablaze</td>\n",
       "      <td>New York City</td>\n",
       "      <td>Arsonist sets cars ablaze at dealership https://t.co/gOQvyJbpVI</td>\n",
       "      <td>1</td>\n",
       "    </tr>\n",
       "    <tr>\n",
       "      <th>3</th>\n",
       "      <td>ablaze</td>\n",
       "      <td>Morgantown, WV</td>\n",
       "      <td>Arsonist sets cars ablaze at dealership https://t.co/0gL7NUCPlb https://t.co/u1CcBhOWh9</td>\n",
       "      <td>1</td>\n",
       "    </tr>\n",
       "    <tr>\n",
       "      <th>4</th>\n",
       "      <td>ablaze</td>\n",
       "      <td>NaN</td>\n",
       "      <td>\"Lord Jesus, your love brings freedom and pardon. Fill me with your Holy Spirit and set my heart ablaze with your l… https://t.co/VlTznnPNi8</td>\n",
       "      <td>0</td>\n",
       "    </tr>\n",
       "  </tbody>\n",
       "</table>\n",
       "</div>"
      ],
      "text/plain": [
       "  keyword        location  \\\n",
       "0  ablaze  NaN              \n",
       "1  ablaze  NaN              \n",
       "2  ablaze  New York City    \n",
       "3  ablaze  Morgantown, WV   \n",
       "4  ablaze  NaN              \n",
       "\n",
       "                                                                                                                                           text  \\\n",
       "0  Communal violence in Bhainsa, Telangana. \"Stones were pelted on Muslims' houses and some houses and vehicles were set ablaze…                  \n",
       "1  Telangana: Section 144 has been imposed in Bhainsa from January 13 to 15, after clash erupted between two groups on January 12. Po…            \n",
       "2  Arsonist sets cars ablaze at dealership https://t.co/gOQvyJbpVI                                                                                \n",
       "3  Arsonist sets cars ablaze at dealership https://t.co/0gL7NUCPlb https://t.co/u1CcBhOWh9                                                        \n",
       "4  \"Lord Jesus, your love brings freedom and pardon. Fill me with your Holy Spirit and set my heart ablaze with your l… https://t.co/VlTznnPNi8   \n",
       "\n",
       "   target  \n",
       "0  1       \n",
       "1  1       \n",
       "2  1       \n",
       "3  1       \n",
       "4  0       "
      ]
     },
     "execution_count": 71,
     "metadata": {},
     "output_type": "execute_result"
    }
   ],
   "source": [
    "df.head()"
   ]
  },
  {
   "cell_type": "markdown",
   "metadata": {},
   "source": [
    "# Handling Text Data"
   ]
  },
  {
   "cell_type": "code",
   "execution_count": 72,
   "metadata": {},
   "outputs": [
    {
     "data": {
      "text/plain": [
       "0    Communal violence in Bhainsa, Telangana. \"Stones were pelted on Muslims' houses and some houses and vehicles were set ablaze…               \n",
       "1    Telangana: Section 144 has been imposed in Bhainsa from January 13 to 15, after clash erupted between two groups on January 12. Po…         \n",
       "2    Arsonist sets cars ablaze at dealership https://t.co/gOQvyJbpVI                                                                             \n",
       "3    Arsonist sets cars ablaze at dealership https://t.co/0gL7NUCPlb https://t.co/u1CcBhOWh9                                                     \n",
       "4    \"Lord Jesus, your love brings freedom and pardon. Fill me with your Holy Spirit and set my heart ablaze with your l… https://t.co/VlTznnPNi8\n",
       "Name: text, dtype: object"
      ]
     },
     "execution_count": 72,
     "metadata": {},
     "output_type": "execute_result"
    }
   ],
   "source": [
    "df['text'].head()"
   ]
  },
  {
   "cell_type": "code",
   "execution_count": 73,
   "metadata": {},
   "outputs": [],
   "source": [
    "pd.set_option('display.max_colwidth', 1)"
   ]
  },
  {
   "cell_type": "code",
   "execution_count": 74,
   "metadata": {},
   "outputs": [
    {
     "data": {
      "text/html": [
       "<div>\n",
       "<style scoped>\n",
       "    .dataframe tbody tr th:only-of-type {\n",
       "        vertical-align: middle;\n",
       "    }\n",
       "\n",
       "    .dataframe tbody tr th {\n",
       "        vertical-align: top;\n",
       "    }\n",
       "\n",
       "    .dataframe thead th {\n",
       "        text-align: right;\n",
       "    }\n",
       "</style>\n",
       "<table border=\"1\" class=\"dataframe\">\n",
       "  <thead>\n",
       "    <tr style=\"text-align: right;\">\n",
       "      <th></th>\n",
       "      <th>text</th>\n",
       "      <th>target</th>\n",
       "    </tr>\n",
       "  </thead>\n",
       "  <tbody>\n",
       "    <tr>\n",
       "      <th>0</th>\n",
       "      <td>Communal violence in Bhainsa, Telangana. \"Stones were pelted on Muslims' houses and some houses and vehicles were set ablaze…</td>\n",
       "      <td>1</td>\n",
       "    </tr>\n",
       "    <tr>\n",
       "      <th>1</th>\n",
       "      <td>Telangana: Section 144 has been imposed in Bhainsa from January 13 to 15, after clash erupted between two groups on January 12. Po…</td>\n",
       "      <td>1</td>\n",
       "    </tr>\n",
       "    <tr>\n",
       "      <th>2</th>\n",
       "      <td>Arsonist sets cars ablaze at dealership https://t.co/gOQvyJbpVI</td>\n",
       "      <td>1</td>\n",
       "    </tr>\n",
       "    <tr>\n",
       "      <th>3</th>\n",
       "      <td>Arsonist sets cars ablaze at dealership https://t.co/0gL7NUCPlb https://t.co/u1CcBhOWh9</td>\n",
       "      <td>1</td>\n",
       "    </tr>\n",
       "    <tr>\n",
       "      <th>4</th>\n",
       "      <td>\"Lord Jesus, your love brings freedom and pardon. Fill me with your Holy Spirit and set my heart ablaze with your l… https://t.co/VlTznnPNi8</td>\n",
       "      <td>0</td>\n",
       "    </tr>\n",
       "  </tbody>\n",
       "</table>\n",
       "</div>"
      ],
      "text/plain": [
       "                                                                                                                                           text  \\\n",
       "0  Communal violence in Bhainsa, Telangana. \"Stones were pelted on Muslims' houses and some houses and vehicles were set ablaze…                  \n",
       "1  Telangana: Section 144 has been imposed in Bhainsa from January 13 to 15, after clash erupted between two groups on January 12. Po…            \n",
       "2  Arsonist sets cars ablaze at dealership https://t.co/gOQvyJbpVI                                                                                \n",
       "3  Arsonist sets cars ablaze at dealership https://t.co/0gL7NUCPlb https://t.co/u1CcBhOWh9                                                        \n",
       "4  \"Lord Jesus, your love brings freedom and pardon. Fill me with your Holy Spirit and set my heart ablaze with your l… https://t.co/VlTznnPNi8   \n",
       "\n",
       "   target  \n",
       "0  1       \n",
       "1  1       \n",
       "2  1       \n",
       "3  1       \n",
       "4  0       "
      ]
     },
     "execution_count": 74,
     "metadata": {},
     "output_type": "execute_result"
    }
   ],
   "source": [
    "df = df[['text', 'target']]\n",
    "df.head()"
   ]
  },
  {
   "cell_type": "code",
   "execution_count": 75,
   "metadata": {},
   "outputs": [
    {
     "data": {
      "text/plain": [
       "(11223, 2)"
      ]
     },
     "execution_count": 75,
     "metadata": {},
     "output_type": "execute_result"
    }
   ],
   "source": [
    "df = df.drop_duplicates(subset='text', keep='first')\n",
    "df.shape"
   ]
  },
  {
   "cell_type": "code",
   "execution_count": 76,
   "metadata": {},
   "outputs": [
    {
     "data": {
      "text/plain": [
       "text      0\n",
       "target    0\n",
       "dtype: int64"
      ]
     },
     "execution_count": 76,
     "metadata": {},
     "output_type": "execute_result"
    }
   ],
   "source": [
    "df.isna().sum()"
   ]
  },
  {
   "cell_type": "markdown",
   "metadata": {},
   "source": [
    "# Text Cleaning"
   ]
  },
  {
   "cell_type": "markdown",
   "metadata": {},
   "source": [
    "#### Removing URL's"
   ]
  },
  {
   "cell_type": "code",
   "execution_count": 77,
   "metadata": {},
   "outputs": [],
   "source": [
    "\n",
    "def remove_urls(text):\n",
    "    # Regular expression pattern to match URLs\n",
    "    url_pattern = r'http[s]?://\\S+|www\\.\\S+'\n",
    "    return re.sub(url_pattern, '', text)\n",
    "\n",
    "df['text'] = df['text'].apply(remove_urls)"
   ]
  },
  {
   "cell_type": "markdown",
   "metadata": {},
   "source": [
    "#### Lower Casing Text"
   ]
  },
  {
   "cell_type": "code",
   "execution_count": 78,
   "metadata": {},
   "outputs": [
    {
     "data": {
      "text/html": [
       "<div>\n",
       "<style scoped>\n",
       "    .dataframe tbody tr th:only-of-type {\n",
       "        vertical-align: middle;\n",
       "    }\n",
       "\n",
       "    .dataframe tbody tr th {\n",
       "        vertical-align: top;\n",
       "    }\n",
       "\n",
       "    .dataframe thead th {\n",
       "        text-align: right;\n",
       "    }\n",
       "</style>\n",
       "<table border=\"1\" class=\"dataframe\">\n",
       "  <thead>\n",
       "    <tr style=\"text-align: right;\">\n",
       "      <th></th>\n",
       "      <th>text</th>\n",
       "      <th>target</th>\n",
       "    </tr>\n",
       "  </thead>\n",
       "  <tbody>\n",
       "    <tr>\n",
       "      <th>0</th>\n",
       "      <td>communal violence in bhainsa, telangana. \"stones were pelted on muslims' houses and some houses and vehicles were set ablaze…</td>\n",
       "      <td>1</td>\n",
       "    </tr>\n",
       "    <tr>\n",
       "      <th>1</th>\n",
       "      <td>telangana: section 144 has been imposed in bhainsa from january 13 to 15, after clash erupted between two groups on january 12. po…</td>\n",
       "      <td>1</td>\n",
       "    </tr>\n",
       "    <tr>\n",
       "      <th>2</th>\n",
       "      <td>arsonist sets cars ablaze at dealership</td>\n",
       "      <td>1</td>\n",
       "    </tr>\n",
       "    <tr>\n",
       "      <th>3</th>\n",
       "      <td>arsonist sets cars ablaze at dealership</td>\n",
       "      <td>1</td>\n",
       "    </tr>\n",
       "    <tr>\n",
       "      <th>4</th>\n",
       "      <td>\"lord jesus, your love brings freedom and pardon. fill me with your holy spirit and set my heart ablaze with your l…</td>\n",
       "      <td>0</td>\n",
       "    </tr>\n",
       "  </tbody>\n",
       "</table>\n",
       "</div>"
      ],
      "text/plain": [
       "                                                                                                                                  text  \\\n",
       "0  communal violence in bhainsa, telangana. \"stones were pelted on muslims' houses and some houses and vehicles were set ablaze…         \n",
       "1  telangana: section 144 has been imposed in bhainsa from january 13 to 15, after clash erupted between two groups on january 12. po…   \n",
       "2  arsonist sets cars ablaze at dealership                                                                                               \n",
       "3  arsonist sets cars ablaze at dealership                                                                                               \n",
       "4  \"lord jesus, your love brings freedom and pardon. fill me with your holy spirit and set my heart ablaze with your l…                  \n",
       "\n",
       "   target  \n",
       "0  1       \n",
       "1  1       \n",
       "2  1       \n",
       "3  1       \n",
       "4  0       "
      ]
     },
     "execution_count": 78,
     "metadata": {},
     "output_type": "execute_result"
    }
   ],
   "source": [
    "# Way 1\n",
    "df['text'] = df['text'].str.lower()\n",
    "\n",
    "# Way 2\n",
    "# df['text'] = df['text'].apply(str.lower)\n",
    "\n",
    "# Way 3\n",
    "# df['text'] = df['text'].map(str.lower)\n",
    "\n",
    "# Way 4\n",
    "# df['text'] = df['text'].apply(lambda x: x.lower())\n",
    "\n",
    "df.head(5)"
   ]
  },
  {
   "cell_type": "markdown",
   "metadata": {},
   "source": [
    "#### Removing Numbers"
   ]
  },
  {
   "cell_type": "code",
   "execution_count": 79,
   "metadata": {},
   "outputs": [
    {
     "data": {
      "text/html": [
       "<div>\n",
       "<style scoped>\n",
       "    .dataframe tbody tr th:only-of-type {\n",
       "        vertical-align: middle;\n",
       "    }\n",
       "\n",
       "    .dataframe tbody tr th {\n",
       "        vertical-align: top;\n",
       "    }\n",
       "\n",
       "    .dataframe thead th {\n",
       "        text-align: right;\n",
       "    }\n",
       "</style>\n",
       "<table border=\"1\" class=\"dataframe\">\n",
       "  <thead>\n",
       "    <tr style=\"text-align: right;\">\n",
       "      <th></th>\n",
       "      <th>text</th>\n",
       "      <th>target</th>\n",
       "    </tr>\n",
       "  </thead>\n",
       "  <tbody>\n",
       "    <tr>\n",
       "      <th>0</th>\n",
       "      <td>communal violence in bhainsa, telangana. \"stones were pelted on muslims' houses and some houses and vehicles were set ablaze…</td>\n",
       "      <td>1</td>\n",
       "    </tr>\n",
       "    <tr>\n",
       "      <th>1</th>\n",
       "      <td>telangana: section  has been imposed in bhainsa from january  to , after clash erupted between two groups on january . po…</td>\n",
       "      <td>1</td>\n",
       "    </tr>\n",
       "    <tr>\n",
       "      <th>2</th>\n",
       "      <td>arsonist sets cars ablaze at dealership</td>\n",
       "      <td>1</td>\n",
       "    </tr>\n",
       "    <tr>\n",
       "      <th>3</th>\n",
       "      <td>arsonist sets cars ablaze at dealership</td>\n",
       "      <td>1</td>\n",
       "    </tr>\n",
       "    <tr>\n",
       "      <th>4</th>\n",
       "      <td>\"lord jesus, your love brings freedom and pardon. fill me with your holy spirit and set my heart ablaze with your l…</td>\n",
       "      <td>0</td>\n",
       "    </tr>\n",
       "  </tbody>\n",
       "</table>\n",
       "</div>"
      ],
      "text/plain": [
       "                                                                                                                            text  \\\n",
       "0  communal violence in bhainsa, telangana. \"stones were pelted on muslims' houses and some houses and vehicles were set ablaze…   \n",
       "1  telangana: section  has been imposed in bhainsa from january  to , after clash erupted between two groups on january . po…      \n",
       "2  arsonist sets cars ablaze at dealership                                                                                         \n",
       "3  arsonist sets cars ablaze at dealership                                                                                         \n",
       "4  \"lord jesus, your love brings freedom and pardon. fill me with your holy spirit and set my heart ablaze with your l…            \n",
       "\n",
       "   target  \n",
       "0  1       \n",
       "1  1       \n",
       "2  1       \n",
       "3  1       \n",
       "4  0       "
      ]
     },
     "execution_count": 79,
     "metadata": {},
     "output_type": "execute_result"
    }
   ],
   "source": [
    "df['text'] = df['text'].str.replace(r'[0-9]', '', regex=True)\n",
    "df.head(5)"
   ]
  },
  {
   "cell_type": "markdown",
   "metadata": {},
   "source": [
    "#### Changing Contractions"
   ]
  },
  {
   "cell_type": "code",
   "execution_count": 80,
   "metadata": {},
   "outputs": [
    {
     "data": {
      "text/html": [
       "<div>\n",
       "<style scoped>\n",
       "    .dataframe tbody tr th:only-of-type {\n",
       "        vertical-align: middle;\n",
       "    }\n",
       "\n",
       "    .dataframe tbody tr th {\n",
       "        vertical-align: top;\n",
       "    }\n",
       "\n",
       "    .dataframe thead th {\n",
       "        text-align: right;\n",
       "    }\n",
       "</style>\n",
       "<table border=\"1\" class=\"dataframe\">\n",
       "  <thead>\n",
       "    <tr style=\"text-align: right;\">\n",
       "      <th></th>\n",
       "      <th>text</th>\n",
       "      <th>target</th>\n",
       "    </tr>\n",
       "  </thead>\n",
       "  <tbody>\n",
       "    <tr>\n",
       "      <th>0</th>\n",
       "      <td>communal violence in bhainsa, telangana. \"stones were pelted on muslims' houses and some houses and vehicles were set ablaze…</td>\n",
       "      <td>1</td>\n",
       "    </tr>\n",
       "    <tr>\n",
       "      <th>1</th>\n",
       "      <td>telangana: section  has been imposed in bhainsa from january  to , after clash erupted between two groups on january . po…</td>\n",
       "      <td>1</td>\n",
       "    </tr>\n",
       "    <tr>\n",
       "      <th>2</th>\n",
       "      <td>arsonist sets cars ablaze at dealership</td>\n",
       "      <td>1</td>\n",
       "    </tr>\n",
       "    <tr>\n",
       "      <th>3</th>\n",
       "      <td>arsonist sets cars ablaze at dealership</td>\n",
       "      <td>1</td>\n",
       "    </tr>\n",
       "    <tr>\n",
       "      <th>4</th>\n",
       "      <td>\"lord jesus, your love brings freedom and pardon. fill me with your holy spirit and set my heart ablaze with your l…</td>\n",
       "      <td>0</td>\n",
       "    </tr>\n",
       "  </tbody>\n",
       "</table>\n",
       "</div>"
      ],
      "text/plain": [
       "                                                                                                                            text  \\\n",
       "0  communal violence in bhainsa, telangana. \"stones were pelted on muslims' houses and some houses and vehicles were set ablaze…   \n",
       "1  telangana: section  has been imposed in bhainsa from january  to , after clash erupted between two groups on january . po…      \n",
       "2  arsonist sets cars ablaze at dealership                                                                                         \n",
       "3  arsonist sets cars ablaze at dealership                                                                                         \n",
       "4  \"lord jesus, your love brings freedom and pardon. fill me with your holy spirit and set my heart ablaze with your l…            \n",
       "\n",
       "   target  \n",
       "0  1       \n",
       "1  1       \n",
       "2  1       \n",
       "3  1       \n",
       "4  0       "
      ]
     },
     "execution_count": 80,
     "metadata": {},
     "output_type": "execute_result"
    }
   ],
   "source": [
    "import contractions\n",
    "\n",
    "def expand_contractions(text):\n",
    "    return contractions.fix(text)\n",
    "\n",
    "\n",
    "df['text'] = df['text'].apply(expand_contractions)\n",
    "df.head()"
   ]
  },
  {
   "cell_type": "markdown",
   "metadata": {},
   "source": [
    "#### Punctuation & Special Characters Removal"
   ]
  },
  {
   "cell_type": "code",
   "execution_count": 81,
   "metadata": {},
   "outputs": [
    {
     "data": {
      "text/html": [
       "<div>\n",
       "<style scoped>\n",
       "    .dataframe tbody tr th:only-of-type {\n",
       "        vertical-align: middle;\n",
       "    }\n",
       "\n",
       "    .dataframe tbody tr th {\n",
       "        vertical-align: top;\n",
       "    }\n",
       "\n",
       "    .dataframe thead th {\n",
       "        text-align: right;\n",
       "    }\n",
       "</style>\n",
       "<table border=\"1\" class=\"dataframe\">\n",
       "  <thead>\n",
       "    <tr style=\"text-align: right;\">\n",
       "      <th></th>\n",
       "      <th>text</th>\n",
       "      <th>target</th>\n",
       "    </tr>\n",
       "  </thead>\n",
       "  <tbody>\n",
       "    <tr>\n",
       "      <th>0</th>\n",
       "      <td>communal violence in bhainsa telangana stones were pelted on muslims houses and some houses and vehicles were set ablaze</td>\n",
       "      <td>1</td>\n",
       "    </tr>\n",
       "    <tr>\n",
       "      <th>1</th>\n",
       "      <td>telangana section  has been imposed in bhainsa from january  to  after clash erupted between two groups on january  po</td>\n",
       "      <td>1</td>\n",
       "    </tr>\n",
       "    <tr>\n",
       "      <th>2</th>\n",
       "      <td>arsonist sets cars ablaze at dealership</td>\n",
       "      <td>1</td>\n",
       "    </tr>\n",
       "    <tr>\n",
       "      <th>3</th>\n",
       "      <td>arsonist sets cars ablaze at dealership</td>\n",
       "      <td>1</td>\n",
       "    </tr>\n",
       "    <tr>\n",
       "      <th>4</th>\n",
       "      <td>lord jesus your love brings freedom and pardon fill me with your holy spirit and set my heart ablaze with your l</td>\n",
       "      <td>0</td>\n",
       "    </tr>\n",
       "  </tbody>\n",
       "</table>\n",
       "</div>"
      ],
      "text/plain": [
       "                                                                                                                       text  \\\n",
       "0  communal violence in bhainsa telangana stones were pelted on muslims houses and some houses and vehicles were set ablaze   \n",
       "1  telangana section  has been imposed in bhainsa from january  to  after clash erupted between two groups on january  po     \n",
       "2  arsonist sets cars ablaze at dealership                                                                                    \n",
       "3  arsonist sets cars ablaze at dealership                                                                                    \n",
       "4  lord jesus your love brings freedom and pardon fill me with your holy spirit and set my heart ablaze with your l           \n",
       "\n",
       "   target  \n",
       "0  1       \n",
       "1  1       \n",
       "2  1       \n",
       "3  1       \n",
       "4  0       "
      ]
     },
     "execution_count": 81,
     "metadata": {},
     "output_type": "execute_result"
    }
   ],
   "source": [
    "# Way 1\n",
    "df['text'] = df['text'].str.replace(r'[^\\w\\s]', '', regex=True)\n",
    "df.head(5)"
   ]
  },
  {
   "cell_type": "markdown",
   "metadata": {},
   "source": [
    "# Tokenization"
   ]
  },
  {
   "cell_type": "markdown",
   "metadata": {},
   "source": [
    "#### Word-Level Tokenization"
   ]
  },
  {
   "cell_type": "code",
   "execution_count": 82,
   "metadata": {},
   "outputs": [
    {
     "name": "stderr",
     "output_type": "stream",
     "text": [
      "[nltk_data] Downloading package punkt to\n",
      "[nltk_data]     C:\\Users\\Administrator\\AppData\\Roaming\\nltk_data...\n",
      "[nltk_data]   Package punkt is already up-to-date!\n"
     ]
    },
    {
     "data": {
      "text/plain": [
       "True"
      ]
     },
     "execution_count": 82,
     "metadata": {},
     "output_type": "execute_result"
    }
   ],
   "source": [
    "import nltk\n",
    "from nltk.tokenize import sent_tokenize, word_tokenize\n",
    "\n",
    "nltk.download('punkt')"
   ]
  },
  {
   "cell_type": "code",
   "execution_count": 83,
   "metadata": {},
   "outputs": [
    {
     "name": "stderr",
     "output_type": "stream",
     "text": [
      "[nltk_data] Downloading package punkt_tab to\n",
      "[nltk_data]     C:\\Users\\Administrator\\AppData\\Roaming\\nltk_data...\n",
      "[nltk_data]   Package punkt_tab is already up-to-date!\n"
     ]
    }
   ],
   "source": [
    "nltk.download('punkt_tab')\n",
    "df['word_token'] = df['text'].apply(word_tokenize)"
   ]
  },
  {
   "cell_type": "code",
   "execution_count": 84,
   "metadata": {},
   "outputs": [
    {
     "data": {
      "text/html": [
       "<div>\n",
       "<style scoped>\n",
       "    .dataframe tbody tr th:only-of-type {\n",
       "        vertical-align: middle;\n",
       "    }\n",
       "\n",
       "    .dataframe tbody tr th {\n",
       "        vertical-align: top;\n",
       "    }\n",
       "\n",
       "    .dataframe thead th {\n",
       "        text-align: right;\n",
       "    }\n",
       "</style>\n",
       "<table border=\"1\" class=\"dataframe\">\n",
       "  <thead>\n",
       "    <tr style=\"text-align: right;\">\n",
       "      <th></th>\n",
       "      <th>text</th>\n",
       "      <th>target</th>\n",
       "      <th>word_token</th>\n",
       "    </tr>\n",
       "  </thead>\n",
       "  <tbody>\n",
       "    <tr>\n",
       "      <th>0</th>\n",
       "      <td>communal violence in bhainsa telangana stones were pelted on muslims houses and some houses and vehicles were set ablaze</td>\n",
       "      <td>1</td>\n",
       "      <td>[communal, violence, in, bhainsa, telangana, stones, were, pelted, on, muslims, houses, and, some, houses, and, vehicles, were, set, ablaze]</td>\n",
       "    </tr>\n",
       "    <tr>\n",
       "      <th>1</th>\n",
       "      <td>telangana section  has been imposed in bhainsa from january  to  after clash erupted between two groups on january  po</td>\n",
       "      <td>1</td>\n",
       "      <td>[telangana, section, has, been, imposed, in, bhainsa, from, january, to, after, clash, erupted, between, two, groups, on, january, po]</td>\n",
       "    </tr>\n",
       "    <tr>\n",
       "      <th>2</th>\n",
       "      <td>arsonist sets cars ablaze at dealership</td>\n",
       "      <td>1</td>\n",
       "      <td>[arsonist, sets, cars, ablaze, at, dealership]</td>\n",
       "    </tr>\n",
       "    <tr>\n",
       "      <th>3</th>\n",
       "      <td>arsonist sets cars ablaze at dealership</td>\n",
       "      <td>1</td>\n",
       "      <td>[arsonist, sets, cars, ablaze, at, dealership]</td>\n",
       "    </tr>\n",
       "    <tr>\n",
       "      <th>4</th>\n",
       "      <td>lord jesus your love brings freedom and pardon fill me with your holy spirit and set my heart ablaze with your l</td>\n",
       "      <td>0</td>\n",
       "      <td>[lord, jesus, your, love, brings, freedom, and, pardon, fill, me, with, your, holy, spirit, and, set, my, heart, ablaze, with, your, l]</td>\n",
       "    </tr>\n",
       "  </tbody>\n",
       "</table>\n",
       "</div>"
      ],
      "text/plain": [
       "                                                                                                                       text  \\\n",
       "0  communal violence in bhainsa telangana stones were pelted on muslims houses and some houses and vehicles were set ablaze   \n",
       "1  telangana section  has been imposed in bhainsa from january  to  after clash erupted between two groups on january  po     \n",
       "2  arsonist sets cars ablaze at dealership                                                                                    \n",
       "3  arsonist sets cars ablaze at dealership                                                                                    \n",
       "4  lord jesus your love brings freedom and pardon fill me with your holy spirit and set my heart ablaze with your l           \n",
       "\n",
       "   target  \\\n",
       "0  1        \n",
       "1  1        \n",
       "2  1        \n",
       "3  1        \n",
       "4  0        \n",
       "\n",
       "                                                                                                                                     word_token  \n",
       "0  [communal, violence, in, bhainsa, telangana, stones, were, pelted, on, muslims, houses, and, some, houses, and, vehicles, were, set, ablaze]  \n",
       "1  [telangana, section, has, been, imposed, in, bhainsa, from, january, to, after, clash, erupted, between, two, groups, on, january, po]        \n",
       "2  [arsonist, sets, cars, ablaze, at, dealership]                                                                                                \n",
       "3  [arsonist, sets, cars, ablaze, at, dealership]                                                                                                \n",
       "4  [lord, jesus, your, love, brings, freedom, and, pardon, fill, me, with, your, holy, spirit, and, set, my, heart, ablaze, with, your, l]       "
      ]
     },
     "execution_count": 84,
     "metadata": {},
     "output_type": "execute_result"
    }
   ],
   "source": [
    "df.head()"
   ]
  },
  {
   "cell_type": "markdown",
   "metadata": {},
   "source": [
    "#### Sentence-Level Tokenization"
   ]
  },
  {
   "cell_type": "code",
   "execution_count": 85,
   "metadata": {},
   "outputs": [],
   "source": [
    "\n",
    "# df['sent_token'] = df['text'].apply(sent_tokenize)\n",
    "# df.head()"
   ]
  },
  {
   "cell_type": "markdown",
   "metadata": {},
   "source": [
    "#### Stop words Removal"
   ]
  },
  {
   "cell_type": "code",
   "execution_count": 86,
   "metadata": {},
   "outputs": [
    {
     "name": "stderr",
     "output_type": "stream",
     "text": [
      "[nltk_data] Downloading package stopwords to\n",
      "[nltk_data]     C:\\Users\\Administrator\\AppData\\Roaming\\nltk_data...\n",
      "[nltk_data]   Package stopwords is already up-to-date!\n"
     ]
    },
    {
     "data": {
      "text/plain": [
       "True"
      ]
     },
     "execution_count": 86,
     "metadata": {},
     "output_type": "execute_result"
    }
   ],
   "source": [
    "from nltk.corpus import stopwords\n",
    "nltk.download('stopwords')"
   ]
  },
  {
   "cell_type": "code",
   "execution_count": 87,
   "metadata": {},
   "outputs": [
    {
     "data": {
      "text/html": [
       "<div>\n",
       "<style scoped>\n",
       "    .dataframe tbody tr th:only-of-type {\n",
       "        vertical-align: middle;\n",
       "    }\n",
       "\n",
       "    .dataframe tbody tr th {\n",
       "        vertical-align: top;\n",
       "    }\n",
       "\n",
       "    .dataframe thead th {\n",
       "        text-align: right;\n",
       "    }\n",
       "</style>\n",
       "<table border=\"1\" class=\"dataframe\">\n",
       "  <thead>\n",
       "    <tr style=\"text-align: right;\">\n",
       "      <th></th>\n",
       "      <th>text</th>\n",
       "      <th>target</th>\n",
       "      <th>word_token</th>\n",
       "      <th>Cleaned_Text</th>\n",
       "    </tr>\n",
       "  </thead>\n",
       "  <tbody>\n",
       "    <tr>\n",
       "      <th>0</th>\n",
       "      <td>communal violence in bhainsa telangana stones were pelted on muslims houses and some houses and vehicles were set ablaze</td>\n",
       "      <td>1</td>\n",
       "      <td>[communal, violence, in, bhainsa, telangana, stones, were, pelted, on, muslims, houses, and, some, houses, and, vehicles, were, set, ablaze]</td>\n",
       "      <td>communal violence bhainsa telangana stones pelted muslims houses houses vehicles set ablaze</td>\n",
       "    </tr>\n",
       "    <tr>\n",
       "      <th>1</th>\n",
       "      <td>telangana section  has been imposed in bhainsa from january  to  after clash erupted between two groups on january  po</td>\n",
       "      <td>1</td>\n",
       "      <td>[telangana, section, has, been, imposed, in, bhainsa, from, january, to, after, clash, erupted, between, two, groups, on, january, po]</td>\n",
       "      <td>telangana section imposed bhainsa january clash erupted two groups january po</td>\n",
       "    </tr>\n",
       "    <tr>\n",
       "      <th>2</th>\n",
       "      <td>arsonist sets cars ablaze at dealership</td>\n",
       "      <td>1</td>\n",
       "      <td>[arsonist, sets, cars, ablaze, at, dealership]</td>\n",
       "      <td>arsonist sets cars ablaze dealership</td>\n",
       "    </tr>\n",
       "    <tr>\n",
       "      <th>3</th>\n",
       "      <td>arsonist sets cars ablaze at dealership</td>\n",
       "      <td>1</td>\n",
       "      <td>[arsonist, sets, cars, ablaze, at, dealership]</td>\n",
       "      <td>arsonist sets cars ablaze dealership</td>\n",
       "    </tr>\n",
       "    <tr>\n",
       "      <th>4</th>\n",
       "      <td>lord jesus your love brings freedom and pardon fill me with your holy spirit and set my heart ablaze with your l</td>\n",
       "      <td>0</td>\n",
       "      <td>[lord, jesus, your, love, brings, freedom, and, pardon, fill, me, with, your, holy, spirit, and, set, my, heart, ablaze, with, your, l]</td>\n",
       "      <td>lord jesus love brings freedom pardon fill holy spirit set heart ablaze l</td>\n",
       "    </tr>\n",
       "  </tbody>\n",
       "</table>\n",
       "</div>"
      ],
      "text/plain": [
       "                                                                                                                       text  \\\n",
       "0  communal violence in bhainsa telangana stones were pelted on muslims houses and some houses and vehicles were set ablaze   \n",
       "1  telangana section  has been imposed in bhainsa from january  to  after clash erupted between two groups on january  po     \n",
       "2  arsonist sets cars ablaze at dealership                                                                                    \n",
       "3  arsonist sets cars ablaze at dealership                                                                                    \n",
       "4  lord jesus your love brings freedom and pardon fill me with your holy spirit and set my heart ablaze with your l           \n",
       "\n",
       "   target  \\\n",
       "0  1        \n",
       "1  1        \n",
       "2  1        \n",
       "3  1        \n",
       "4  0        \n",
       "\n",
       "                                                                                                                                     word_token  \\\n",
       "0  [communal, violence, in, bhainsa, telangana, stones, were, pelted, on, muslims, houses, and, some, houses, and, vehicles, were, set, ablaze]   \n",
       "1  [telangana, section, has, been, imposed, in, bhainsa, from, january, to, after, clash, erupted, between, two, groups, on, january, po]         \n",
       "2  [arsonist, sets, cars, ablaze, at, dealership]                                                                                                 \n",
       "3  [arsonist, sets, cars, ablaze, at, dealership]                                                                                                 \n",
       "4  [lord, jesus, your, love, brings, freedom, and, pardon, fill, me, with, your, holy, spirit, and, set, my, heart, ablaze, with, your, l]        \n",
       "\n",
       "                                                                                  Cleaned_Text  \n",
       "0  communal violence bhainsa telangana stones pelted muslims houses houses vehicles set ablaze  \n",
       "1  telangana section imposed bhainsa january clash erupted two groups january po                \n",
       "2  arsonist sets cars ablaze dealership                                                         \n",
       "3  arsonist sets cars ablaze dealership                                                         \n",
       "4  lord jesus love brings freedom pardon fill holy spirit set heart ablaze l                    "
      ]
     },
     "execution_count": 87,
     "metadata": {},
     "output_type": "execute_result"
    }
   ],
   "source": [
    "stop_words = set(stopwords.words('english'))\n",
    "\n",
    "def remove_stop_words(sentence):\n",
    "    return ' '.join([word for word in sentence.split() if word.lower() not in stop_words])\n",
    "\n",
    "df['Cleaned_Text'] = df['text'].apply(remove_stop_words)\n",
    "df.head()"
   ]
  },
  {
   "cell_type": "markdown",
   "metadata": {},
   "source": [
    "#### Lemmatization"
   ]
  },
  {
   "cell_type": "code",
   "execution_count": 88,
   "metadata": {},
   "outputs": [
    {
     "name": "stderr",
     "output_type": "stream",
     "text": [
      "[nltk_data] Downloading package wordnet to\n",
      "[nltk_data]     C:\\Users\\Administrator\\AppData\\Roaming\\nltk_data...\n",
      "[nltk_data]   Package wordnet is already up-to-date!\n"
     ]
    },
    {
     "data": {
      "text/plain": [
       "True"
      ]
     },
     "execution_count": 88,
     "metadata": {},
     "output_type": "execute_result"
    }
   ],
   "source": [
    "from nltk.stem import WordNetLemmatizer\n",
    "nltk.download('wordnet')"
   ]
  },
  {
   "cell_type": "code",
   "execution_count": 89,
   "metadata": {},
   "outputs": [
    {
     "data": {
      "text/html": [
       "<div>\n",
       "<style scoped>\n",
       "    .dataframe tbody tr th:only-of-type {\n",
       "        vertical-align: middle;\n",
       "    }\n",
       "\n",
       "    .dataframe tbody tr th {\n",
       "        vertical-align: top;\n",
       "    }\n",
       "\n",
       "    .dataframe thead th {\n",
       "        text-align: right;\n",
       "    }\n",
       "</style>\n",
       "<table border=\"1\" class=\"dataframe\">\n",
       "  <thead>\n",
       "    <tr style=\"text-align: right;\">\n",
       "      <th></th>\n",
       "      <th>text</th>\n",
       "      <th>target</th>\n",
       "      <th>word_token</th>\n",
       "      <th>Cleaned_Text</th>\n",
       "      <th>Lemmatized_Text</th>\n",
       "    </tr>\n",
       "  </thead>\n",
       "  <tbody>\n",
       "    <tr>\n",
       "      <th>0</th>\n",
       "      <td>communal violence in bhainsa telangana stones were pelted on muslims houses and some houses and vehicles were set ablaze</td>\n",
       "      <td>1</td>\n",
       "      <td>[communal, violence, in, bhainsa, telangana, stones, were, pelted, on, muslims, houses, and, some, houses, and, vehicles, were, set, ablaze]</td>\n",
       "      <td>communal violence bhainsa telangana stones pelted muslims houses houses vehicles set ablaze</td>\n",
       "      <td>communal violence bhainsa telangana stone pelted muslim house house vehicle set ablaze</td>\n",
       "    </tr>\n",
       "    <tr>\n",
       "      <th>1</th>\n",
       "      <td>telangana section  has been imposed in bhainsa from january  to  after clash erupted between two groups on january  po</td>\n",
       "      <td>1</td>\n",
       "      <td>[telangana, section, has, been, imposed, in, bhainsa, from, january, to, after, clash, erupted, between, two, groups, on, january, po]</td>\n",
       "      <td>telangana section imposed bhainsa january clash erupted two groups january po</td>\n",
       "      <td>telangana section imposed bhainsa january clash erupted two group january po</td>\n",
       "    </tr>\n",
       "    <tr>\n",
       "      <th>2</th>\n",
       "      <td>arsonist sets cars ablaze at dealership</td>\n",
       "      <td>1</td>\n",
       "      <td>[arsonist, sets, cars, ablaze, at, dealership]</td>\n",
       "      <td>arsonist sets cars ablaze dealership</td>\n",
       "      <td>arsonist set car ablaze dealership</td>\n",
       "    </tr>\n",
       "    <tr>\n",
       "      <th>3</th>\n",
       "      <td>arsonist sets cars ablaze at dealership</td>\n",
       "      <td>1</td>\n",
       "      <td>[arsonist, sets, cars, ablaze, at, dealership]</td>\n",
       "      <td>arsonist sets cars ablaze dealership</td>\n",
       "      <td>arsonist set car ablaze dealership</td>\n",
       "    </tr>\n",
       "    <tr>\n",
       "      <th>4</th>\n",
       "      <td>lord jesus your love brings freedom and pardon fill me with your holy spirit and set my heart ablaze with your l</td>\n",
       "      <td>0</td>\n",
       "      <td>[lord, jesus, your, love, brings, freedom, and, pardon, fill, me, with, your, holy, spirit, and, set, my, heart, ablaze, with, your, l]</td>\n",
       "      <td>lord jesus love brings freedom pardon fill holy spirit set heart ablaze l</td>\n",
       "      <td>lord jesus love brings freedom pardon fill holy spirit set heart ablaze l</td>\n",
       "    </tr>\n",
       "  </tbody>\n",
       "</table>\n",
       "</div>"
      ],
      "text/plain": [
       "                                                                                                                       text  \\\n",
       "0  communal violence in bhainsa telangana stones were pelted on muslims houses and some houses and vehicles were set ablaze   \n",
       "1  telangana section  has been imposed in bhainsa from january  to  after clash erupted between two groups on january  po     \n",
       "2  arsonist sets cars ablaze at dealership                                                                                    \n",
       "3  arsonist sets cars ablaze at dealership                                                                                    \n",
       "4  lord jesus your love brings freedom and pardon fill me with your holy spirit and set my heart ablaze with your l           \n",
       "\n",
       "   target  \\\n",
       "0  1        \n",
       "1  1        \n",
       "2  1        \n",
       "3  1        \n",
       "4  0        \n",
       "\n",
       "                                                                                                                                     word_token  \\\n",
       "0  [communal, violence, in, bhainsa, telangana, stones, were, pelted, on, muslims, houses, and, some, houses, and, vehicles, were, set, ablaze]   \n",
       "1  [telangana, section, has, been, imposed, in, bhainsa, from, january, to, after, clash, erupted, between, two, groups, on, january, po]         \n",
       "2  [arsonist, sets, cars, ablaze, at, dealership]                                                                                                 \n",
       "3  [arsonist, sets, cars, ablaze, at, dealership]                                                                                                 \n",
       "4  [lord, jesus, your, love, brings, freedom, and, pardon, fill, me, with, your, holy, spirit, and, set, my, heart, ablaze, with, your, l]        \n",
       "\n",
       "                                                                                  Cleaned_Text  \\\n",
       "0  communal violence bhainsa telangana stones pelted muslims houses houses vehicles set ablaze   \n",
       "1  telangana section imposed bhainsa january clash erupted two groups january po                 \n",
       "2  arsonist sets cars ablaze dealership                                                          \n",
       "3  arsonist sets cars ablaze dealership                                                          \n",
       "4  lord jesus love brings freedom pardon fill holy spirit set heart ablaze l                     \n",
       "\n",
       "                                                                          Lemmatized_Text  \n",
       "0  communal violence bhainsa telangana stone pelted muslim house house vehicle set ablaze  \n",
       "1  telangana section imposed bhainsa january clash erupted two group january po            \n",
       "2  arsonist set car ablaze dealership                                                      \n",
       "3  arsonist set car ablaze dealership                                                      \n",
       "4  lord jesus love brings freedom pardon fill holy spirit set heart ablaze l               "
      ]
     },
     "execution_count": 89,
     "metadata": {},
     "output_type": "execute_result"
    }
   ],
   "source": [
    "lemmatizer = WordNetLemmatizer()\n",
    "\n",
    "def lemmatize_words(sentence):\n",
    "    words = nltk.word_tokenize(sentence)  # Tokenize the sentence into words\n",
    "    return ' '.join([lemmatizer.lemmatize(word) for word in words])  # Lemmatize each word and join them back into a string\n",
    "\n",
    "df['Lemmatized_Text'] = df['Cleaned_Text'].apply(lemmatize_words)\n",
    "df.head()"
   ]
  },
  {
   "cell_type": "markdown",
   "metadata": {},
   "source": [
    "#### POS Tagging"
   ]
  },
  {
   "cell_type": "code",
   "execution_count": 90,
   "metadata": {},
   "outputs": [
    {
     "name": "stderr",
     "output_type": "stream",
     "text": [
      "[nltk_data] Downloading package averaged_perceptron_tagger_eng to\n",
      "[nltk_data]     C:\\Users\\Administrator\\AppData\\Roaming\\nltk_data...\n",
      "[nltk_data]   Package averaged_perceptron_tagger_eng is already up-to-\n",
      "[nltk_data]       date!\n"
     ]
    },
    {
     "data": {
      "text/plain": [
       "True"
      ]
     },
     "execution_count": 90,
     "metadata": {},
     "output_type": "execute_result"
    }
   ],
   "source": [
    "\n",
    "nltk.download('averaged_perceptron_tagger_eng')"
   ]
  },
  {
   "cell_type": "code",
   "execution_count": 91,
   "metadata": {},
   "outputs": [
    {
     "data": {
      "text/html": [
       "<div>\n",
       "<style scoped>\n",
       "    .dataframe tbody tr th:only-of-type {\n",
       "        vertical-align: middle;\n",
       "    }\n",
       "\n",
       "    .dataframe tbody tr th {\n",
       "        vertical-align: top;\n",
       "    }\n",
       "\n",
       "    .dataframe thead th {\n",
       "        text-align: right;\n",
       "    }\n",
       "</style>\n",
       "<table border=\"1\" class=\"dataframe\">\n",
       "  <thead>\n",
       "    <tr style=\"text-align: right;\">\n",
       "      <th></th>\n",
       "      <th>text</th>\n",
       "      <th>target</th>\n",
       "      <th>word_token</th>\n",
       "      <th>Cleaned_Text</th>\n",
       "      <th>Lemmatized_Text</th>\n",
       "      <th>POS_Tags</th>\n",
       "    </tr>\n",
       "  </thead>\n",
       "  <tbody>\n",
       "    <tr>\n",
       "      <th>0</th>\n",
       "      <td>communal violence in bhainsa telangana stones were pelted on muslims houses and some houses and vehicles were set ablaze</td>\n",
       "      <td>1</td>\n",
       "      <td>[communal, violence, in, bhainsa, telangana, stones, were, pelted, on, muslims, houses, and, some, houses, and, vehicles, were, set, ablaze]</td>\n",
       "      <td>communal violence bhainsa telangana stones pelted muslims houses houses vehicles set ablaze</td>\n",
       "      <td>communal violence bhainsa telangana stone pelted muslim house house vehicle set ablaze</td>\n",
       "      <td>[(communal, JJ), (violence, NN), (bhainsa, NN), (telangana, NN), (stone, NN), (pelted, VBD), (muslim, JJ), (house, NN), (house, NN), (vehicle, NN), (set, VBN), (ablaze, NN)]</td>\n",
       "    </tr>\n",
       "    <tr>\n",
       "      <th>1</th>\n",
       "      <td>telangana section  has been imposed in bhainsa from january  to  after clash erupted between two groups on january  po</td>\n",
       "      <td>1</td>\n",
       "      <td>[telangana, section, has, been, imposed, in, bhainsa, from, january, to, after, clash, erupted, between, two, groups, on, january, po]</td>\n",
       "      <td>telangana section imposed bhainsa january clash erupted two groups january po</td>\n",
       "      <td>telangana section imposed bhainsa january clash erupted two group january po</td>\n",
       "      <td>[(telangana, JJ), (section, NN), (imposed, VBN), (bhainsa, IN), (january, JJ), (clash, NN), (erupted, VBD), (two, CD), (group, NN), (january, JJ), (po, NN)]</td>\n",
       "    </tr>\n",
       "    <tr>\n",
       "      <th>2</th>\n",
       "      <td>arsonist sets cars ablaze at dealership</td>\n",
       "      <td>1</td>\n",
       "      <td>[arsonist, sets, cars, ablaze, at, dealership]</td>\n",
       "      <td>arsonist sets cars ablaze dealership</td>\n",
       "      <td>arsonist set car ablaze dealership</td>\n",
       "      <td>[(arsonist, NN), (set, NN), (car, NN), (ablaze, NN), (dealership, NN)]</td>\n",
       "    </tr>\n",
       "    <tr>\n",
       "      <th>3</th>\n",
       "      <td>arsonist sets cars ablaze at dealership</td>\n",
       "      <td>1</td>\n",
       "      <td>[arsonist, sets, cars, ablaze, at, dealership]</td>\n",
       "      <td>arsonist sets cars ablaze dealership</td>\n",
       "      <td>arsonist set car ablaze dealership</td>\n",
       "      <td>[(arsonist, NN), (set, NN), (car, NN), (ablaze, NN), (dealership, NN)]</td>\n",
       "    </tr>\n",
       "    <tr>\n",
       "      <th>4</th>\n",
       "      <td>lord jesus your love brings freedom and pardon fill me with your holy spirit and set my heart ablaze with your l</td>\n",
       "      <td>0</td>\n",
       "      <td>[lord, jesus, your, love, brings, freedom, and, pardon, fill, me, with, your, holy, spirit, and, set, my, heart, ablaze, with, your, l]</td>\n",
       "      <td>lord jesus love brings freedom pardon fill holy spirit set heart ablaze l</td>\n",
       "      <td>lord jesus love brings freedom pardon fill holy spirit set heart ablaze l</td>\n",
       "      <td>[(lord, NN), (jesus, NN), (love, VBP), (brings, NNS), (freedom, NN), (pardon, NN), (fill, NN), (holy, JJ), (spirit, NN), (set, VBN), (heart, NN), (ablaze, NN), (l, NN)]</td>\n",
       "    </tr>\n",
       "  </tbody>\n",
       "</table>\n",
       "</div>"
      ],
      "text/plain": [
       "                                                                                                                       text  \\\n",
       "0  communal violence in bhainsa telangana stones were pelted on muslims houses and some houses and vehicles were set ablaze   \n",
       "1  telangana section  has been imposed in bhainsa from january  to  after clash erupted between two groups on january  po     \n",
       "2  arsonist sets cars ablaze at dealership                                                                                    \n",
       "3  arsonist sets cars ablaze at dealership                                                                                    \n",
       "4  lord jesus your love brings freedom and pardon fill me with your holy spirit and set my heart ablaze with your l           \n",
       "\n",
       "   target  \\\n",
       "0  1        \n",
       "1  1        \n",
       "2  1        \n",
       "3  1        \n",
       "4  0        \n",
       "\n",
       "                                                                                                                                     word_token  \\\n",
       "0  [communal, violence, in, bhainsa, telangana, stones, were, pelted, on, muslims, houses, and, some, houses, and, vehicles, were, set, ablaze]   \n",
       "1  [telangana, section, has, been, imposed, in, bhainsa, from, january, to, after, clash, erupted, between, two, groups, on, january, po]         \n",
       "2  [arsonist, sets, cars, ablaze, at, dealership]                                                                                                 \n",
       "3  [arsonist, sets, cars, ablaze, at, dealership]                                                                                                 \n",
       "4  [lord, jesus, your, love, brings, freedom, and, pardon, fill, me, with, your, holy, spirit, and, set, my, heart, ablaze, with, your, l]        \n",
       "\n",
       "                                                                                  Cleaned_Text  \\\n",
       "0  communal violence bhainsa telangana stones pelted muslims houses houses vehicles set ablaze   \n",
       "1  telangana section imposed bhainsa january clash erupted two groups january po                 \n",
       "2  arsonist sets cars ablaze dealership                                                          \n",
       "3  arsonist sets cars ablaze dealership                                                          \n",
       "4  lord jesus love brings freedom pardon fill holy spirit set heart ablaze l                     \n",
       "\n",
       "                                                                          Lemmatized_Text  \\\n",
       "0  communal violence bhainsa telangana stone pelted muslim house house vehicle set ablaze   \n",
       "1  telangana section imposed bhainsa january clash erupted two group january po             \n",
       "2  arsonist set car ablaze dealership                                                       \n",
       "3  arsonist set car ablaze dealership                                                       \n",
       "4  lord jesus love brings freedom pardon fill holy spirit set heart ablaze l                \n",
       "\n",
       "                                                                                                                                                                        POS_Tags  \n",
       "0  [(communal, JJ), (violence, NN), (bhainsa, NN), (telangana, NN), (stone, NN), (pelted, VBD), (muslim, JJ), (house, NN), (house, NN), (vehicle, NN), (set, VBN), (ablaze, NN)]  \n",
       "1  [(telangana, JJ), (section, NN), (imposed, VBN), (bhainsa, IN), (january, JJ), (clash, NN), (erupted, VBD), (two, CD), (group, NN), (january, JJ), (po, NN)]                   \n",
       "2  [(arsonist, NN), (set, NN), (car, NN), (ablaze, NN), (dealership, NN)]                                                                                                         \n",
       "3  [(arsonist, NN), (set, NN), (car, NN), (ablaze, NN), (dealership, NN)]                                                                                                         \n",
       "4  [(lord, NN), (jesus, NN), (love, VBP), (brings, NNS), (freedom, NN), (pardon, NN), (fill, NN), (holy, JJ), (spirit, NN), (set, VBN), (heart, NN), (ablaze, NN), (l, NN)]       "
      ]
     },
     "execution_count": 91,
     "metadata": {},
     "output_type": "execute_result"
    }
   ],
   "source": [
    "def pos_tag_sentence(sentence):\n",
    "    words = nltk.word_tokenize(sentence)  # Tokenize the sentence into words\n",
    "    return nltk.pos_tag(words)  # Perform POS tagging\n",
    "\n",
    "# Apply the function to the 'Text' column\n",
    "df['POS_Tags'] = df['Lemmatized_Text'].apply(pos_tag_sentence)\n",
    "df.head()"
   ]
  },
  {
   "cell_type": "markdown",
   "metadata": {},
   "source": [
    "#### Named Entity Recognition"
   ]
  },
  {
   "cell_type": "code",
   "execution_count": 92,
   "metadata": {},
   "outputs": [],
   "source": [
    "import spacy\n",
    "nlp = spacy.load('en_core_web_sm')"
   ]
  },
  {
   "cell_type": "code",
   "execution_count": 93,
   "metadata": {},
   "outputs": [
    {
     "data": {
      "text/html": [
       "<div>\n",
       "<style scoped>\n",
       "    .dataframe tbody tr th:only-of-type {\n",
       "        vertical-align: middle;\n",
       "    }\n",
       "\n",
       "    .dataframe tbody tr th {\n",
       "        vertical-align: top;\n",
       "    }\n",
       "\n",
       "    .dataframe thead th {\n",
       "        text-align: right;\n",
       "    }\n",
       "</style>\n",
       "<table border=\"1\" class=\"dataframe\">\n",
       "  <thead>\n",
       "    <tr style=\"text-align: right;\">\n",
       "      <th></th>\n",
       "      <th>text</th>\n",
       "      <th>target</th>\n",
       "      <th>word_token</th>\n",
       "      <th>Cleaned_Text</th>\n",
       "      <th>Lemmatized_Text</th>\n",
       "      <th>POS_Tags</th>\n",
       "      <th>Named_Entities</th>\n",
       "    </tr>\n",
       "  </thead>\n",
       "  <tbody>\n",
       "    <tr>\n",
       "      <th>0</th>\n",
       "      <td>communal violence in bhainsa telangana stones were pelted on muslims houses and some houses and vehicles were set ablaze</td>\n",
       "      <td>1</td>\n",
       "      <td>[communal, violence, in, bhainsa, telangana, stones, were, pelted, on, muslims, houses, and, some, houses, and, vehicles, were, set, ablaze]</td>\n",
       "      <td>communal violence bhainsa telangana stones pelted muslims houses houses vehicles set ablaze</td>\n",
       "      <td>communal violence bhainsa telangana stone pelted muslim house house vehicle set ablaze</td>\n",
       "      <td>[(communal, JJ), (violence, NN), (bhainsa, NN), (telangana, NN), (stone, NN), (pelted, VBD), (muslim, JJ), (house, NN), (house, NN), (vehicle, NN), (set, VBN), (ablaze, NN)]</td>\n",
       "      <td>[(bhainsa telangana stone, PERSON), (muslim house, ORG)]</td>\n",
       "    </tr>\n",
       "    <tr>\n",
       "      <th>1</th>\n",
       "      <td>telangana section  has been imposed in bhainsa from january  to  after clash erupted between two groups on january  po</td>\n",
       "      <td>1</td>\n",
       "      <td>[telangana, section, has, been, imposed, in, bhainsa, from, january, to, after, clash, erupted, between, two, groups, on, january, po]</td>\n",
       "      <td>telangana section imposed bhainsa january clash erupted two groups january po</td>\n",
       "      <td>telangana section imposed bhainsa january clash erupted two group january po</td>\n",
       "      <td>[(telangana, JJ), (section, NN), (imposed, VBN), (bhainsa, IN), (january, JJ), (clash, NN), (erupted, VBD), (two, CD), (group, NN), (january, JJ), (po, NN)]</td>\n",
       "      <td>[(telangana section, PERSON), (january, DATE), (two, CARDINAL), (january, DATE)]</td>\n",
       "    </tr>\n",
       "    <tr>\n",
       "      <th>2</th>\n",
       "      <td>arsonist sets cars ablaze at dealership</td>\n",
       "      <td>1</td>\n",
       "      <td>[arsonist, sets, cars, ablaze, at, dealership]</td>\n",
       "      <td>arsonist sets cars ablaze dealership</td>\n",
       "      <td>arsonist set car ablaze dealership</td>\n",
       "      <td>[(arsonist, NN), (set, NN), (car, NN), (ablaze, NN), (dealership, NN)]</td>\n",
       "      <td>[]</td>\n",
       "    </tr>\n",
       "    <tr>\n",
       "      <th>3</th>\n",
       "      <td>arsonist sets cars ablaze at dealership</td>\n",
       "      <td>1</td>\n",
       "      <td>[arsonist, sets, cars, ablaze, at, dealership]</td>\n",
       "      <td>arsonist sets cars ablaze dealership</td>\n",
       "      <td>arsonist set car ablaze dealership</td>\n",
       "      <td>[(arsonist, NN), (set, NN), (car, NN), (ablaze, NN), (dealership, NN)]</td>\n",
       "      <td>[]</td>\n",
       "    </tr>\n",
       "    <tr>\n",
       "      <th>4</th>\n",
       "      <td>lord jesus your love brings freedom and pardon fill me with your holy spirit and set my heart ablaze with your l</td>\n",
       "      <td>0</td>\n",
       "      <td>[lord, jesus, your, love, brings, freedom, and, pardon, fill, me, with, your, holy, spirit, and, set, my, heart, ablaze, with, your, l]</td>\n",
       "      <td>lord jesus love brings freedom pardon fill holy spirit set heart ablaze l</td>\n",
       "      <td>lord jesus love brings freedom pardon fill holy spirit set heart ablaze l</td>\n",
       "      <td>[(lord, NN), (jesus, NN), (love, VBP), (brings, NNS), (freedom, NN), (pardon, NN), (fill, NN), (holy, JJ), (spirit, NN), (set, VBN), (heart, NN), (ablaze, NN), (l, NN)]</td>\n",
       "      <td>[(jesus, PERSON)]</td>\n",
       "    </tr>\n",
       "  </tbody>\n",
       "</table>\n",
       "</div>"
      ],
      "text/plain": [
       "                                                                                                                       text  \\\n",
       "0  communal violence in bhainsa telangana stones were pelted on muslims houses and some houses and vehicles were set ablaze   \n",
       "1  telangana section  has been imposed in bhainsa from january  to  after clash erupted between two groups on january  po     \n",
       "2  arsonist sets cars ablaze at dealership                                                                                    \n",
       "3  arsonist sets cars ablaze at dealership                                                                                    \n",
       "4  lord jesus your love brings freedom and pardon fill me with your holy spirit and set my heart ablaze with your l           \n",
       "\n",
       "   target  \\\n",
       "0  1        \n",
       "1  1        \n",
       "2  1        \n",
       "3  1        \n",
       "4  0        \n",
       "\n",
       "                                                                                                                                     word_token  \\\n",
       "0  [communal, violence, in, bhainsa, telangana, stones, were, pelted, on, muslims, houses, and, some, houses, and, vehicles, were, set, ablaze]   \n",
       "1  [telangana, section, has, been, imposed, in, bhainsa, from, january, to, after, clash, erupted, between, two, groups, on, january, po]         \n",
       "2  [arsonist, sets, cars, ablaze, at, dealership]                                                                                                 \n",
       "3  [arsonist, sets, cars, ablaze, at, dealership]                                                                                                 \n",
       "4  [lord, jesus, your, love, brings, freedom, and, pardon, fill, me, with, your, holy, spirit, and, set, my, heart, ablaze, with, your, l]        \n",
       "\n",
       "                                                                                  Cleaned_Text  \\\n",
       "0  communal violence bhainsa telangana stones pelted muslims houses houses vehicles set ablaze   \n",
       "1  telangana section imposed bhainsa january clash erupted two groups january po                 \n",
       "2  arsonist sets cars ablaze dealership                                                          \n",
       "3  arsonist sets cars ablaze dealership                                                          \n",
       "4  lord jesus love brings freedom pardon fill holy spirit set heart ablaze l                     \n",
       "\n",
       "                                                                          Lemmatized_Text  \\\n",
       "0  communal violence bhainsa telangana stone pelted muslim house house vehicle set ablaze   \n",
       "1  telangana section imposed bhainsa january clash erupted two group january po             \n",
       "2  arsonist set car ablaze dealership                                                       \n",
       "3  arsonist set car ablaze dealership                                                       \n",
       "4  lord jesus love brings freedom pardon fill holy spirit set heart ablaze l                \n",
       "\n",
       "                                                                                                                                                                        POS_Tags  \\\n",
       "0  [(communal, JJ), (violence, NN), (bhainsa, NN), (telangana, NN), (stone, NN), (pelted, VBD), (muslim, JJ), (house, NN), (house, NN), (vehicle, NN), (set, VBN), (ablaze, NN)]   \n",
       "1  [(telangana, JJ), (section, NN), (imposed, VBN), (bhainsa, IN), (january, JJ), (clash, NN), (erupted, VBD), (two, CD), (group, NN), (january, JJ), (po, NN)]                    \n",
       "2  [(arsonist, NN), (set, NN), (car, NN), (ablaze, NN), (dealership, NN)]                                                                                                          \n",
       "3  [(arsonist, NN), (set, NN), (car, NN), (ablaze, NN), (dealership, NN)]                                                                                                          \n",
       "4  [(lord, NN), (jesus, NN), (love, VBP), (brings, NNS), (freedom, NN), (pardon, NN), (fill, NN), (holy, JJ), (spirit, NN), (set, VBN), (heart, NN), (ablaze, NN), (l, NN)]        \n",
       "\n",
       "                                                                     Named_Entities  \n",
       "0  [(bhainsa telangana stone, PERSON), (muslim house, ORG)]                          \n",
       "1  [(telangana section, PERSON), (january, DATE), (two, CARDINAL), (january, DATE)]  \n",
       "2  []                                                                                \n",
       "3  []                                                                                \n",
       "4  [(jesus, PERSON)]                                                                 "
      ]
     },
     "execution_count": 93,
     "metadata": {},
     "output_type": "execute_result"
    }
   ],
   "source": [
    "def extract_entities(text):\n",
    "    doc = nlp(text)\n",
    "    return [(ent.text, ent.label_) for ent in doc.ents]\n",
    "\n",
    "df['Named_Entities'] = df['Lemmatized_Text'].apply(extract_entities)\n",
    "df.head()"
   ]
  }
 ],
 "metadata": {
  "kernelspec": {
   "display_name": ".venv",
   "language": "python",
   "name": "python3"
  },
  "language_info": {
   "codemirror_mode": {
    "name": "ipython",
    "version": 3
   },
   "file_extension": ".py",
   "mimetype": "text/x-python",
   "name": "python",
   "nbconvert_exporter": "python",
   "pygments_lexer": "ipython3",
   "version": "3.11.4"
  }
 },
 "nbformat": 4,
 "nbformat_minor": 2
}
