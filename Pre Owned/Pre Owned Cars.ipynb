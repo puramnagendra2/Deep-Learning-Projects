{
 "cells": [
  {
   "cell_type": "markdown",
   "id": "fa88d358",
   "metadata": {},
   "source": [
    "# Importing Libraries"
   ]
  },
  {
   "cell_type": "code",
   "execution_count": 1,
   "id": "cbfe1130",
   "metadata": {},
   "outputs": [],
   "source": [
    "import numpy as np\n",
    "import pandas as pd\n",
    "import matplotlib.pyplot as plt\n",
    "import seaborn as sns"
   ]
  },
  {
   "cell_type": "markdown",
   "id": "b72ba36b",
   "metadata": {},
   "source": [
    "# Loading Dataset"
   ]
  },
  {
   "cell_type": "code",
   "execution_count": 2,
   "id": "ea8be728",
   "metadata": {},
   "outputs": [
    {
     "data": {
      "text/html": [
       "<div>\n",
       "<style scoped>\n",
       "    .dataframe tbody tr th:only-of-type {\n",
       "        vertical-align: middle;\n",
       "    }\n",
       "\n",
       "    .dataframe tbody tr th {\n",
       "        vertical-align: top;\n",
       "    }\n",
       "\n",
       "    .dataframe thead th {\n",
       "        text-align: right;\n",
       "    }\n",
       "</style>\n",
       "<table border=\"1\" class=\"dataframe\">\n",
       "  <thead>\n",
       "    <tr style=\"text-align: right;\">\n",
       "      <th></th>\n",
       "      <th>id</th>\n",
       "      <th>region</th>\n",
       "      <th>year</th>\n",
       "      <th>manufacturer</th>\n",
       "      <th>model</th>\n",
       "      <th>condition</th>\n",
       "      <th>cylinders</th>\n",
       "      <th>fuel</th>\n",
       "      <th>odometer</th>\n",
       "      <th>title_status</th>\n",
       "      <th>transmission</th>\n",
       "      <th>drive</th>\n",
       "      <th>size</th>\n",
       "      <th>type</th>\n",
       "      <th>paint_color</th>\n",
       "      <th>lat</th>\n",
       "      <th>long</th>\n",
       "      <th>price</th>\n",
       "    </tr>\n",
       "  </thead>\n",
       "  <tbody>\n",
       "    <tr>\n",
       "      <th>0</th>\n",
       "      <td>7119256118</td>\n",
       "      <td>mohave county</td>\n",
       "      <td>2012.0</td>\n",
       "      <td>jeep</td>\n",
       "      <td>patriot</td>\n",
       "      <td>like new</td>\n",
       "      <td>4 cylinders</td>\n",
       "      <td>gas</td>\n",
       "      <td>247071.0</td>\n",
       "      <td>clean</td>\n",
       "      <td>automatic</td>\n",
       "      <td>4wd</td>\n",
       "      <td>full-size</td>\n",
       "      <td>offroad</td>\n",
       "      <td>silver</td>\n",
       "      <td>34.4554</td>\n",
       "      <td>-114.2690</td>\n",
       "      <td>3495</td>\n",
       "    </tr>\n",
       "    <tr>\n",
       "      <th>1</th>\n",
       "      <td>7120880186</td>\n",
       "      <td>oregon coast</td>\n",
       "      <td>2014.0</td>\n",
       "      <td>bmw</td>\n",
       "      <td>328i m-sport</td>\n",
       "      <td>good</td>\n",
       "      <td>5 cylinders</td>\n",
       "      <td>gas</td>\n",
       "      <td>76237.0</td>\n",
       "      <td>clean</td>\n",
       "      <td>automatic</td>\n",
       "      <td>rwd</td>\n",
       "      <td>full-size</td>\n",
       "      <td>sedan</td>\n",
       "      <td>grey</td>\n",
       "      <td>46.1837</td>\n",
       "      <td>-123.8240</td>\n",
       "      <td>13750</td>\n",
       "    </tr>\n",
       "    <tr>\n",
       "      <th>2</th>\n",
       "      <td>7115048251</td>\n",
       "      <td>greenville / upstate</td>\n",
       "      <td>2001.0</td>\n",
       "      <td>dodge</td>\n",
       "      <td>caravan</td>\n",
       "      <td>excellent</td>\n",
       "      <td>6 cylinders</td>\n",
       "      <td>gas</td>\n",
       "      <td>199000.0</td>\n",
       "      <td>clean</td>\n",
       "      <td>automatic</td>\n",
       "      <td>4wd</td>\n",
       "      <td>full-size</td>\n",
       "      <td>offroad</td>\n",
       "      <td>grey</td>\n",
       "      <td>34.9352</td>\n",
       "      <td>-81.9654</td>\n",
       "      <td>2300</td>\n",
       "    </tr>\n",
       "    <tr>\n",
       "      <th>3</th>\n",
       "      <td>7119250502</td>\n",
       "      <td>mohave county</td>\n",
       "      <td>2004.0</td>\n",
       "      <td>chevrolet</td>\n",
       "      <td>colorado ls</td>\n",
       "      <td>excellent</td>\n",
       "      <td>5 cylinders</td>\n",
       "      <td>gas</td>\n",
       "      <td>54000.0</td>\n",
       "      <td>clean</td>\n",
       "      <td>automatic</td>\n",
       "      <td>rwd</td>\n",
       "      <td>mid-size</td>\n",
       "      <td>pickup</td>\n",
       "      <td>red</td>\n",
       "      <td>34.4783</td>\n",
       "      <td>-114.2710</td>\n",
       "      <td>9000</td>\n",
       "    </tr>\n",
       "    <tr>\n",
       "      <th>4</th>\n",
       "      <td>7120430837</td>\n",
       "      <td>maine</td>\n",
       "      <td>2005.0</td>\n",
       "      <td>ford</td>\n",
       "      <td>mustang convertible</td>\n",
       "      <td>excellent</td>\n",
       "      <td>6 cylinders</td>\n",
       "      <td>gas</td>\n",
       "      <td>62800.0</td>\n",
       "      <td>clean</td>\n",
       "      <td>automatic</td>\n",
       "      <td>rwd</td>\n",
       "      <td>mid-size</td>\n",
       "      <td>convertible</td>\n",
       "      <td>silver</td>\n",
       "      <td>44.2070</td>\n",
       "      <td>-69.7858</td>\n",
       "      <td>8500</td>\n",
       "    </tr>\n",
       "  </tbody>\n",
       "</table>\n",
       "</div>"
      ],
      "text/plain": [
       "           id                region    year manufacturer                model  \\\n",
       "0  7119256118         mohave county  2012.0         jeep              patriot   \n",
       "1  7120880186          oregon coast  2014.0          bmw         328i m-sport   \n",
       "2  7115048251  greenville / upstate  2001.0        dodge              caravan   \n",
       "3  7119250502         mohave county  2004.0    chevrolet          colorado ls   \n",
       "4  7120430837                 maine  2005.0         ford  mustang convertible   \n",
       "\n",
       "   condition    cylinders fuel  odometer title_status transmission drive  \\\n",
       "0   like new  4 cylinders  gas  247071.0        clean    automatic   4wd   \n",
       "1       good  5 cylinders  gas   76237.0        clean    automatic   rwd   \n",
       "2  excellent  6 cylinders  gas  199000.0        clean    automatic   4wd   \n",
       "3  excellent  5 cylinders  gas   54000.0        clean    automatic   rwd   \n",
       "4  excellent  6 cylinders  gas   62800.0        clean    automatic   rwd   \n",
       "\n",
       "        size         type paint_color      lat      long  price  \n",
       "0  full-size      offroad      silver  34.4554 -114.2690   3495  \n",
       "1  full-size        sedan        grey  46.1837 -123.8240  13750  \n",
       "2  full-size      offroad        grey  34.9352  -81.9654   2300  \n",
       "3   mid-size       pickup         red  34.4783 -114.2710   9000  \n",
       "4   mid-size  convertible      silver  44.2070  -69.7858   8500  "
      ]
     },
     "execution_count": 2,
     "metadata": {},
     "output_type": "execute_result"
    }
   ],
   "source": [
    "df = pd.read_csv('vehiclesFinal.csv')\n",
    "df.head()"
   ]
  },
  {
   "cell_type": "markdown",
   "id": "d27e2e69",
   "metadata": {},
   "source": [
    "# Basic Information about Dataset"
   ]
  },
  {
   "cell_type": "markdown",
   "id": "0e22d436-5473-4e2f-a3c8-873be2b85ab6",
   "metadata": {},
   "source": [
    "#### Statistics About Numerical Columns"
   ]
  },
  {
   "cell_type": "code",
   "execution_count": 3,
   "id": "f60005b8",
   "metadata": {},
   "outputs": [
    {
     "data": {
      "text/html": [
       "<div>\n",
       "<style scoped>\n",
       "    .dataframe tbody tr th:only-of-type {\n",
       "        vertical-align: middle;\n",
       "    }\n",
       "\n",
       "    .dataframe tbody tr th {\n",
       "        vertical-align: top;\n",
       "    }\n",
       "\n",
       "    .dataframe thead th {\n",
       "        text-align: right;\n",
       "    }\n",
       "</style>\n",
       "<table border=\"1\" class=\"dataframe\">\n",
       "  <thead>\n",
       "    <tr style=\"text-align: right;\">\n",
       "      <th></th>\n",
       "      <th>id</th>\n",
       "      <th>year</th>\n",
       "      <th>odometer</th>\n",
       "      <th>lat</th>\n",
       "      <th>long</th>\n",
       "      <th>price</th>\n",
       "    </tr>\n",
       "  </thead>\n",
       "  <tbody>\n",
       "    <tr>\n",
       "      <th>count</th>\n",
       "      <td>3.742220e+05</td>\n",
       "      <td>374222.000000</td>\n",
       "      <td>374222.000000</td>\n",
       "      <td>374222.000000</td>\n",
       "      <td>374222.000000</td>\n",
       "      <td>374222.000000</td>\n",
       "    </tr>\n",
       "    <tr>\n",
       "      <th>mean</th>\n",
       "      <td>7.115975e+09</td>\n",
       "      <td>2011.170933</td>\n",
       "      <td>99082.730455</td>\n",
       "      <td>38.467335</td>\n",
       "      <td>-94.839612</td>\n",
       "      <td>14251.653588</td>\n",
       "    </tr>\n",
       "    <tr>\n",
       "      <th>std</th>\n",
       "      <td>4.583794e+06</td>\n",
       "      <td>5.264778</td>\n",
       "      <td>56671.829463</td>\n",
       "      <td>6.089110</td>\n",
       "      <td>17.994045</td>\n",
       "      <td>11137.719627</td>\n",
       "    </tr>\n",
       "    <tr>\n",
       "      <th>min</th>\n",
       "      <td>7.104271e+09</td>\n",
       "      <td>1995.000000</td>\n",
       "      <td>0.000000</td>\n",
       "      <td>-83.197100</td>\n",
       "      <td>-177.012000</td>\n",
       "      <td>699.000000</td>\n",
       "    </tr>\n",
       "    <tr>\n",
       "      <th>25%</th>\n",
       "      <td>7.112466e+09</td>\n",
       "      <td>2008.000000</td>\n",
       "      <td>53503.250000</td>\n",
       "      <td>34.245500</td>\n",
       "      <td>-110.979000</td>\n",
       "      <td>6000.000000</td>\n",
       "    </tr>\n",
       "    <tr>\n",
       "      <th>50%</th>\n",
       "      <td>7.117111e+09</td>\n",
       "      <td>2012.000000</td>\n",
       "      <td>97235.000000</td>\n",
       "      <td>39.049600</td>\n",
       "      <td>-89.438545</td>\n",
       "      <td>11500.000000</td>\n",
       "    </tr>\n",
       "    <tr>\n",
       "      <th>75%</th>\n",
       "      <td>7.120107e+09</td>\n",
       "      <td>2015.000000</td>\n",
       "      <td>138134.000000</td>\n",
       "      <td>42.510000</td>\n",
       "      <td>-81.431300</td>\n",
       "      <td>18995.000000</td>\n",
       "    </tr>\n",
       "    <tr>\n",
       "      <th>max</th>\n",
       "      <td>7.121608e+09</td>\n",
       "      <td>2021.000000</td>\n",
       "      <td>268564.000000</td>\n",
       "      <td>79.601900</td>\n",
       "      <td>139.388000</td>\n",
       "      <td>126000.000000</td>\n",
       "    </tr>\n",
       "  </tbody>\n",
       "</table>\n",
       "</div>"
      ],
      "text/plain": [
       "                 id           year       odometer            lat  \\\n",
       "count  3.742220e+05  374222.000000  374222.000000  374222.000000   \n",
       "mean   7.115975e+09    2011.170933   99082.730455      38.467335   \n",
       "std    4.583794e+06       5.264778   56671.829463       6.089110   \n",
       "min    7.104271e+09    1995.000000       0.000000     -83.197100   \n",
       "25%    7.112466e+09    2008.000000   53503.250000      34.245500   \n",
       "50%    7.117111e+09    2012.000000   97235.000000      39.049600   \n",
       "75%    7.120107e+09    2015.000000  138134.000000      42.510000   \n",
       "max    7.121608e+09    2021.000000  268564.000000      79.601900   \n",
       "\n",
       "                long          price  \n",
       "count  374222.000000  374222.000000  \n",
       "mean      -94.839612   14251.653588  \n",
       "std        17.994045   11137.719627  \n",
       "min      -177.012000     699.000000  \n",
       "25%      -110.979000    6000.000000  \n",
       "50%       -89.438545   11500.000000  \n",
       "75%       -81.431300   18995.000000  \n",
       "max       139.388000  126000.000000  "
      ]
     },
     "execution_count": 3,
     "metadata": {},
     "output_type": "execute_result"
    }
   ],
   "source": [
    "df.describe()"
   ]
  },
  {
   "cell_type": "markdown",
   "id": "946a30f0-c1e8-43ab-a0a0-5ac37bff727b",
   "metadata": {},
   "source": [
    "#### Overview of Categorical Columns"
   ]
  },
  {
   "cell_type": "code",
   "execution_count": 4,
   "id": "77a0aa55",
   "metadata": {},
   "outputs": [
    {
     "data": {
      "text/html": [
       "<div>\n",
       "<style scoped>\n",
       "    .dataframe tbody tr th:only-of-type {\n",
       "        vertical-align: middle;\n",
       "    }\n",
       "\n",
       "    .dataframe tbody tr th {\n",
       "        vertical-align: top;\n",
       "    }\n",
       "\n",
       "    .dataframe thead th {\n",
       "        text-align: right;\n",
       "    }\n",
       "</style>\n",
       "<table border=\"1\" class=\"dataframe\">\n",
       "  <thead>\n",
       "    <tr style=\"text-align: right;\">\n",
       "      <th></th>\n",
       "      <th>region</th>\n",
       "      <th>manufacturer</th>\n",
       "      <th>model</th>\n",
       "      <th>condition</th>\n",
       "      <th>cylinders</th>\n",
       "      <th>fuel</th>\n",
       "      <th>title_status</th>\n",
       "      <th>transmission</th>\n",
       "      <th>drive</th>\n",
       "      <th>size</th>\n",
       "      <th>type</th>\n",
       "      <th>paint_color</th>\n",
       "    </tr>\n",
       "  </thead>\n",
       "  <tbody>\n",
       "    <tr>\n",
       "      <th>count</th>\n",
       "      <td>374222</td>\n",
       "      <td>374222</td>\n",
       "      <td>374222</td>\n",
       "      <td>374222</td>\n",
       "      <td>374222</td>\n",
       "      <td>374222</td>\n",
       "      <td>374222</td>\n",
       "      <td>374222</td>\n",
       "      <td>374222</td>\n",
       "      <td>374222</td>\n",
       "      <td>374222</td>\n",
       "      <td>374222</td>\n",
       "    </tr>\n",
       "    <tr>\n",
       "      <th>unique</th>\n",
       "      <td>402</td>\n",
       "      <td>41</td>\n",
       "      <td>27908</td>\n",
       "      <td>6</td>\n",
       "      <td>8</td>\n",
       "      <td>5</td>\n",
       "      <td>6</td>\n",
       "      <td>3</td>\n",
       "      <td>3</td>\n",
       "      <td>4</td>\n",
       "      <td>13</td>\n",
       "      <td>12</td>\n",
       "    </tr>\n",
       "    <tr>\n",
       "      <th>top</th>\n",
       "      <td>springfield</td>\n",
       "      <td>ford</td>\n",
       "      <td>f-150</td>\n",
       "      <td>fair</td>\n",
       "      <td>5 cylinders</td>\n",
       "      <td>gas</td>\n",
       "      <td>clean</td>\n",
       "      <td>automatic</td>\n",
       "      <td>4wd</td>\n",
       "      <td>full-size</td>\n",
       "      <td>offroad</td>\n",
       "      <td>grey</td>\n",
       "    </tr>\n",
       "    <tr>\n",
       "      <th>freq</th>\n",
       "      <td>3053</td>\n",
       "      <td>66329</td>\n",
       "      <td>7009</td>\n",
       "      <td>158429</td>\n",
       "      <td>141407</td>\n",
       "      <td>325266</td>\n",
       "      <td>354719</td>\n",
       "      <td>338265</td>\n",
       "      <td>226906</td>\n",
       "      <td>318879</td>\n",
       "      <td>96965</td>\n",
       "      <td>138308</td>\n",
       "    </tr>\n",
       "  </tbody>\n",
       "</table>\n",
       "</div>"
      ],
      "text/plain": [
       "             region manufacturer   model condition    cylinders    fuel  \\\n",
       "count        374222       374222  374222    374222       374222  374222   \n",
       "unique          402           41   27908         6            8       5   \n",
       "top     springfield         ford   f-150      fair  5 cylinders     gas   \n",
       "freq           3053        66329    7009    158429       141407  325266   \n",
       "\n",
       "       title_status transmission   drive       size     type paint_color  \n",
       "count        374222       374222  374222     374222   374222      374222  \n",
       "unique            6            3       3          4       13          12  \n",
       "top           clean    automatic     4wd  full-size  offroad        grey  \n",
       "freq         354719       338265  226906     318879    96965      138308  "
      ]
     },
     "execution_count": 4,
     "metadata": {},
     "output_type": "execute_result"
    }
   ],
   "source": [
    "df.describe(exclude='number')"
   ]
  },
  {
   "cell_type": "markdown",
   "id": "eee17b32-b3d1-41cc-ab14-33246fbc463a",
   "metadata": {},
   "source": [
    "#### Datatypes of Columns"
   ]
  },
  {
   "cell_type": "code",
   "execution_count": 5,
   "id": "81815b07",
   "metadata": {},
   "outputs": [
    {
     "data": {
      "text/plain": [
       "id                int64\n",
       "region           object\n",
       "year            float64\n",
       "manufacturer     object\n",
       "model            object\n",
       "condition        object\n",
       "cylinders        object\n",
       "fuel             object\n",
       "odometer        float64\n",
       "title_status     object\n",
       "transmission     object\n",
       "drive            object\n",
       "size             object\n",
       "type             object\n",
       "paint_color      object\n",
       "lat             float64\n",
       "long            float64\n",
       "price             int64\n",
       "dtype: object"
      ]
     },
     "execution_count": 5,
     "metadata": {},
     "output_type": "execute_result"
    }
   ],
   "source": [
    "df.dtypes"
   ]
  },
  {
   "cell_type": "markdown",
   "id": "63e1bb9d-e327-4b2c-8f0c-dcab534d7555",
   "metadata": {},
   "source": [
    "#### Dimensions of Dataset"
   ]
  },
  {
   "cell_type": "code",
   "execution_count": 6,
   "id": "0e88ed73",
   "metadata": {},
   "outputs": [
    {
     "data": {
      "text/plain": [
       "(374222, 18)"
      ]
     },
     "execution_count": 6,
     "metadata": {},
     "output_type": "execute_result"
    }
   ],
   "source": [
    "df.shape"
   ]
  },
  {
   "cell_type": "markdown",
   "id": "0bc9e146-79d4-4adf-8fc8-3bc5aafd3463",
   "metadata": {},
   "source": [
    "#### All Columns in Dataset"
   ]
  },
  {
   "cell_type": "code",
   "execution_count": 7,
   "id": "fe92d8f7",
   "metadata": {},
   "outputs": [
    {
     "data": {
      "text/plain": [
       "Index(['id', 'region', 'year', 'manufacturer', 'model', 'condition',\n",
       "       'cylinders', 'fuel', 'odometer', 'title_status', 'transmission',\n",
       "       'drive', 'size', 'type', 'paint_color', 'lat', 'long', 'price'],\n",
       "      dtype='object')"
      ]
     },
     "execution_count": 7,
     "metadata": {},
     "output_type": "execute_result"
    }
   ],
   "source": [
    "df.columns"
   ]
  },
  {
   "cell_type": "code",
   "execution_count": 8,
   "id": "5c0fd81c",
   "metadata": {},
   "outputs": [],
   "source": [
    "# df = df.drop(['id', 'manufacturer', 'model', 'region', 'lat', 'long', 'paint_color'], axis=1)"
   ]
  },
  {
   "cell_type": "markdown",
   "id": "29657591",
   "metadata": {},
   "source": [
    "# Data Preprocessing"
   ]
  },
  {
   "cell_type": "code",
   "execution_count": 9,
   "id": "198302e1",
   "metadata": {},
   "outputs": [
    {
     "data": {
      "text/plain": [
       "id                int64\n",
       "region           object\n",
       "year            float64\n",
       "manufacturer     object\n",
       "model            object\n",
       "condition        object\n",
       "cylinders        object\n",
       "fuel             object\n",
       "odometer        float64\n",
       "title_status     object\n",
       "transmission     object\n",
       "drive            object\n",
       "size             object\n",
       "type             object\n",
       "paint_color      object\n",
       "lat             float64\n",
       "long            float64\n",
       "price             int64\n",
       "dtype: object"
      ]
     },
     "execution_count": 9,
     "metadata": {},
     "output_type": "execute_result"
    }
   ],
   "source": [
    "df.dtypes"
   ]
  },
  {
   "cell_type": "markdown",
   "id": "dc59a15a",
   "metadata": {},
   "source": [
    "## Handling Missing Values"
   ]
  },
  {
   "cell_type": "code",
   "execution_count": 10,
   "id": "cec774de",
   "metadata": {},
   "outputs": [],
   "source": [
    "# Removing 'cylinders' from cylinders column\n",
    "\n",
    "df['cylinders'] = df['cylinders'].str.extract('(\\d+)')"
   ]
  },
  {
   "cell_type": "code",
   "execution_count": 11,
   "id": "8475e544",
   "metadata": {},
   "outputs": [
    {
     "name": "stderr",
     "output_type": "stream",
     "text": [
      "C:\\Users\\Administrator\\AppData\\Local\\Temp\\ipykernel_6460\\1042531318.py:1: FutureWarning: A value is trying to be set on a copy of a DataFrame or Series through chained assignment using an inplace method.\n",
      "The behavior will change in pandas 3.0. This inplace method will never work because the intermediate object on which we are setting values always behaves as a copy.\n",
      "\n",
      "For example, when doing 'df[col].method(value, inplace=True)', try using 'df.method({col: value}, inplace=True)' or df[col] = df[col].method(value) instead, to perform the operation inplace on the original object.\n",
      "\n",
      "\n",
      "  df['cylinders'].fillna(method='bfill', inplace=True)\n",
      "C:\\Users\\Administrator\\AppData\\Local\\Temp\\ipykernel_6460\\1042531318.py:1: FutureWarning: Series.fillna with 'method' is deprecated and will raise in a future version. Use obj.ffill() or obj.bfill() instead.\n",
      "  df['cylinders'].fillna(method='bfill', inplace=True)\n"
     ]
    }
   ],
   "source": [
    "df['cylinders'].fillna(method='bfill', inplace=True)\n",
    "# df['cylinders'].ffill()"
   ]
  },
  {
   "cell_type": "code",
   "execution_count": 12,
   "id": "0d35183f-6376-4d78-a65d-fa85e9ec30be",
   "metadata": {},
   "outputs": [
    {
     "data": {
      "text/plain": [
       "id              0\n",
       "region          0\n",
       "year            0\n",
       "manufacturer    0\n",
       "model           0\n",
       "condition       0\n",
       "cylinders       0\n",
       "fuel            0\n",
       "odometer        0\n",
       "title_status    0\n",
       "transmission    0\n",
       "drive           0\n",
       "size            0\n",
       "type            0\n",
       "paint_color     0\n",
       "lat             0\n",
       "long            0\n",
       "price           0\n",
       "dtype: int64"
      ]
     },
     "execution_count": 12,
     "metadata": {},
     "output_type": "execute_result"
    }
   ],
   "source": [
    "df.isna().sum()"
   ]
  },
  {
   "cell_type": "code",
   "execution_count": 13,
   "id": "b7b4c7f1",
   "metadata": {},
   "outputs": [
    {
     "data": {
      "text/plain": [
       "array(['4', '5', '6', '8', '10', '12', '3'], dtype=object)"
      ]
     },
     "execution_count": 13,
     "metadata": {},
     "output_type": "execute_result"
    }
   ],
   "source": [
    "df['cylinders'].unique()"
   ]
  },
  {
   "cell_type": "code",
   "execution_count": 14,
   "id": "22d468d6-cd9f-4473-9010-9715145b4091",
   "metadata": {},
   "outputs": [],
   "source": [
    "df['cylinders'] = df['cylinders'].astype(int)"
   ]
  },
  {
   "cell_type": "code",
   "execution_count": 15,
   "id": "5e87ae11",
   "metadata": {},
   "outputs": [],
   "source": [
    "df['year'] = df['year'].astype(int)"
   ]
  },
  {
   "cell_type": "code",
   "execution_count": 16,
   "id": "b7d18fee",
   "metadata": {},
   "outputs": [
    {
     "data": {
      "text/plain": [
       "27"
      ]
     },
     "execution_count": 16,
     "metadata": {},
     "output_type": "execute_result"
    }
   ],
   "source": [
    "df['year'].nunique()"
   ]
  },
  {
   "cell_type": "code",
   "execution_count": 17,
   "id": "886918ec",
   "metadata": {},
   "outputs": [],
   "source": [
    "# Converting dtype of 'odometer' to int\n",
    "df['odometer'] = df['odometer'].astype(int)"
   ]
  },
  {
   "cell_type": "code",
   "execution_count": 18,
   "id": "1b994a62-95e4-4933-b3cb-aea66f6becbd",
   "metadata": {},
   "outputs": [
    {
     "data": {
      "text/plain": [
       "id                int64\n",
       "region           object\n",
       "year              int64\n",
       "manufacturer     object\n",
       "model            object\n",
       "condition        object\n",
       "cylinders         int64\n",
       "fuel             object\n",
       "odometer          int64\n",
       "title_status     object\n",
       "transmission     object\n",
       "drive            object\n",
       "size             object\n",
       "type             object\n",
       "paint_color      object\n",
       "lat             float64\n",
       "long            float64\n",
       "price             int64\n",
       "dtype: object"
      ]
     },
     "execution_count": 18,
     "metadata": {},
     "output_type": "execute_result"
    }
   ],
   "source": [
    "df.dtypes"
   ]
  },
  {
   "cell_type": "code",
   "execution_count": 19,
   "id": "d9553c58-88eb-4b33-899d-d8cc04d0fabc",
   "metadata": {},
   "outputs": [
    {
     "data": {
      "text/html": [
       "<div>\n",
       "<style scoped>\n",
       "    .dataframe tbody tr th:only-of-type {\n",
       "        vertical-align: middle;\n",
       "    }\n",
       "\n",
       "    .dataframe tbody tr th {\n",
       "        vertical-align: top;\n",
       "    }\n",
       "\n",
       "    .dataframe thead th {\n",
       "        text-align: right;\n",
       "    }\n",
       "</style>\n",
       "<table border=\"1\" class=\"dataframe\">\n",
       "  <thead>\n",
       "    <tr style=\"text-align: right;\">\n",
       "      <th></th>\n",
       "      <th>id</th>\n",
       "      <th>region</th>\n",
       "      <th>year</th>\n",
       "      <th>manufacturer</th>\n",
       "      <th>model</th>\n",
       "      <th>condition</th>\n",
       "      <th>cylinders</th>\n",
       "      <th>fuel</th>\n",
       "      <th>odometer</th>\n",
       "      <th>title_status</th>\n",
       "      <th>transmission</th>\n",
       "      <th>drive</th>\n",
       "      <th>size</th>\n",
       "      <th>type</th>\n",
       "      <th>paint_color</th>\n",
       "      <th>lat</th>\n",
       "      <th>long</th>\n",
       "      <th>price</th>\n",
       "    </tr>\n",
       "  </thead>\n",
       "  <tbody>\n",
       "    <tr>\n",
       "      <th>0</th>\n",
       "      <td>7119256118</td>\n",
       "      <td>mohave county</td>\n",
       "      <td>2012</td>\n",
       "      <td>jeep</td>\n",
       "      <td>patriot</td>\n",
       "      <td>like new</td>\n",
       "      <td>4</td>\n",
       "      <td>gas</td>\n",
       "      <td>247071</td>\n",
       "      <td>clean</td>\n",
       "      <td>automatic</td>\n",
       "      <td>4wd</td>\n",
       "      <td>full-size</td>\n",
       "      <td>offroad</td>\n",
       "      <td>silver</td>\n",
       "      <td>34.4554</td>\n",
       "      <td>-114.2690</td>\n",
       "      <td>3495</td>\n",
       "    </tr>\n",
       "    <tr>\n",
       "      <th>1</th>\n",
       "      <td>7120880186</td>\n",
       "      <td>oregon coast</td>\n",
       "      <td>2014</td>\n",
       "      <td>bmw</td>\n",
       "      <td>328i m-sport</td>\n",
       "      <td>good</td>\n",
       "      <td>5</td>\n",
       "      <td>gas</td>\n",
       "      <td>76237</td>\n",
       "      <td>clean</td>\n",
       "      <td>automatic</td>\n",
       "      <td>rwd</td>\n",
       "      <td>full-size</td>\n",
       "      <td>sedan</td>\n",
       "      <td>grey</td>\n",
       "      <td>46.1837</td>\n",
       "      <td>-123.8240</td>\n",
       "      <td>13750</td>\n",
       "    </tr>\n",
       "    <tr>\n",
       "      <th>2</th>\n",
       "      <td>7115048251</td>\n",
       "      <td>greenville / upstate</td>\n",
       "      <td>2001</td>\n",
       "      <td>dodge</td>\n",
       "      <td>caravan</td>\n",
       "      <td>excellent</td>\n",
       "      <td>6</td>\n",
       "      <td>gas</td>\n",
       "      <td>199000</td>\n",
       "      <td>clean</td>\n",
       "      <td>automatic</td>\n",
       "      <td>4wd</td>\n",
       "      <td>full-size</td>\n",
       "      <td>offroad</td>\n",
       "      <td>grey</td>\n",
       "      <td>34.9352</td>\n",
       "      <td>-81.9654</td>\n",
       "      <td>2300</td>\n",
       "    </tr>\n",
       "  </tbody>\n",
       "</table>\n",
       "</div>"
      ],
      "text/plain": [
       "           id                region  year manufacturer         model  \\\n",
       "0  7119256118         mohave county  2012         jeep       patriot   \n",
       "1  7120880186          oregon coast  2014          bmw  328i m-sport   \n",
       "2  7115048251  greenville / upstate  2001        dodge       caravan   \n",
       "\n",
       "   condition  cylinders fuel  odometer title_status transmission drive  \\\n",
       "0   like new          4  gas    247071        clean    automatic   4wd   \n",
       "1       good          5  gas     76237        clean    automatic   rwd   \n",
       "2  excellent          6  gas    199000        clean    automatic   4wd   \n",
       "\n",
       "        size     type paint_color      lat      long  price  \n",
       "0  full-size  offroad      silver  34.4554 -114.2690   3495  \n",
       "1  full-size    sedan        grey  46.1837 -123.8240  13750  \n",
       "2  full-size  offroad        grey  34.9352  -81.9654   2300  "
      ]
     },
     "execution_count": 19,
     "metadata": {},
     "output_type": "execute_result"
    }
   ],
   "source": [
    "df.head(3)"
   ]
  },
  {
   "cell_type": "code",
   "execution_count": 20,
   "id": "e7e8e10c",
   "metadata": {
    "scrolled": true
   },
   "outputs": [
    {
     "data": {
      "text/plain": [
       "array(['4wd', 'rwd', 'fwd'], dtype=object)"
      ]
     },
     "execution_count": 20,
     "metadata": {},
     "output_type": "execute_result"
    }
   ],
   "source": [
    "df['drive'].unique()"
   ]
  },
  {
   "cell_type": "code",
   "execution_count": 21,
   "id": "ede61fe3",
   "metadata": {},
   "outputs": [
    {
     "data": {
      "text/html": [
       "<div>\n",
       "<style scoped>\n",
       "    .dataframe tbody tr th:only-of-type {\n",
       "        vertical-align: middle;\n",
       "    }\n",
       "\n",
       "    .dataframe tbody tr th {\n",
       "        vertical-align: top;\n",
       "    }\n",
       "\n",
       "    .dataframe thead th {\n",
       "        text-align: right;\n",
       "    }\n",
       "</style>\n",
       "<table border=\"1\" class=\"dataframe\">\n",
       "  <thead>\n",
       "    <tr style=\"text-align: right;\">\n",
       "      <th></th>\n",
       "      <th>id</th>\n",
       "      <th>region</th>\n",
       "      <th>year</th>\n",
       "      <th>manufacturer</th>\n",
       "      <th>model</th>\n",
       "      <th>condition</th>\n",
       "      <th>cylinders</th>\n",
       "      <th>fuel</th>\n",
       "      <th>odometer</th>\n",
       "      <th>title_status</th>\n",
       "      <th>transmission</th>\n",
       "      <th>drive</th>\n",
       "      <th>size</th>\n",
       "      <th>type</th>\n",
       "      <th>paint_color</th>\n",
       "      <th>lat</th>\n",
       "      <th>long</th>\n",
       "      <th>price</th>\n",
       "    </tr>\n",
       "  </thead>\n",
       "  <tbody>\n",
       "    <tr>\n",
       "      <th>0</th>\n",
       "      <td>7119256118</td>\n",
       "      <td>mohave county</td>\n",
       "      <td>2012</td>\n",
       "      <td>jeep</td>\n",
       "      <td>patriot</td>\n",
       "      <td>like new</td>\n",
       "      <td>4</td>\n",
       "      <td>gas</td>\n",
       "      <td>247071</td>\n",
       "      <td>clean</td>\n",
       "      <td>automatic</td>\n",
       "      <td>4wd</td>\n",
       "      <td>full-size</td>\n",
       "      <td>offroad</td>\n",
       "      <td>silver</td>\n",
       "      <td>34.4554</td>\n",
       "      <td>-114.2690</td>\n",
       "      <td>3495</td>\n",
       "    </tr>\n",
       "    <tr>\n",
       "      <th>1</th>\n",
       "      <td>7120880186</td>\n",
       "      <td>oregon coast</td>\n",
       "      <td>2014</td>\n",
       "      <td>bmw</td>\n",
       "      <td>328i m-sport</td>\n",
       "      <td>good</td>\n",
       "      <td>5</td>\n",
       "      <td>gas</td>\n",
       "      <td>76237</td>\n",
       "      <td>clean</td>\n",
       "      <td>automatic</td>\n",
       "      <td>rwd</td>\n",
       "      <td>full-size</td>\n",
       "      <td>sedan</td>\n",
       "      <td>grey</td>\n",
       "      <td>46.1837</td>\n",
       "      <td>-123.8240</td>\n",
       "      <td>13750</td>\n",
       "    </tr>\n",
       "    <tr>\n",
       "      <th>2</th>\n",
       "      <td>7115048251</td>\n",
       "      <td>greenville / upstate</td>\n",
       "      <td>2001</td>\n",
       "      <td>dodge</td>\n",
       "      <td>caravan</td>\n",
       "      <td>excellent</td>\n",
       "      <td>6</td>\n",
       "      <td>gas</td>\n",
       "      <td>199000</td>\n",
       "      <td>clean</td>\n",
       "      <td>automatic</td>\n",
       "      <td>4wd</td>\n",
       "      <td>full-size</td>\n",
       "      <td>offroad</td>\n",
       "      <td>grey</td>\n",
       "      <td>34.9352</td>\n",
       "      <td>-81.9654</td>\n",
       "      <td>2300</td>\n",
       "    </tr>\n",
       "    <tr>\n",
       "      <th>3</th>\n",
       "      <td>7119250502</td>\n",
       "      <td>mohave county</td>\n",
       "      <td>2004</td>\n",
       "      <td>chevrolet</td>\n",
       "      <td>colorado ls</td>\n",
       "      <td>excellent</td>\n",
       "      <td>5</td>\n",
       "      <td>gas</td>\n",
       "      <td>54000</td>\n",
       "      <td>clean</td>\n",
       "      <td>automatic</td>\n",
       "      <td>rwd</td>\n",
       "      <td>mid-size</td>\n",
       "      <td>pickup</td>\n",
       "      <td>red</td>\n",
       "      <td>34.4783</td>\n",
       "      <td>-114.2710</td>\n",
       "      <td>9000</td>\n",
       "    </tr>\n",
       "    <tr>\n",
       "      <th>4</th>\n",
       "      <td>7120430837</td>\n",
       "      <td>maine</td>\n",
       "      <td>2005</td>\n",
       "      <td>ford</td>\n",
       "      <td>mustang convertible</td>\n",
       "      <td>excellent</td>\n",
       "      <td>6</td>\n",
       "      <td>gas</td>\n",
       "      <td>62800</td>\n",
       "      <td>clean</td>\n",
       "      <td>automatic</td>\n",
       "      <td>rwd</td>\n",
       "      <td>mid-size</td>\n",
       "      <td>convertible</td>\n",
       "      <td>silver</td>\n",
       "      <td>44.2070</td>\n",
       "      <td>-69.7858</td>\n",
       "      <td>8500</td>\n",
       "    </tr>\n",
       "  </tbody>\n",
       "</table>\n",
       "</div>"
      ],
      "text/plain": [
       "           id                region  year manufacturer                model  \\\n",
       "0  7119256118         mohave county  2012         jeep              patriot   \n",
       "1  7120880186          oregon coast  2014          bmw         328i m-sport   \n",
       "2  7115048251  greenville / upstate  2001        dodge              caravan   \n",
       "3  7119250502         mohave county  2004    chevrolet          colorado ls   \n",
       "4  7120430837                 maine  2005         ford  mustang convertible   \n",
       "\n",
       "   condition  cylinders fuel  odometer title_status transmission drive  \\\n",
       "0   like new          4  gas    247071        clean    automatic   4wd   \n",
       "1       good          5  gas     76237        clean    automatic   rwd   \n",
       "2  excellent          6  gas    199000        clean    automatic   4wd   \n",
       "3  excellent          5  gas     54000        clean    automatic   rwd   \n",
       "4  excellent          6  gas     62800        clean    automatic   rwd   \n",
       "\n",
       "        size         type paint_color      lat      long  price  \n",
       "0  full-size      offroad      silver  34.4554 -114.2690   3495  \n",
       "1  full-size        sedan        grey  46.1837 -123.8240  13750  \n",
       "2  full-size      offroad        grey  34.9352  -81.9654   2300  \n",
       "3   mid-size       pickup         red  34.4783 -114.2710   9000  \n",
       "4   mid-size  convertible      silver  44.2070  -69.7858   8500  "
      ]
     },
     "execution_count": 21,
     "metadata": {},
     "output_type": "execute_result"
    }
   ],
   "source": [
    "df.head()"
   ]
  },
  {
   "cell_type": "markdown",
   "id": "a7d4a74d-c089-44b7-a6be-b2e6d9caf17d",
   "metadata": {},
   "source": [
    "# Extracting Numerical and Categorical Features"
   ]
  },
  {
   "cell_type": "code",
   "execution_count": 22,
   "id": "d10873e0",
   "metadata": {},
   "outputs": [
    {
     "data": {
      "text/plain": [
       "Index(['id', 'year', 'cylinders', 'odometer', 'lat', 'long', 'price'], dtype='object')"
      ]
     },
     "execution_count": 22,
     "metadata": {},
     "output_type": "execute_result"
    }
   ],
   "source": [
    "# Extracting Numerical Columns\n",
    "num_features = df.select_dtypes('number').columns\n",
    "num_features"
   ]
  },
  {
   "cell_type": "code",
   "execution_count": 23,
   "id": "5ff993a6",
   "metadata": {},
   "outputs": [
    {
     "data": {
      "text/plain": [
       "Index(['region', 'manufacturer', 'model', 'condition', 'fuel', 'title_status',\n",
       "       'transmission', 'drive', 'size', 'type', 'paint_color'],\n",
       "      dtype='object')"
      ]
     },
     "execution_count": 23,
     "metadata": {},
     "output_type": "execute_result"
    }
   ],
   "source": [
    "# Extracting Categorical Columns\n",
    "cat_features = df.select_dtypes(exclude='number').columns\n",
    "cat_features"
   ]
  },
  {
   "cell_type": "markdown",
   "id": "dc3126ea-d763-4a59-913c-95c0ed246361",
   "metadata": {},
   "source": [
    "# Heatmaps"
   ]
  },
  {
   "cell_type": "code",
   "execution_count": 24,
   "id": "96da3c0c",
   "metadata": {},
   "outputs": [
    {
     "data": {
      "text/plain": [
       "Text(0.5, 1.0, 'Correlation Heatmap')"
      ]
     },
     "execution_count": 24,
     "metadata": {},
     "output_type": "execute_result"
    },
    {
     "data": {
      "image/png": "[encoded data removed]",
      "text/plain": [
       "<Figure size 1000x800 with 2 Axes>"
      ]
     },
     "metadata": {},
     "output_type": "display_data"
    }
   ],
   "source": [
    "plt.figure(figsize=(10,8))\n",
    "sns.heatmap(df[num_features].corr())\n",
    "plt.title('Correlation Heatmap')"
   ]
  },
  {
   "cell_type": "code",
   "execution_count": 25,
   "id": "44b50861",
   "metadata": {},
   "outputs": [
    {
     "ename": "ModuleNotFoundError",
     "evalue": "No module named 'dython'",
     "output_type": "error",
     "traceback": [
      "\u001b[1;31m---------------------------------------------------------------------------\u001b[0m",
      "\u001b[1;31mModuleNotFoundError\u001b[0m                       Traceback (most recent call last)",
      "Cell \u001b[1;32mIn[25], line 1\u001b[0m\n\u001b[1;32m----> 1\u001b[0m \u001b[38;5;28;01mfrom\u001b[39;00m \u001b[38;5;21;01mdython\u001b[39;00m\u001b[38;5;21;01m.\u001b[39;00m\u001b[38;5;21;01mnominal\u001b[39;00m \u001b[38;5;28;01mimport\u001b[39;00m associations\n\u001b[0;32m      3\u001b[0m assoc \u001b[38;5;241m=\u001b[39m associations(df[cat_features], nominal_columns\u001b[38;5;241m=\u001b[39m\u001b[38;5;124m'\u001b[39m\u001b[38;5;124mall\u001b[39m\u001b[38;5;124m'\u001b[39m, plot\u001b[38;5;241m=\u001b[39m\u001b[38;5;28;01mFalse\u001b[39;00m)\n\u001b[0;32m      4\u001b[0m corr_matrix \u001b[38;5;241m=\u001b[39m assoc[\u001b[38;5;124m'\u001b[39m\u001b[38;5;124mcorr\u001b[39m\u001b[38;5;124m'\u001b[39m]\n",
      "\u001b[1;31mModuleNotFoundError\u001b[0m: No module named 'dython'"
     ]
    }
   ],
   "source": [
    "from dython.nominal import associations\n",
    "\n",
    "assoc = associations(df[cat_features], nominal_columns='all', plot=False)\n",
    "corr_matrix = assoc['corr']\n",
    "\n",
    "plt.figure(figsize=(14, 12))\n",
    "sns.heatmap(corr_matrix)"
   ]
  },
  {
   "cell_type": "markdown",
   "id": "fd3713da-639e-4b0f-8247-943d3e1075f1",
   "metadata": {},
   "source": [
    "## Handling Duplicates"
   ]
  },
  {
   "cell_type": "code",
   "execution_count": null,
   "id": "943d9ca7",
   "metadata": {},
   "outputs": [],
   "source": [
    "# Boolean Duplicates\n",
    "df_duplicates = df.duplicated()"
   ]
  },
  {
   "cell_type": "code",
   "execution_count": null,
   "id": "90c4385f",
   "metadata": {},
   "outputs": [],
   "source": [
    "# Identifying Duplicates Rows\n",
    "duplicate_rows = df[df.duplicated()]"
   ]
  },
  {
   "cell_type": "code",
   "execution_count": null,
   "id": "62f01add",
   "metadata": {},
   "outputs": [],
   "source": [
    "# Controlling Duplicates Detection with 'Keep'\n",
    "\n",
    "all_duplicates = df[df.duplicated(keep=False)]"
   ]
  },
  {
   "cell_type": "code",
   "execution_count": null,
   "id": "c0f8a4c0",
   "metadata": {},
   "outputs": [],
   "source": [
    "# Removing duplicate rows\n",
    "df_no_duplicates = df.drop_duplicates()"
   ]
  },
  {
   "cell_type": "code",
   "execution_count": null,
   "id": "bab96fc2",
   "metadata": {},
   "outputs": [],
   "source": [
    "df.shape"
   ]
  },
  {
   "cell_type": "markdown",
   "id": "5a1473fd",
   "metadata": {},
   "source": [
    "### Handling Outliers"
   ]
  },
  {
   "cell_type": "code",
   "execution_count": null,
   "id": "49e1089f",
   "metadata": {},
   "outputs": [],
   "source": [
    "plt.figure(figsize=(20, 12))\n",
    "for i, col in enumerate(num_features, 1):\n",
    "    plt.subplot(3, 3, i)\n",
    "    sns.boxplot(y=df[col])\n",
    "    plt.title(col)"
   ]
  },
  {
   "cell_type": "code",
   "execution_count": null,
   "id": "a6dfd510",
   "metadata": {},
   "outputs": [],
   "source": [
    "for col in num_features:\n",
    "    z_scores = np.abs((df[col] - df[col].mean()) / df[col].std())\n",
    "    threshold = 3\n",
    "    df = df[z_scores < threshold]"
   ]
  },
  {
   "cell_type": "code",
   "execution_count": null,
   "id": "408fb36d",
   "metadata": {},
   "outputs": [],
   "source": [
    "df.shape"
   ]
  },
  {
   "cell_type": "code",
   "execution_count": null,
   "id": "96606688",
   "metadata": {},
   "outputs": [],
   "source": [
    "plt.figure(figsize=(20, 12))\n",
    "for i, col in enumerate(num_features, 1):\n",
    "    plt.subplot(3, 3, i)\n",
    "    sns.boxplot(y=df[col])\n",
    "    plt.title(col)"
   ]
  },
  {
   "cell_type": "markdown",
   "id": "5092834a",
   "metadata": {},
   "source": [
    "# Data Visualization"
   ]
  },
  {
   "cell_type": "markdown",
   "id": "160d808c",
   "metadata": {},
   "source": [
    "#### Year vs Count of Cars"
   ]
  },
  {
   "cell_type": "code",
   "execution_count": null,
   "id": "690df944",
   "metadata": {},
   "outputs": [],
   "source": [
    "car_count_by_year = df.groupby('year').size()\n",
    "print(len(car_count_by_year))"
   ]
  },
  {
   "cell_type": "code",
   "execution_count": null,
   "id": "ce686cdc-13e5-4b4d-93d9-4b3ffbf6dbec",
   "metadata": {},
   "outputs": [],
   "source": [
    "car_counts = df['year'].value_counts().sort_index()"
   ]
  },
  {
   "cell_type": "code",
   "execution_count": null,
   "id": "23bf1f45-4d6f-4dc6-ac91-7443e8c9e72c",
   "metadata": {},
   "outputs": [],
   "source": [
    "plt.figure(figsize=(10, 6))\n",
    "plt.bar(car_counts.index.astype(str), car_counts.values, color='skyblue')\n",
    "plt.title('Count of Cars by Year', fontsize=16)\n",
    "plt.xlabel('Year', fontsize=14)\n",
    "plt.ylabel('Number of Cars', fontsize=14)\n",
    "plt.xticks(rotation=45)\n",
    "plt.grid(axis='y')\n",
    "plt.tight_layout()\n",
    "plt.show()"
   ]
  },
  {
   "cell_type": "markdown",
   "id": "9f813b04",
   "metadata": {},
   "source": [
    "#### Condition vs Count of Cars"
   ]
  },
  {
   "cell_type": "code",
   "execution_count": null,
   "id": "f157d319-a9b3-4066-a59c-4de03afd3ce0",
   "metadata": {},
   "outputs": [],
   "source": [
    "condition_counts = df['condition'].value_counts().sort_index()"
   ]
  },
  {
   "cell_type": "code",
   "execution_count": null,
   "id": "e9d034a9-c6b1-4da9-ba90-8df6e4ae9f4b",
   "metadata": {},
   "outputs": [],
   "source": [
    "plt.figure(figsize=(10, 6))\n",
    "plt.bar(condition_counts.index.astype(str), condition_counts.values, color='red')\n",
    "plt.title('Count of Cars by Car Condition', fontsize=16)\n",
    "plt.xlabel('Condition', fontsize=14)\n",
    "plt.ylabel('Number of Cars', fontsize=14)\n",
    "plt.xticks(rotation=45)\n",
    "plt.grid(axis='y')\n",
    "plt.tight_layout()\n",
    "plt.show()"
   ]
  },
  {
   "cell_type": "markdown",
   "id": "d014e748",
   "metadata": {},
   "source": [
    "#### Cylinders vs Count of Cars"
   ]
  },
  {
   "cell_type": "code",
   "execution_count": null,
   "id": "57ad5414-f289-41b5-b9f0-cd8d36332435",
   "metadata": {},
   "outputs": [],
   "source": [
    "cylinders_counts = df['cylinders'].value_counts().sort_index()"
   ]
  },
  {
   "cell_type": "code",
   "execution_count": null,
   "id": "8b58611d-0db8-4029-9f79-1d9892a0b37a",
   "metadata": {},
   "outputs": [],
   "source": [
    "plt.figure(figsize=(10, 6))\n",
    "plt.bar(cylinders_counts.index.astype(str), cylinders_counts.values, color='green')\n",
    "plt.title('Count of Cars by Cylinders', fontsize=16)\n",
    "plt.xlabel('Cylinders', fontsize=14)\n",
    "plt.ylabel('Number of Cars', fontsize=14)\n",
    "plt.xticks(rotation=45)\n",
    "plt.grid(axis='y')\n",
    "plt.tight_layout()\n",
    "plt.show()"
   ]
  },
  {
   "cell_type": "markdown",
   "id": "d3914073",
   "metadata": {},
   "source": [
    "#### Fuel vs Count of Cars"
   ]
  },
  {
   "cell_type": "code",
   "execution_count": null,
   "id": "e89aaaa4-1e5a-4024-b4f1-d3b316ad34e8",
   "metadata": {},
   "outputs": [],
   "source": [
    "fuel_counts = df['fuel'].value_counts().sort_index()\n",
    "plt.figure(figsize=(10, 6))\n",
    "plt.bar(fuel_counts.index.astype(str), fuel_counts.values, color='hotpink')\n",
    "plt.title('Count of Cars by Fuel Type', fontsize=16)\n",
    "plt.xlabel('Fuel', fontsize=14)\n",
    "plt.ylabel('Number of Cars', fontsize=14)\n",
    "plt.xticks(rotation=45)\n",
    "plt.grid(axis='y')\n",
    "plt.tight_layout()\n",
    "plt.show()"
   ]
  },
  {
   "cell_type": "markdown",
   "id": "71a8ea7c",
   "metadata": {},
   "source": [
    "#### Transmission vs Count of Cars"
   ]
  },
  {
   "cell_type": "code",
   "execution_count": null,
   "id": "c5beb1b7-cf13-4893-a289-d3f224cb4d39",
   "metadata": {},
   "outputs": [],
   "source": [
    "transmission_counts = df['transmission'].value_counts().sort_index()\n",
    "plt.figure(figsize=(10, 6))\n",
    "plt.bar(transmission_counts.index.astype(str), transmission_counts.values, color='orange')\n",
    "plt.title('Count of Cars by Transmission Type', fontsize=16)\n",
    "plt.xlabel('Transmission', fontsize=14)\n",
    "plt.ylabel('Number of Cars', fontsize=14)\n",
    "plt.xticks(rotation=45)\n",
    "plt.grid(axis='y')\n",
    "plt.tight_layout()\n",
    "plt.show()"
   ]
  },
  {
   "cell_type": "markdown",
   "id": "666b80a7-7a5c-4122-ae47-8457089ffdea",
   "metadata": {},
   "source": [
    "#### Size Count"
   ]
  },
  {
   "cell_type": "code",
   "execution_count": null,
   "id": "ebc98417-8627-468d-ae9a-3b6cdd69d0a4",
   "metadata": {},
   "outputs": [],
   "source": [
    "size_counts = df['size'].value_counts().sort_index()\n",
    "plt.figure(figsize=(10, 6))\n",
    "plt.bar(size_counts.index.astype(str), size_counts.values, color='lightgreen')\n",
    "plt.title('Count of Cars by Size', fontsize=16)\n",
    "plt.xlabel('Size', fontsize=14)\n",
    "plt.ylabel('Number of Cars', fontsize=14)\n",
    "plt.xticks(rotation=45)\n",
    "plt.grid(axis='y')\n",
    "plt.tight_layout()\n",
    "plt.show()"
   ]
  },
  {
   "cell_type": "markdown",
   "id": "21e136e6-76d0-4b2d-82e2-b71542380f68",
   "metadata": {},
   "source": [
    "#### Type Counts"
   ]
  },
  {
   "cell_type": "code",
   "execution_count": null,
   "id": "139cc492-d587-41e2-816d-75600f0d002b",
   "metadata": {},
   "outputs": [],
   "source": [
    "type_counts = df['type'].value_counts().sort_index()\n",
    "plt.figure(figsize=(10, 6))\n",
    "plt.bar(type_counts.index.astype(str), type_counts.values, color='violet')\n",
    "plt.title('Count of Cars by Type', fontsize=16)\n",
    "plt.xlabel('Type', fontsize=14)\n",
    "plt.ylabel('Number of Cars', fontsize=14)\n",
    "plt.xticks(rotation=60)\n",
    "plt.grid(axis='y')\n",
    "plt.tight_layout()\n",
    "plt.show()"
   ]
  },
  {
   "cell_type": "markdown",
   "id": "786757b1-0381-4e81-9244-173ff1d4ef20",
   "metadata": {},
   "source": [
    "#### Title Status Count"
   ]
  },
  {
   "cell_type": "code",
   "execution_count": null,
   "id": "0fecc5a5-c3b5-407a-bb0c-8e54d3ebd1e3",
   "metadata": {},
   "outputs": [],
   "source": [
    "title_status_counts = df['title_status'].value_counts().sort_index()\n",
    "plt.figure(figsize=(10, 6))\n",
    "plt.bar(title_status_counts.index.astype(str), title_status_counts.values, color='purple')\n",
    "plt.title('Count of Cars by Title Status', fontsize=16)\n",
    "plt.xlabel('Status', fontsize=14)\n",
    "plt.ylabel('Number of Cars', fontsize=14)\n",
    "plt.xticks(rotation=45)\n",
    "plt.grid(axis='y')\n",
    "plt.tight_layout()\n",
    "plt.show()"
   ]
  },
  {
   "cell_type": "markdown",
   "id": "6cb73101-3156-44c3-9fe2-0941b8b7fc63",
   "metadata": {},
   "source": [
    "#### Drive Count"
   ]
  },
  {
   "cell_type": "code",
   "execution_count": null,
   "id": "0a105406-95bd-4d2f-be22-b76de7991436",
   "metadata": {},
   "outputs": [],
   "source": [
    "drive_counts = df['drive'].value_counts().sort_index()\n",
    "plt.figure(figsize=(10, 6))\n",
    "\n",
    "bars = plt.bar(drive_counts.index.astype(str), drive_counts.values, color='aqua')\n",
    "\n",
    "plt.bar(drive_counts.index.astype(str), drive_counts.values, color='aqua')\n",
    "plt.title('Count of Cars by Drive', fontsize=16)\n",
    "plt.xlabel('Drive', fontsize=14)\n",
    "plt.ylabel('Number of Cars', fontsize=14)\n",
    "plt.xticks(rotation=45)\n",
    "plt.grid(axis='y')\n",
    "\n",
    "for bar in bars:\n",
    "    yval = bar.get_height()\n",
    "    plt.text(bar.get_x() + bar.get_width()/2, yval, int(yval), ha='center', va='bottom')\n",
    "\n",
    "plt.tight_layout()\n",
    "plt.show()"
   ]
  },
  {
   "cell_type": "markdown",
   "id": "5ce95873",
   "metadata": {},
   "source": [
    "#### Year vs Average Price"
   ]
  },
  {
   "cell_type": "code",
   "execution_count": null,
   "id": "9b82685c-409a-4df6-ba63-8ad6d4ddd7d3",
   "metadata": {},
   "outputs": [],
   "source": [
    "average_price_per_year = df.groupby('year')['price'].mean().reset_index().astype(int)\n",
    "average_price_per_year.columns = ['Year', 'Average Price']  # Rename columns for clarity\n",
    "\n",
    "plt.figure(figsize=(15, 6))\n",
    "plt.plot(average_price_per_year['Year'], average_price_per_year['Average Price'], marker='o', color='skyblue', linestyle='-')\n",
    "plt.title('Average Price Over Years', fontsize=16)\n",
    "plt.xlabel('Year', fontsize=14)\n",
    "plt.ylabel('Average Price in $', fontsize=14)\n",
    "plt.xticks(average_price_per_year['Year'])\n",
    "plt.show()"
   ]
  }
 ],
 "metadata": {
  "kernelspec": {
   "display_name": "venv",
   "language": "python",
   "name": "python3"
  },
  "language_info": {
   "codemirror_mode": {
    "name": "ipython",
    "version": 3
   },
   "file_extension": ".py",
   "mimetype": "text/x-python",
   "name": "python",
   "nbconvert_exporter": "python",
   "pygments_lexer": "ipython3",
   "version": "3.11.4"
  }
 },
 "nbformat": 4,
 "nbformat_minor": 5
}
