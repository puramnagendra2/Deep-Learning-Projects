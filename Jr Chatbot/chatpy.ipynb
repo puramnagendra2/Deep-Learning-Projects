{
 "cells": [
  {
   "cell_type": "code",
   "execution_count": 22,
   "metadata": {},
   "outputs": [],
   "source": [
    "import numpy as np\n",
    "import pandas as pd\n",
    "import matplotlib.pyplot as plt\n"
   ]
  },
  {
   "cell_type": "code",
   "execution_count": 23,
   "metadata": {},
   "outputs": [],
   "source": [
    "pd.set_option('display.max_colwidth', 1)"
   ]
  },
  {
   "cell_type": "markdown",
   "metadata": {},
   "source": [
    "## Loading .txt file"
   ]
  },
  {
   "cell_type": "code",
   "execution_count": 24,
   "metadata": {},
   "outputs": [
    {
     "data": {
      "text/html": [
       "<div>\n",
       "<style scoped>\n",
       "    .dataframe tbody tr th:only-of-type {\n",
       "        vertical-align: middle;\n",
       "    }\n",
       "\n",
       "    .dataframe tbody tr th {\n",
       "        vertical-align: top;\n",
       "    }\n",
       "\n",
       "    .dataframe thead th {\n",
       "        text-align: right;\n",
       "    }\n",
       "</style>\n",
       "<table border=\"1\" class=\"dataframe\">\n",
       "  <thead>\n",
       "    <tr style=\"text-align: right;\">\n",
       "      <th></th>\n",
       "      <th>Question</th>\n",
       "      <th>Response</th>\n",
       "    </tr>\n",
       "  </thead>\n",
       "  <tbody>\n",
       "    <tr>\n",
       "      <th>0</th>\n",
       "      <td>hi, how are you doing?</td>\n",
       "      <td>i'm fine. how about yourself?</td>\n",
       "    </tr>\n",
       "    <tr>\n",
       "      <th>1</th>\n",
       "      <td>i'm fine. how about yourself?</td>\n",
       "      <td>i'm pretty good. thanks for asking.</td>\n",
       "    </tr>\n",
       "    <tr>\n",
       "      <th>2</th>\n",
       "      <td>i'm pretty good. thanks for asking.</td>\n",
       "      <td>no problem. so how have you been?</td>\n",
       "    </tr>\n",
       "    <tr>\n",
       "      <th>3</th>\n",
       "      <td>no problem. so how have you been?</td>\n",
       "      <td>i've been great. what about you?</td>\n",
       "    </tr>\n",
       "    <tr>\n",
       "      <th>4</th>\n",
       "      <td>i've been great. what about you?</td>\n",
       "      <td>i've been good. i'm in school right now.</td>\n",
       "    </tr>\n",
       "  </tbody>\n",
       "</table>\n",
       "</div>"
      ],
      "text/plain": [
       "                              Question  \\\n",
       "0  hi, how are you doing?                \n",
       "1  i'm fine. how about yourself?         \n",
       "2  i'm pretty good. thanks for asking.   \n",
       "3  no problem. so how have you been?     \n",
       "4  i've been great. what about you?      \n",
       "\n",
       "                                   Response  \n",
       "0  i'm fine. how about yourself?             \n",
       "1  i'm pretty good. thanks for asking.       \n",
       "2  no problem. so how have you been?         \n",
       "3  i've been great. what about you?          \n",
       "4  i've been good. i'm in school right now.  "
      ]
     },
     "execution_count": 24,
     "metadata": {},
     "output_type": "execute_result"
    }
   ],
   "source": [
    "# Step 1: Read the file\n",
    "file_path = \"dialogs.txt\"  # Replace with your file path\n",
    "with open(file_path, 'r') as file:\n",
    "    lines = file.readlines()\n",
    "\n",
    "# Step 2: Process the data\n",
    "# Splitting each line into question and response based on the tab separator\n",
    "data = []\n",
    "for line in lines:\n",
    "    parts = line.strip().split(\"\\t\")\n",
    "    if len(parts) == 2:  # Ensure both question and response are present\n",
    "        data.append(parts)\n",
    "\n",
    "# Convert to a DataFrame for easier manipulation\n",
    "df = pd.DataFrame(data, columns=[\"Question\", \"Response\"])\n",
    "\n",
    "# Display the first few rows\n",
    "df.head()"
   ]
  },
  {
   "cell_type": "code",
   "execution_count": 25,
   "metadata": {},
   "outputs": [
    {
     "data": {
      "text/plain": [
       "(3725, 2)"
      ]
     },
     "execution_count": 25,
     "metadata": {},
     "output_type": "execute_result"
    }
   ],
   "source": [
    "df.shape"
   ]
  },
  {
   "cell_type": "markdown",
   "metadata": {},
   "source": [
    "## Preprocessing"
   ]
  },
  {
   "cell_type": "markdown",
   "metadata": {},
   "source": [
    "#### Handling Missing Values"
   ]
  },
  {
   "cell_type": "code",
   "execution_count": 26,
   "metadata": {},
   "outputs": [
    {
     "name": "stdout",
     "output_type": "stream",
     "text": [
      "Question    0\n",
      "Response    0\n",
      "dtype: int64\n",
      "No Handling as not missing values\n"
     ]
    }
   ],
   "source": [
    "print(df.isna().sum())\n",
    "\n",
    "print(\"No Handling as not missing values\")"
   ]
  },
  {
   "cell_type": "markdown",
   "metadata": {},
   "source": [
    "#### Handling Duplicates"
   ]
  },
  {
   "cell_type": "code",
   "execution_count": 27,
   "metadata": {},
   "outputs": [
    {
     "data": {
      "text/plain": [
       "0       False\n",
       "1       False\n",
       "2       False\n",
       "3       False\n",
       "4       False\n",
       "        ...  \n",
       "3720    False\n",
       "3721    False\n",
       "3722    False\n",
       "3723    False\n",
       "3724    False\n",
       "Length: 3725, dtype: bool"
      ]
     },
     "execution_count": 27,
     "metadata": {},
     "output_type": "execute_result"
    }
   ],
   "source": [
    "df.duplicated()"
   ]
  },
  {
   "cell_type": "markdown",
   "metadata": {},
   "source": [
    "## NLP Text Preprocessing"
   ]
  },
  {
   "cell_type": "markdown",
   "metadata": {},
   "source": [
    "#### Lower casing"
   ]
  },
  {
   "cell_type": "code",
   "execution_count": 28,
   "metadata": {},
   "outputs": [
    {
     "data": {
      "text/html": [
       "<div>\n",
       "<style scoped>\n",
       "    .dataframe tbody tr th:only-of-type {\n",
       "        vertical-align: middle;\n",
       "    }\n",
       "\n",
       "    .dataframe tbody tr th {\n",
       "        vertical-align: top;\n",
       "    }\n",
       "\n",
       "    .dataframe thead th {\n",
       "        text-align: right;\n",
       "    }\n",
       "</style>\n",
       "<table border=\"1\" class=\"dataframe\">\n",
       "  <thead>\n",
       "    <tr style=\"text-align: right;\">\n",
       "      <th></th>\n",
       "      <th>Question</th>\n",
       "      <th>Response</th>\n",
       "    </tr>\n",
       "  </thead>\n",
       "  <tbody>\n",
       "    <tr>\n",
       "      <th>0</th>\n",
       "      <td>hi, how are you doing?</td>\n",
       "      <td>i'm fine. how about yourself?</td>\n",
       "    </tr>\n",
       "    <tr>\n",
       "      <th>1</th>\n",
       "      <td>i'm fine. how about yourself?</td>\n",
       "      <td>i'm pretty good. thanks for asking.</td>\n",
       "    </tr>\n",
       "    <tr>\n",
       "      <th>2</th>\n",
       "      <td>i'm pretty good. thanks for asking.</td>\n",
       "      <td>no problem. so how have you been?</td>\n",
       "    </tr>\n",
       "    <tr>\n",
       "      <th>3</th>\n",
       "      <td>no problem. so how have you been?</td>\n",
       "      <td>i've been great. what about you?</td>\n",
       "    </tr>\n",
       "    <tr>\n",
       "      <th>4</th>\n",
       "      <td>i've been great. what about you?</td>\n",
       "      <td>i've been good. i'm in school right now.</td>\n",
       "    </tr>\n",
       "  </tbody>\n",
       "</table>\n",
       "</div>"
      ],
      "text/plain": [
       "                              Question  \\\n",
       "0  hi, how are you doing?                \n",
       "1  i'm fine. how about yourself?         \n",
       "2  i'm pretty good. thanks for asking.   \n",
       "3  no problem. so how have you been?     \n",
       "4  i've been great. what about you?      \n",
       "\n",
       "                                   Response  \n",
       "0  i'm fine. how about yourself?             \n",
       "1  i'm pretty good. thanks for asking.       \n",
       "2  no problem. so how have you been?         \n",
       "3  i've been great. what about you?          \n",
       "4  i've been good. i'm in school right now.  "
      ]
     },
     "execution_count": 28,
     "metadata": {},
     "output_type": "execute_result"
    }
   ],
   "source": [
    "df = df.map(str.lower)\n",
    "df.head()"
   ]
  },
  {
   "cell_type": "markdown",
   "metadata": {},
   "source": [
    "#### Contractions"
   ]
  },
  {
   "cell_type": "code",
   "execution_count": 29,
   "metadata": {},
   "outputs": [
    {
     "data": {
      "text/html": [
       "<div>\n",
       "<style scoped>\n",
       "    .dataframe tbody tr th:only-of-type {\n",
       "        vertical-align: middle;\n",
       "    }\n",
       "\n",
       "    .dataframe tbody tr th {\n",
       "        vertical-align: top;\n",
       "    }\n",
       "\n",
       "    .dataframe thead th {\n",
       "        text-align: right;\n",
       "    }\n",
       "</style>\n",
       "<table border=\"1\" class=\"dataframe\">\n",
       "  <thead>\n",
       "    <tr style=\"text-align: right;\">\n",
       "      <th></th>\n",
       "      <th>Question</th>\n",
       "      <th>Response</th>\n",
       "    </tr>\n",
       "  </thead>\n",
       "  <tbody>\n",
       "    <tr>\n",
       "      <th>0</th>\n",
       "      <td>hi, how are you doing?</td>\n",
       "      <td>i am fine. how about yourself?</td>\n",
       "    </tr>\n",
       "    <tr>\n",
       "      <th>1</th>\n",
       "      <td>i am fine. how about yourself?</td>\n",
       "      <td>i am pretty good. thanks for asking.</td>\n",
       "    </tr>\n",
       "    <tr>\n",
       "      <th>2</th>\n",
       "      <td>i am pretty good. thanks for asking.</td>\n",
       "      <td>no problem. so how have you been?</td>\n",
       "    </tr>\n",
       "    <tr>\n",
       "      <th>3</th>\n",
       "      <td>no problem. so how have you been?</td>\n",
       "      <td>i have been great. what about you?</td>\n",
       "    </tr>\n",
       "    <tr>\n",
       "      <th>4</th>\n",
       "      <td>i have been great. what about you?</td>\n",
       "      <td>i have been good. i am in school right now.</td>\n",
       "    </tr>\n",
       "  </tbody>\n",
       "</table>\n",
       "</div>"
      ],
      "text/plain": [
       "                               Question  \\\n",
       "0  hi, how are you doing?                 \n",
       "1  i am fine. how about yourself?         \n",
       "2  i am pretty good. thanks for asking.   \n",
       "3  no problem. so how have you been?      \n",
       "4  i have been great. what about you?     \n",
       "\n",
       "                                      Response  \n",
       "0  i am fine. how about yourself?               \n",
       "1  i am pretty good. thanks for asking.         \n",
       "2  no problem. so how have you been?            \n",
       "3  i have been great. what about you?           \n",
       "4  i have been good. i am in school right now.  "
      ]
     },
     "execution_count": 29,
     "metadata": {},
     "output_type": "execute_result"
    }
   ],
   "source": [
    "import contractions\n",
    "def expand_contractions(text):\n",
    "    return ' '.join([contractions.fix(word) for word in text.split()])\n",
    "\n",
    "df['Question'] = df['Question'].apply(expand_contractions)\n",
    "df['Response'] = df['Response'].apply(expand_contractions)\n",
    "df.head()"
   ]
  },
  {
   "cell_type": "markdown",
   "metadata": {},
   "source": [
    "#### Punctuations Removal"
   ]
  },
  {
   "cell_type": "code",
   "execution_count": 30,
   "metadata": {},
   "outputs": [
    {
     "data": {
      "text/html": [
       "<div>\n",
       "<style scoped>\n",
       "    .dataframe tbody tr th:only-of-type {\n",
       "        vertical-align: middle;\n",
       "    }\n",
       "\n",
       "    .dataframe tbody tr th {\n",
       "        vertical-align: top;\n",
       "    }\n",
       "\n",
       "    .dataframe thead th {\n",
       "        text-align: right;\n",
       "    }\n",
       "</style>\n",
       "<table border=\"1\" class=\"dataframe\">\n",
       "  <thead>\n",
       "    <tr style=\"text-align: right;\">\n",
       "      <th></th>\n",
       "      <th>Question</th>\n",
       "      <th>Response</th>\n",
       "    </tr>\n",
       "  </thead>\n",
       "  <tbody>\n",
       "    <tr>\n",
       "      <th>0</th>\n",
       "      <td>hi how are you doing</td>\n",
       "      <td>i am fine how about yourself</td>\n",
       "    </tr>\n",
       "    <tr>\n",
       "      <th>1</th>\n",
       "      <td>i am fine how about yourself</td>\n",
       "      <td>i am pretty good thanks for asking</td>\n",
       "    </tr>\n",
       "    <tr>\n",
       "      <th>2</th>\n",
       "      <td>i am pretty good thanks for asking</td>\n",
       "      <td>no problem so how have you been</td>\n",
       "    </tr>\n",
       "    <tr>\n",
       "      <th>3</th>\n",
       "      <td>no problem so how have you been</td>\n",
       "      <td>i have been great what about you</td>\n",
       "    </tr>\n",
       "    <tr>\n",
       "      <th>4</th>\n",
       "      <td>i have been great what about you</td>\n",
       "      <td>i have been good i am in school right now</td>\n",
       "    </tr>\n",
       "  </tbody>\n",
       "</table>\n",
       "</div>"
      ],
      "text/plain": [
       "                             Question  \\\n",
       "0  hi how are you doing                 \n",
       "1  i am fine how about yourself         \n",
       "2  i am pretty good thanks for asking   \n",
       "3  no problem so how have you been      \n",
       "4  i have been great what about you     \n",
       "\n",
       "                                    Response  \n",
       "0  i am fine how about yourself               \n",
       "1  i am pretty good thanks for asking         \n",
       "2  no problem so how have you been            \n",
       "3  i have been great what about you           \n",
       "4  i have been good i am in school right now  "
      ]
     },
     "execution_count": 30,
     "metadata": {},
     "output_type": "execute_result"
    }
   ],
   "source": [
    "import string\n",
    "def remove_punctuation(text):\n",
    "    return text.translate(str.maketrans('', '', string.punctuation))\n",
    "\n",
    "# Apply the function to both columns\n",
    "df['Question'] = df['Question'].apply(remove_punctuation)\n",
    "df['Response'] = df['Response'].apply(remove_punctuation)\n",
    "df.head()"
   ]
  },
  {
   "cell_type": "markdown",
   "metadata": {},
   "source": [
    "#### Numbers removal"
   ]
  },
  {
   "cell_type": "code",
   "execution_count": 31,
   "metadata": {},
   "outputs": [
    {
     "data": {
      "text/html": [
       "<div>\n",
       "<style scoped>\n",
       "    .dataframe tbody tr th:only-of-type {\n",
       "        vertical-align: middle;\n",
       "    }\n",
       "\n",
       "    .dataframe tbody tr th {\n",
       "        vertical-align: top;\n",
       "    }\n",
       "\n",
       "    .dataframe thead th {\n",
       "        text-align: right;\n",
       "    }\n",
       "</style>\n",
       "<table border=\"1\" class=\"dataframe\">\n",
       "  <thead>\n",
       "    <tr style=\"text-align: right;\">\n",
       "      <th></th>\n",
       "      <th>Question</th>\n",
       "      <th>Response</th>\n",
       "    </tr>\n",
       "  </thead>\n",
       "  <tbody>\n",
       "    <tr>\n",
       "      <th>0</th>\n",
       "      <td>hi how are you doing</td>\n",
       "      <td>i am fine how about yourself</td>\n",
       "    </tr>\n",
       "    <tr>\n",
       "      <th>1</th>\n",
       "      <td>i am fine how about yourself</td>\n",
       "      <td>i am pretty good thanks for asking</td>\n",
       "    </tr>\n",
       "    <tr>\n",
       "      <th>2</th>\n",
       "      <td>i am pretty good thanks for asking</td>\n",
       "      <td>no problem so how have you been</td>\n",
       "    </tr>\n",
       "    <tr>\n",
       "      <th>3</th>\n",
       "      <td>no problem so how have you been</td>\n",
       "      <td>i have been great what about you</td>\n",
       "    </tr>\n",
       "    <tr>\n",
       "      <th>4</th>\n",
       "      <td>i have been great what about you</td>\n",
       "      <td>i have been good i am in school right now</td>\n",
       "    </tr>\n",
       "  </tbody>\n",
       "</table>\n",
       "</div>"
      ],
      "text/plain": [
       "                             Question  \\\n",
       "0  hi how are you doing                 \n",
       "1  i am fine how about yourself         \n",
       "2  i am pretty good thanks for asking   \n",
       "3  no problem so how have you been      \n",
       "4  i have been great what about you     \n",
       "\n",
       "                                    Response  \n",
       "0  i am fine how about yourself               \n",
       "1  i am pretty good thanks for asking         \n",
       "2  no problem so how have you been            \n",
       "3  i have been great what about you           \n",
       "4  i have been good i am in school right now  "
      ]
     },
     "execution_count": 31,
     "metadata": {},
     "output_type": "execute_result"
    }
   ],
   "source": [
    "import string\n",
    "translation_table = str.maketrans('', '', string.digits)\n",
    "df['Question'] = df['Question'].apply(lambda x: x.translate(translation_table))\n",
    "df['Response'] = df['Response'].apply(lambda x: x.translate(translation_table))\n",
    "df.head()"
   ]
  },
  {
   "cell_type": "markdown",
   "metadata": {},
   "source": [
    "#### Removing Extra Spaces"
   ]
  },
  {
   "cell_type": "code",
   "execution_count": 32,
   "metadata": {},
   "outputs": [
    {
     "data": {
      "text/html": [
       "<div>\n",
       "<style scoped>\n",
       "    .dataframe tbody tr th:only-of-type {\n",
       "        vertical-align: middle;\n",
       "    }\n",
       "\n",
       "    .dataframe tbody tr th {\n",
       "        vertical-align: top;\n",
       "    }\n",
       "\n",
       "    .dataframe thead th {\n",
       "        text-align: right;\n",
       "    }\n",
       "</style>\n",
       "<table border=\"1\" class=\"dataframe\">\n",
       "  <thead>\n",
       "    <tr style=\"text-align: right;\">\n",
       "      <th></th>\n",
       "      <th>Question</th>\n",
       "      <th>Response</th>\n",
       "    </tr>\n",
       "  </thead>\n",
       "  <tbody>\n",
       "    <tr>\n",
       "      <th>0</th>\n",
       "      <td>hi how are you doing</td>\n",
       "      <td>i am fine how about yourself</td>\n",
       "    </tr>\n",
       "    <tr>\n",
       "      <th>1</th>\n",
       "      <td>i am fine how about yourself</td>\n",
       "      <td>i am pretty good thanks for asking</td>\n",
       "    </tr>\n",
       "    <tr>\n",
       "      <th>2</th>\n",
       "      <td>i am pretty good thanks for asking</td>\n",
       "      <td>no problem so how have you been</td>\n",
       "    </tr>\n",
       "    <tr>\n",
       "      <th>3</th>\n",
       "      <td>no problem so how have you been</td>\n",
       "      <td>i have been great what about you</td>\n",
       "    </tr>\n",
       "    <tr>\n",
       "      <th>4</th>\n",
       "      <td>i have been great what about you</td>\n",
       "      <td>i have been good i am in school right now</td>\n",
       "    </tr>\n",
       "  </tbody>\n",
       "</table>\n",
       "</div>"
      ],
      "text/plain": [
       "                             Question  \\\n",
       "0  hi how are you doing                 \n",
       "1  i am fine how about yourself         \n",
       "2  i am pretty good thanks for asking   \n",
       "3  no problem so how have you been      \n",
       "4  i have been great what about you     \n",
       "\n",
       "                                    Response  \n",
       "0  i am fine how about yourself               \n",
       "1  i am pretty good thanks for asking         \n",
       "2  no problem so how have you been            \n",
       "3  i have been great what about you           \n",
       "4  i have been good i am in school right now  "
      ]
     },
     "execution_count": 32,
     "metadata": {},
     "output_type": "execute_result"
    }
   ],
   "source": [
    "import re\n",
    "def remove_extra_spaces_with_re(text):\n",
    "    return re.sub(r'\\s+', ' ', text.strip())\n",
    "\n",
    "df['Question'] = df['Question'].apply(remove_extra_spaces_with_re)\n",
    "df['Response'] = df['Response'].apply(remove_extra_spaces_with_re)\n",
    "df.head()"
   ]
  },
  {
   "cell_type": "markdown",
   "metadata": {},
   "source": [
    "#### Handling Repeated Punctuations"
   ]
  },
  {
   "cell_type": "code",
   "execution_count": 33,
   "metadata": {},
   "outputs": [
    {
     "data": {
      "text/html": [
       "<div>\n",
       "<style scoped>\n",
       "    .dataframe tbody tr th:only-of-type {\n",
       "        vertical-align: middle;\n",
       "    }\n",
       "\n",
       "    .dataframe tbody tr th {\n",
       "        vertical-align: top;\n",
       "    }\n",
       "\n",
       "    .dataframe thead th {\n",
       "        text-align: right;\n",
       "    }\n",
       "</style>\n",
       "<table border=\"1\" class=\"dataframe\">\n",
       "  <thead>\n",
       "    <tr style=\"text-align: right;\">\n",
       "      <th></th>\n",
       "      <th>Question</th>\n",
       "      <th>Response</th>\n",
       "    </tr>\n",
       "  </thead>\n",
       "  <tbody>\n",
       "    <tr>\n",
       "      <th>0</th>\n",
       "      <td>hi how are you doing</td>\n",
       "      <td>i am fine how about yourself</td>\n",
       "    </tr>\n",
       "    <tr>\n",
       "      <th>1</th>\n",
       "      <td>i am fine how about yourself</td>\n",
       "      <td>i am pretty good thanks for asking</td>\n",
       "    </tr>\n",
       "    <tr>\n",
       "      <th>2</th>\n",
       "      <td>i am pretty good thanks for asking</td>\n",
       "      <td>no problem so how have you been</td>\n",
       "    </tr>\n",
       "    <tr>\n",
       "      <th>3</th>\n",
       "      <td>no problem so how have you been</td>\n",
       "      <td>i have been great what about you</td>\n",
       "    </tr>\n",
       "    <tr>\n",
       "      <th>4</th>\n",
       "      <td>i have been great what about you</td>\n",
       "      <td>i have been good i am in school right now</td>\n",
       "    </tr>\n",
       "  </tbody>\n",
       "</table>\n",
       "</div>"
      ],
      "text/plain": [
       "                             Question  \\\n",
       "0  hi how are you doing                 \n",
       "1  i am fine how about yourself         \n",
       "2  i am pretty good thanks for asking   \n",
       "3  no problem so how have you been      \n",
       "4  i have been great what about you     \n",
       "\n",
       "                                    Response  \n",
       "0  i am fine how about yourself               \n",
       "1  i am pretty good thanks for asking         \n",
       "2  no problem so how have you been            \n",
       "3  i have been great what about you           \n",
       "4  i have been good i am in school right now  "
      ]
     },
     "execution_count": 33,
     "metadata": {},
     "output_type": "execute_result"
    }
   ],
   "source": [
    "import re\n",
    "def replace_repeated_puncs(text):\n",
    "    return re.sub(r'([!?/\\.])\\1+', r'\\1', text)\n",
    "df['Question'] = df['Question'].apply(replace_repeated_puncs)\n",
    "df['Response'] = df['Response'].apply(replace_repeated_puncs)\n",
    "df.head()"
   ]
  },
  {
   "cell_type": "markdown",
   "metadata": {},
   "source": [
    "## Tokenization"
   ]
  },
  {
   "cell_type": "code",
   "execution_count": 34,
   "metadata": {},
   "outputs": [
    {
     "data": {
      "text/html": [
       "<div>\n",
       "<style scoped>\n",
       "    .dataframe tbody tr th:only-of-type {\n",
       "        vertical-align: middle;\n",
       "    }\n",
       "\n",
       "    .dataframe tbody tr th {\n",
       "        vertical-align: top;\n",
       "    }\n",
       "\n",
       "    .dataframe thead th {\n",
       "        text-align: right;\n",
       "    }\n",
       "</style>\n",
       "<table border=\"1\" class=\"dataframe\">\n",
       "  <thead>\n",
       "    <tr style=\"text-align: right;\">\n",
       "      <th></th>\n",
       "      <th>Question</th>\n",
       "      <th>Response</th>\n",
       "      <th>question_tokens</th>\n",
       "      <th>response_tokens</th>\n",
       "    </tr>\n",
       "  </thead>\n",
       "  <tbody>\n",
       "    <tr>\n",
       "      <th>0</th>\n",
       "      <td>hi how are you doing</td>\n",
       "      <td>i am fine how about yourself</td>\n",
       "      <td>[hi, how, are, you, doing]</td>\n",
       "      <td>[i, am, fine, how, about, yourself]</td>\n",
       "    </tr>\n",
       "    <tr>\n",
       "      <th>1</th>\n",
       "      <td>i am fine how about yourself</td>\n",
       "      <td>i am pretty good thanks for asking</td>\n",
       "      <td>[i, am, fine, how, about, yourself]</td>\n",
       "      <td>[i, am, pretty, good, thanks, for, asking]</td>\n",
       "    </tr>\n",
       "    <tr>\n",
       "      <th>2</th>\n",
       "      <td>i am pretty good thanks for asking</td>\n",
       "      <td>no problem so how have you been</td>\n",
       "      <td>[i, am, pretty, good, thanks, for, asking]</td>\n",
       "      <td>[no, problem, so, how, have, you, been]</td>\n",
       "    </tr>\n",
       "    <tr>\n",
       "      <th>3</th>\n",
       "      <td>no problem so how have you been</td>\n",
       "      <td>i have been great what about you</td>\n",
       "      <td>[no, problem, so, how, have, you, been]</td>\n",
       "      <td>[i, have, been, great, what, about, you]</td>\n",
       "    </tr>\n",
       "    <tr>\n",
       "      <th>4</th>\n",
       "      <td>i have been great what about you</td>\n",
       "      <td>i have been good i am in school right now</td>\n",
       "      <td>[i, have, been, great, what, about, you]</td>\n",
       "      <td>[i, have, been, good, i, am, in, school, right, now]</td>\n",
       "    </tr>\n",
       "  </tbody>\n",
       "</table>\n",
       "</div>"
      ],
      "text/plain": [
       "                             Question  \\\n",
       "0  hi how are you doing                 \n",
       "1  i am fine how about yourself         \n",
       "2  i am pretty good thanks for asking   \n",
       "3  no problem so how have you been      \n",
       "4  i have been great what about you     \n",
       "\n",
       "                                    Response  \\\n",
       "0  i am fine how about yourself                \n",
       "1  i am pretty good thanks for asking          \n",
       "2  no problem so how have you been             \n",
       "3  i have been great what about you            \n",
       "4  i have been good i am in school right now   \n",
       "\n",
       "                              question_tokens  \\\n",
       "0  [hi, how, are, you, doing]                   \n",
       "1  [i, am, fine, how, about, yourself]          \n",
       "2  [i, am, pretty, good, thanks, for, asking]   \n",
       "3  [no, problem, so, how, have, you, been]      \n",
       "4  [i, have, been, great, what, about, you]     \n",
       "\n",
       "                                        response_tokens  \n",
       "0  [i, am, fine, how, about, yourself]                   \n",
       "1  [i, am, pretty, good, thanks, for, asking]            \n",
       "2  [no, problem, so, how, have, you, been]               \n",
       "3  [i, have, been, great, what, about, you]              \n",
       "4  [i, have, been, good, i, am, in, school, right, now]  "
      ]
     },
     "execution_count": 34,
     "metadata": {},
     "output_type": "execute_result"
    }
   ],
   "source": [
    "from transformers import AutoTokenizer\n",
    "\n",
    "tokenizer = AutoTokenizer.from_pretrained(\"bert-base-uncased\")\n",
    "\n",
    "# Step 3: Tokenize each row in the 'question' and 'response' columns\n",
    "df['question_tokens'] = df['Question'].apply(lambda x: tokenizer.tokenize(x))\n",
    "df['response_tokens'] = df['Response'].apply(lambda x: tokenizer.tokenize(x))\n",
    "df.head()"
   ]
  },
  {
   "cell_type": "markdown",
   "metadata": {},
   "source": [
    "## Stemming & Lemmatization"
   ]
  },
  {
   "cell_type": "code",
   "execution_count": 35,
   "metadata": {},
   "outputs": [
    {
     "data": {
      "text/html": [
       "<div>\n",
       "<style scoped>\n",
       "    .dataframe tbody tr th:only-of-type {\n",
       "        vertical-align: middle;\n",
       "    }\n",
       "\n",
       "    .dataframe tbody tr th {\n",
       "        vertical-align: top;\n",
       "    }\n",
       "\n",
       "    .dataframe thead th {\n",
       "        text-align: right;\n",
       "    }\n",
       "</style>\n",
       "<table border=\"1\" class=\"dataframe\">\n",
       "  <thead>\n",
       "    <tr style=\"text-align: right;\">\n",
       "      <th></th>\n",
       "      <th>Question</th>\n",
       "      <th>Response</th>\n",
       "      <th>question_tokens</th>\n",
       "      <th>response_tokens</th>\n",
       "    </tr>\n",
       "  </thead>\n",
       "  <tbody>\n",
       "    <tr>\n",
       "      <th>0</th>\n",
       "      <td>hi how are you doing</td>\n",
       "      <td>i am fine how about yourself</td>\n",
       "      <td>[hi, how, are, you, doing]</td>\n",
       "      <td>[i, am, fine, how, about, yourself]</td>\n",
       "    </tr>\n",
       "    <tr>\n",
       "      <th>1</th>\n",
       "      <td>i am fine how about yourself</td>\n",
       "      <td>i am pretty good thanks for asking</td>\n",
       "      <td>[i, am, fine, how, about, yourself]</td>\n",
       "      <td>[i, am, pretty, good, thanks, for, asking]</td>\n",
       "    </tr>\n",
       "    <tr>\n",
       "      <th>2</th>\n",
       "      <td>i am pretty good thanks for asking</td>\n",
       "      <td>no problem so how have you been</td>\n",
       "      <td>[i, am, pretty, good, thanks, for, asking]</td>\n",
       "      <td>[no, problem, so, how, have, you, been]</td>\n",
       "    </tr>\n",
       "    <tr>\n",
       "      <th>3</th>\n",
       "      <td>no problem so how have you been</td>\n",
       "      <td>i have been great what about you</td>\n",
       "      <td>[no, problem, so, how, have, you, been]</td>\n",
       "      <td>[i, have, been, great, what, about, you]</td>\n",
       "    </tr>\n",
       "    <tr>\n",
       "      <th>4</th>\n",
       "      <td>i have been great what about you</td>\n",
       "      <td>i have been good i am in school right now</td>\n",
       "      <td>[i, have, been, great, what, about, you]</td>\n",
       "      <td>[i, have, been, good, i, am, in, school, right, now]</td>\n",
       "    </tr>\n",
       "  </tbody>\n",
       "</table>\n",
       "</div>"
      ],
      "text/plain": [
       "                             Question  \\\n",
       "0  hi how are you doing                 \n",
       "1  i am fine how about yourself         \n",
       "2  i am pretty good thanks for asking   \n",
       "3  no problem so how have you been      \n",
       "4  i have been great what about you     \n",
       "\n",
       "                                    Response  \\\n",
       "0  i am fine how about yourself                \n",
       "1  i am pretty good thanks for asking          \n",
       "2  no problem so how have you been             \n",
       "3  i have been great what about you            \n",
       "4  i have been good i am in school right now   \n",
       "\n",
       "                              question_tokens  \\\n",
       "0  [hi, how, are, you, doing]                   \n",
       "1  [i, am, fine, how, about, yourself]          \n",
       "2  [i, am, pretty, good, thanks, for, asking]   \n",
       "3  [no, problem, so, how, have, you, been]      \n",
       "4  [i, have, been, great, what, about, you]     \n",
       "\n",
       "                                        response_tokens  \n",
       "0  [i, am, fine, how, about, yourself]                   \n",
       "1  [i, am, pretty, good, thanks, for, asking]            \n",
       "2  [no, problem, so, how, have, you, been]               \n",
       "3  [i, have, been, great, what, about, you]              \n",
       "4  [i, have, been, good, i, am, in, school, right, now]  "
      ]
     },
     "execution_count": 35,
     "metadata": {},
     "output_type": "execute_result"
    }
   ],
   "source": [
    "from nltk.stem import WordNetLemmatizer\n",
    "wordnet_lemmatizer = WordNetLemmatizer()\n",
    "\n",
    "#defining the function for lemmatization\n",
    "def lemmatizer(text):\n",
    "    lemm_text = [wordnet_lemmatizer.lemmatize(word) for word in text]\n",
    "    return lemm_text\n",
    "df['question_tokens']=df['question_tokens'].apply(lambda x:lemmatizer(x))\n",
    "df['response_tokens'] = df['response_tokens'].apply(lambda x: lemmatizer(x))\n",
    "df.head()"
   ]
  },
  {
   "cell_type": "markdown",
   "metadata": {},
   "source": [
    "## Text Representation"
   ]
  },
  {
   "cell_type": "code",
   "execution_count": 36,
   "metadata": {},
   "outputs": [],
   "source": [
    "import pandas as pd\n",
    "from transformers import AutoTokenizer, AutoModel\n",
    "import torch\n",
    "\n",
    "# Load pre-trained transformer model and tokenizer\n",
    "model_name = \"bert-base-uncased\"  # You can replace this with any other model like \"distilbert-base-uncased\"\n",
    "tokenizer = AutoTokenizer.from_pretrained(model_name)\n",
    "model = AutoModel.from_pretrained(model_name)\n",
    "\n",
    "if tokenizer.pad_token is None:\n",
    "    tokenizer.add_special_tokens({'pad_token': '[PAD]'})\n",
    "    model.resize_token_embeddings(len(tokenizer))\n",
    "\n",
    "# Function to get embeddings\n",
    "def get_embeddings(texts):\n",
    "    tokens = tokenizer(texts, padding=True, truncation=True, return_tensors=\"pt\")\n",
    "    with torch.no_grad():\n",
    "        outputs = model(**tokens)\n",
    "        embeddings = outputs.last_hidden_state.mean(dim=1)  # Mean pooling\n",
    "    return embeddings\n",
    "\n",
    "# Get embeddings for 'Question' and 'Response'\n",
    "df[\"Question_Embeddings\"] = list(get_embeddings(df[\"Question\"].tolist()).numpy())\n",
    "df[\"Response_Embeddings\"] = list(get_embeddings(df[\"Response\"].tolist()).numpy())"
   ]
  },
  {
   "cell_type": "code",
   "execution_count": 46,
   "metadata": {},
   "outputs": [
    {
     "data": {
      "text/plain": [
       "0    [-0.084322825, -0.29642522, 0.107464604, 0.06761158, 0.045005273, -0.36714563, -0.038330637, 0.4176241, 0.14506508, -0.40889618, -0.025968947, -0.13267325, -0.025408257, 0.05544834, -0.26655722, 0.32937482, 0.058801685, 0.2423604, -0.06465361, 0.46883267, -0.032088682, -0.27868727, 0.032381117, 0.05643771, 0.06908245, -0.067590125, -0.56853, 0.108709075, -0.11642273, -0.21876977, 0.017847342, 0.14752997, -0.20447387, 0.10257865, 0.18059957, 0.1654304, -0.17744726, 0.057701472, -0.3381567, 0.32482374, -0.5958184, -0.43422377, -0.04663925, 0.0012705732, -0.35299122, -0.62987703, 0.051803123, -0.19315194, -0.1997378, -0.21552132, -0.079806454, 0.16827577, -0.50703984, -0.014744756, -0.56430286, 0.2152796, 0.017850423, -0.67047054, -0.69661885, 0.06297649, 0.23837209, -0.28224155, -0.24002466, 0.08230722, 0.12211145, 0.1616512, 0.060312867, 0.1993176, -0.45128775, 0.47030544, -0.44425106, -0.20570198, -0.03653549, -0.15316619, -0.15003, 0.010101399, -0.19414373, 0.20522928, 0.01526631, 0.034639467, 0.00067137455, 0.20196246, 0.22377013, 0.16324423, -0.0015078512, 0.22130392, -0.32199717, 0.032422822, 0.04456904, 0.3358143, 0.25369692, -0.22173691, 0.12664424, 0.17597161, 0.30965522, -0.34176418, -0.39149743, 0.24459447, -0.08809433, 0.023599261, ...]\n",
       "1    [0.08694417, -0.3504896, -0.010461641, -0.0007057637, 0.22674249, -0.2164548, -0.17136958, 0.37046382, -0.03513408, -0.29210237, 0.07565384, 0.21186353, 0.09164712, 0.10223167, -0.19707146, 0.23126665, 0.23198037, 0.256825, 0.089198664, 0.25338736, 0.15155251, -0.17072378, 0.034023475, 0.10554478, 0.22117485, -0.019442948, -0.17113426, 0.3258734, -0.0798314, -0.25878772, -0.09259739, 0.11437352, -0.27960265, 0.2795223, -0.34646255, -0.089238405, -0.2386611, 0.15108551, -0.5196974, 0.12126971, -0.5821555, -0.24259382, -0.03919399, -0.051267087, 0.067544214, -0.24699745, 0.20256238, -0.3565829, 0.05417842, -0.13439111, -0.34780198, 0.15631181, -0.32066688, 0.11451554, -0.3652254, -0.03582444, 0.015126505, -0.43574685, -0.6822088, -0.03926374, 0.23996352, 0.104848556, 0.12602362, 0.17850202, 0.29183543, 0.17611331, 0.17022137, -0.24079514, -0.26498553, 0.4562868, -0.3451291, -0.17088072, -0.47321537, -0.27807066, 0.023660583, 0.31594115, -0.16463369, -0.005742748, -0.10848736, 0.069367595, 0.15103418, 0.17958604, -0.07399296, -0.2247324, 0.08781179, -0.18165772, -0.49398926, 0.25107595, -0.0831408, 0.48017833, 0.2136067, -0.10482495, 0.05339171, -0.09597655, 0.21547757, -0.36258128, -0.14526194, 0.027125161, -0.14198004, 0.09445849, ...]            \n",
       "Name: Question_Embeddings, dtype: object"
      ]
     },
     "execution_count": 46,
     "metadata": {},
     "output_type": "execute_result"
    }
   ],
   "source": [
    "df[\"Question_Embeddings\"].head(2)"
   ]
  },
  {
   "cell_type": "code",
   "execution_count": 47,
   "metadata": {},
   "outputs": [
    {
     "data": {
      "text/plain": [
       "0    [0.08694417, -0.3504896, -0.010461641, -0.0007057637, 0.22674249, -0.2164548, -0.17136958, 0.37046382, -0.03513408, -0.29210237, 0.07565384, 0.21186353, 0.09164712, 0.10223167, -0.19707146, 0.23126665, 0.23198037, 0.256825, 0.089198664, 0.25338736, 0.15155251, -0.17072378, 0.034023475, 0.10554478, 0.22117485, -0.019442948, -0.17113426, 0.3258734, -0.0798314, -0.25878772, -0.09259739, 0.11437352, -0.27960265, 0.2795223, -0.34646255, -0.089238405, -0.2386611, 0.15108551, -0.5196974, 0.12126971, -0.5821555, -0.24259382, -0.03919399, -0.051267087, 0.067544214, -0.24699745, 0.20256238, -0.3565829, 0.05417842, -0.13439111, -0.34780198, 0.15631181, -0.32066688, 0.11451554, -0.3652254, -0.03582444, 0.015126505, -0.43574685, -0.6822088, -0.03926374, 0.23996352, 0.104848556, 0.12602362, 0.17850202, 0.29183543, 0.17611331, 0.17022137, -0.24079514, -0.26498553, 0.4562868, -0.3451291, -0.17088072, -0.47321537, -0.27807066, 0.023660583, 0.31594115, -0.16463369, -0.005742748, -0.10848736, 0.069367595, 0.15103418, 0.17958604, -0.07399296, -0.2247324, 0.08781179, -0.18165772, -0.49398926, 0.25107595, -0.0831408, 0.48017833, 0.2136067, -0.10482495, 0.05339171, -0.09597655, 0.21547757, -0.36258128, -0.14526194, 0.027125161, -0.14198004, 0.09445849, ...]             \n",
       "1    [0.097295515, 0.08228769, 0.34040695, 0.06206957, -0.0809221, -0.16781592, -0.03134112, 0.61009365, -0.043990422, -0.086599216, 0.011163881, -0.0426501, 0.37197992, 0.31436318, -0.050386015, 0.23326272, 0.08830173, 0.2644574, 0.12776269, 0.0772916, 0.037385, -0.07833355, -0.19083667, 0.08696188, 0.21618828, 0.052467886, -0.41524774, 0.09521239, -0.12835361, -0.16232315, 0.3092433, -0.003343343, -0.102397874, 0.36354005, -0.14894994, 0.029124975, -0.2862538, -0.06504639, -0.3786852, -0.049913846, -0.088983126, -0.080196865, -0.09053173, -0.06323185, -0.098284595, -0.025767855, 0.30740044, -0.38000438, 0.20937234, -0.6417431, -0.06064933, -0.086818635, -0.40658677, 0.28804895, 0.062204286, 0.14818893, -0.1954738, -0.5504348, -0.6303483, 0.18788749, 0.1346266, -0.2344853, 0.18860622, -0.08685562, 0.09701527, 0.17283356, 0.37825784, -0.02879799, -0.36197597, 0.19311613, -0.101476744, -0.15484832, -0.003038023, -0.5173409, -0.06794587, 0.22330108, 0.024033481, -0.018804124, -0.17090382, 0.222403, 0.14530517, 0.28290102, 0.058733188, 0.07187509, 0.0019030056, 0.05197461, -0.046217464, -0.06784913, -0.038217817, 0.33212173, 0.043521807, -0.18492351, -0.18351866, 0.07453417, 0.32372028, -0.43332955, -0.5000469, -0.16264556, -0.10647117, 0.0041672955, ...]\n",
       "Name: Response_Embeddings, dtype: object"
      ]
     },
     "execution_count": 47,
     "metadata": {},
     "output_type": "execute_result"
    }
   ],
   "source": [
    "df[\"Response_Embeddings\"].head(2)"
   ]
  },
  {
   "cell_type": "markdown",
   "metadata": {},
   "source": [
    "## Model Building"
   ]
  },
  {
   "cell_type": "code",
   "execution_count": null,
   "metadata": {},
   "outputs": [],
   "source": []
  }
 ],
 "metadata": {
  "kernelspec": {
   "display_name": "chatenv",
   "language": "python",
   "name": "python3"
  },
  "language_info": {
   "codemirror_mode": {
    "name": "ipython",
    "version": 3
   },
   "file_extension": ".py",
   "mimetype": "text/x-python",
   "name": "python",
   "nbconvert_exporter": "python",
   "pygments_lexer": "ipython3",
   "version": "3.11.4"
  }
 },
 "nbformat": 4,
 "nbformat_minor": 2
}
