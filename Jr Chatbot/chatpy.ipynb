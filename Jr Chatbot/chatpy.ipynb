{
 "cells": [
  {
   "cell_type": "code",
   "execution_count": 299,
   "metadata": {},
   "outputs": [],
   "source": [
    "import numpy as np\n",
    "import pandas as pd\n",
    "import matplotlib.pyplot as plt\n"
   ]
  },
  {
   "cell_type": "code",
   "execution_count": 300,
   "metadata": {},
   "outputs": [],
   "source": [
    "pd.set_option('display.max_colwidth', 1)"
   ]
  },
  {
   "cell_type": "markdown",
   "metadata": {},
   "source": [
    "## Loading .txt file"
   ]
  },
  {
   "cell_type": "code",
   "execution_count": 301,
   "metadata": {},
   "outputs": [
    {
     "data": {
      "text/html": [
       "<div>\n",
       "<style scoped>\n",
       "    .dataframe tbody tr th:only-of-type {\n",
       "        vertical-align: middle;\n",
       "    }\n",
       "\n",
       "    .dataframe tbody tr th {\n",
       "        vertical-align: top;\n",
       "    }\n",
       "\n",
       "    .dataframe thead th {\n",
       "        text-align: right;\n",
       "    }\n",
       "</style>\n",
       "<table border=\"1\" class=\"dataframe\">\n",
       "  <thead>\n",
       "    <tr style=\"text-align: right;\">\n",
       "      <th></th>\n",
       "      <th>Question</th>\n",
       "      <th>Response</th>\n",
       "    </tr>\n",
       "  </thead>\n",
       "  <tbody>\n",
       "    <tr>\n",
       "      <th>0</th>\n",
       "      <td>hi, how are you doing?</td>\n",
       "      <td>i'm fine. how about yourself?</td>\n",
       "    </tr>\n",
       "    <tr>\n",
       "      <th>1</th>\n",
       "      <td>i'm fine. how about yourself?</td>\n",
       "      <td>i'm pretty good. thanks for asking.</td>\n",
       "    </tr>\n",
       "    <tr>\n",
       "      <th>2</th>\n",
       "      <td>i'm pretty good. thanks for asking.</td>\n",
       "      <td>no problem. so how have you been?</td>\n",
       "    </tr>\n",
       "    <tr>\n",
       "      <th>3</th>\n",
       "      <td>no problem. so how have you been?</td>\n",
       "      <td>i've been great. what about you?</td>\n",
       "    </tr>\n",
       "    <tr>\n",
       "      <th>4</th>\n",
       "      <td>i've been great. what about you?</td>\n",
       "      <td>i've been good. i'm in school right now.</td>\n",
       "    </tr>\n",
       "  </tbody>\n",
       "</table>\n",
       "</div>"
      ],
      "text/plain": [
       "                              Question  \\\n",
       "0  hi, how are you doing?                \n",
       "1  i'm fine. how about yourself?         \n",
       "2  i'm pretty good. thanks for asking.   \n",
       "3  no problem. so how have you been?     \n",
       "4  i've been great. what about you?      \n",
       "\n",
       "                                   Response  \n",
       "0  i'm fine. how about yourself?             \n",
       "1  i'm pretty good. thanks for asking.       \n",
       "2  no problem. so how have you been?         \n",
       "3  i've been great. what about you?          \n",
       "4  i've been good. i'm in school right now.  "
      ]
     },
     "execution_count": 301,
     "metadata": {},
     "output_type": "execute_result"
    }
   ],
   "source": [
    "# Step 1: Read the file\n",
    "file_path = \"dialogs.txt\"  # Replace with your file path\n",
    "with open(file_path, 'r') as file:\n",
    "    lines = file.readlines()\n",
    "\n",
    "# Step 2: Process the data\n",
    "# Splitting each line into question and response based on the tab separator\n",
    "data = []\n",
    "for line in lines:\n",
    "    parts = line.strip().split(\"\\t\")\n",
    "    if len(parts) == 2:  # Ensure both question and response are present\n",
    "        data.append(parts)\n",
    "\n",
    "# Convert to a DataFrame for easier manipulation\n",
    "df = pd.DataFrame(data, columns=[\"Question\", \"Response\"])\n",
    "\n",
    "# Display the first few rows\n",
    "df.head()"
   ]
  },
  {
   "cell_type": "code",
   "execution_count": 302,
   "metadata": {},
   "outputs": [
    {
     "data": {
      "text/plain": [
       "(3725, 2)"
      ]
     },
     "execution_count": 302,
     "metadata": {},
     "output_type": "execute_result"
    }
   ],
   "source": [
    "df.shape"
   ]
  },
  {
   "cell_type": "markdown",
   "metadata": {},
   "source": [
    "## Preprocessing"
   ]
  },
  {
   "cell_type": "markdown",
   "metadata": {},
   "source": [
    "#### Handling Missing Values"
   ]
  },
  {
   "cell_type": "code",
   "execution_count": 303,
   "metadata": {},
   "outputs": [
    {
     "name": "stdout",
     "output_type": "stream",
     "text": [
      "Question    0\n",
      "Response    0\n",
      "dtype: int64\n",
      "No Handling as not missing values\n"
     ]
    }
   ],
   "source": [
    "print(df.isna().sum())\n",
    "\n",
    "print(\"No Handling as not missing values\")"
   ]
  },
  {
   "cell_type": "markdown",
   "metadata": {},
   "source": [
    "#### Handling Duplicates"
   ]
  },
  {
   "cell_type": "code",
   "execution_count": 304,
   "metadata": {},
   "outputs": [
    {
     "data": {
      "text/html": [
       "<div>\n",
       "<style scoped>\n",
       "    .dataframe tbody tr th:only-of-type {\n",
       "        vertical-align: middle;\n",
       "    }\n",
       "\n",
       "    .dataframe tbody tr th {\n",
       "        vertical-align: top;\n",
       "    }\n",
       "\n",
       "    .dataframe thead th {\n",
       "        text-align: right;\n",
       "    }\n",
       "</style>\n",
       "<table border=\"1\" class=\"dataframe\">\n",
       "  <thead>\n",
       "    <tr style=\"text-align: right;\">\n",
       "      <th></th>\n",
       "      <th>Question</th>\n",
       "      <th>Response</th>\n",
       "    </tr>\n",
       "  </thead>\n",
       "  <tbody>\n",
       "    <tr>\n",
       "      <th>count</th>\n",
       "      <td>3724</td>\n",
       "      <td>3724</td>\n",
       "    </tr>\n",
       "    <tr>\n",
       "      <th>unique</th>\n",
       "      <td>3510</td>\n",
       "      <td>3512</td>\n",
       "    </tr>\n",
       "    <tr>\n",
       "      <th>top</th>\n",
       "      <td>what do you mean?</td>\n",
       "      <td>what do you mean?</td>\n",
       "    </tr>\n",
       "    <tr>\n",
       "      <th>freq</th>\n",
       "      <td>22</td>\n",
       "      <td>22</td>\n",
       "    </tr>\n",
       "  </tbody>\n",
       "</table>\n",
       "</div>"
      ],
      "text/plain": [
       "                 Question           Response\n",
       "count   3724               3724             \n",
       "unique  3510               3512             \n",
       "top     what do you mean?  what do you mean?\n",
       "freq    22                 22               "
      ]
     },
     "execution_count": 304,
     "metadata": {},
     "output_type": "execute_result"
    }
   ],
   "source": [
    "df.drop_duplicates(subset=['Question', 'Response'], inplace=True)\n",
    "df.describe()"
   ]
  },
  {
   "cell_type": "code",
   "execution_count": 305,
   "metadata": {},
   "outputs": [
    {
     "data": {
      "text/plain": [
       "(3724, 2)"
      ]
     },
     "execution_count": 305,
     "metadata": {},
     "output_type": "execute_result"
    }
   ],
   "source": [
    "df.shape"
   ]
  },
  {
   "cell_type": "markdown",
   "metadata": {},
   "source": [
    "## NLP Text Preprocessing"
   ]
  },
  {
   "cell_type": "markdown",
   "metadata": {},
   "source": [
    "#### Lower casing"
   ]
  },
  {
   "cell_type": "code",
   "execution_count": 306,
   "metadata": {},
   "outputs": [
    {
     "data": {
      "text/html": [
       "<div>\n",
       "<style scoped>\n",
       "    .dataframe tbody tr th:only-of-type {\n",
       "        vertical-align: middle;\n",
       "    }\n",
       "\n",
       "    .dataframe tbody tr th {\n",
       "        vertical-align: top;\n",
       "    }\n",
       "\n",
       "    .dataframe thead th {\n",
       "        text-align: right;\n",
       "    }\n",
       "</style>\n",
       "<table border=\"1\" class=\"dataframe\">\n",
       "  <thead>\n",
       "    <tr style=\"text-align: right;\">\n",
       "      <th></th>\n",
       "      <th>Question</th>\n",
       "      <th>Response</th>\n",
       "    </tr>\n",
       "  </thead>\n",
       "  <tbody>\n",
       "    <tr>\n",
       "      <th>0</th>\n",
       "      <td>hi, how are you doing?</td>\n",
       "      <td>i'm fine. how about yourself?</td>\n",
       "    </tr>\n",
       "    <tr>\n",
       "      <th>1</th>\n",
       "      <td>i'm fine. how about yourself?</td>\n",
       "      <td>i'm pretty good. thanks for asking.</td>\n",
       "    </tr>\n",
       "    <tr>\n",
       "      <th>2</th>\n",
       "      <td>i'm pretty good. thanks for asking.</td>\n",
       "      <td>no problem. so how have you been?</td>\n",
       "    </tr>\n",
       "    <tr>\n",
       "      <th>3</th>\n",
       "      <td>no problem. so how have you been?</td>\n",
       "      <td>i've been great. what about you?</td>\n",
       "    </tr>\n",
       "    <tr>\n",
       "      <th>4</th>\n",
       "      <td>i've been great. what about you?</td>\n",
       "      <td>i've been good. i'm in school right now.</td>\n",
       "    </tr>\n",
       "  </tbody>\n",
       "</table>\n",
       "</div>"
      ],
      "text/plain": [
       "                              Question  \\\n",
       "0  hi, how are you doing?                \n",
       "1  i'm fine. how about yourself?         \n",
       "2  i'm pretty good. thanks for asking.   \n",
       "3  no problem. so how have you been?     \n",
       "4  i've been great. what about you?      \n",
       "\n",
       "                                   Response  \n",
       "0  i'm fine. how about yourself?             \n",
       "1  i'm pretty good. thanks for asking.       \n",
       "2  no problem. so how have you been?         \n",
       "3  i've been great. what about you?          \n",
       "4  i've been good. i'm in school right now.  "
      ]
     },
     "execution_count": 306,
     "metadata": {},
     "output_type": "execute_result"
    }
   ],
   "source": [
    "df = df.map(str.lower)\n",
    "df.head()"
   ]
  },
  {
   "cell_type": "markdown",
   "metadata": {},
   "source": [
    "#### Contractions"
   ]
  },
  {
   "cell_type": "code",
   "execution_count": 307,
   "metadata": {},
   "outputs": [
    {
     "data": {
      "text/html": [
       "<div>\n",
       "<style scoped>\n",
       "    .dataframe tbody tr th:only-of-type {\n",
       "        vertical-align: middle;\n",
       "    }\n",
       "\n",
       "    .dataframe tbody tr th {\n",
       "        vertical-align: top;\n",
       "    }\n",
       "\n",
       "    .dataframe thead th {\n",
       "        text-align: right;\n",
       "    }\n",
       "</style>\n",
       "<table border=\"1\" class=\"dataframe\">\n",
       "  <thead>\n",
       "    <tr style=\"text-align: right;\">\n",
       "      <th></th>\n",
       "      <th>Question</th>\n",
       "      <th>Response</th>\n",
       "    </tr>\n",
       "  </thead>\n",
       "  <tbody>\n",
       "    <tr>\n",
       "      <th>0</th>\n",
       "      <td>hi, how are you doing?</td>\n",
       "      <td>i am fine. how about yourself?</td>\n",
       "    </tr>\n",
       "    <tr>\n",
       "      <th>1</th>\n",
       "      <td>i am fine. how about yourself?</td>\n",
       "      <td>i am pretty good. thanks for asking.</td>\n",
       "    </tr>\n",
       "    <tr>\n",
       "      <th>2</th>\n",
       "      <td>i am pretty good. thanks for asking.</td>\n",
       "      <td>no problem. so how have you been?</td>\n",
       "    </tr>\n",
       "    <tr>\n",
       "      <th>3</th>\n",
       "      <td>no problem. so how have you been?</td>\n",
       "      <td>i have been great. what about you?</td>\n",
       "    </tr>\n",
       "    <tr>\n",
       "      <th>4</th>\n",
       "      <td>i have been great. what about you?</td>\n",
       "      <td>i have been good. i am in school right now.</td>\n",
       "    </tr>\n",
       "  </tbody>\n",
       "</table>\n",
       "</div>"
      ],
      "text/plain": [
       "                               Question  \\\n",
       "0  hi, how are you doing?                 \n",
       "1  i am fine. how about yourself?         \n",
       "2  i am pretty good. thanks for asking.   \n",
       "3  no problem. so how have you been?      \n",
       "4  i have been great. what about you?     \n",
       "\n",
       "                                      Response  \n",
       "0  i am fine. how about yourself?               \n",
       "1  i am pretty good. thanks for asking.         \n",
       "2  no problem. so how have you been?            \n",
       "3  i have been great. what about you?           \n",
       "4  i have been good. i am in school right now.  "
      ]
     },
     "execution_count": 307,
     "metadata": {},
     "output_type": "execute_result"
    }
   ],
   "source": [
    "import contractions\n",
    "def expand_contractions(text):\n",
    "    return ' '.join([contractions.fix(word) for word in text.split()])\n",
    "\n",
    "df['Question'] = df['Question'].apply(expand_contractions)\n",
    "df['Response'] = df['Response'].apply(expand_contractions)\n",
    "df.head()"
   ]
  },
  {
   "cell_type": "markdown",
   "metadata": {},
   "source": [
    "#### Punctuations Removal"
   ]
  },
  {
   "cell_type": "code",
   "execution_count": 308,
   "metadata": {},
   "outputs": [
    {
     "data": {
      "text/html": [
       "<div>\n",
       "<style scoped>\n",
       "    .dataframe tbody tr th:only-of-type {\n",
       "        vertical-align: middle;\n",
       "    }\n",
       "\n",
       "    .dataframe tbody tr th {\n",
       "        vertical-align: top;\n",
       "    }\n",
       "\n",
       "    .dataframe thead th {\n",
       "        text-align: right;\n",
       "    }\n",
       "</style>\n",
       "<table border=\"1\" class=\"dataframe\">\n",
       "  <thead>\n",
       "    <tr style=\"text-align: right;\">\n",
       "      <th></th>\n",
       "      <th>Question</th>\n",
       "      <th>Response</th>\n",
       "    </tr>\n",
       "  </thead>\n",
       "  <tbody>\n",
       "    <tr>\n",
       "      <th>0</th>\n",
       "      <td>hi how are you doing</td>\n",
       "      <td>i am fine how about yourself</td>\n",
       "    </tr>\n",
       "    <tr>\n",
       "      <th>1</th>\n",
       "      <td>i am fine how about yourself</td>\n",
       "      <td>i am pretty good thanks for asking</td>\n",
       "    </tr>\n",
       "    <tr>\n",
       "      <th>2</th>\n",
       "      <td>i am pretty good thanks for asking</td>\n",
       "      <td>no problem so how have you been</td>\n",
       "    </tr>\n",
       "    <tr>\n",
       "      <th>3</th>\n",
       "      <td>no problem so how have you been</td>\n",
       "      <td>i have been great what about you</td>\n",
       "    </tr>\n",
       "    <tr>\n",
       "      <th>4</th>\n",
       "      <td>i have been great what about you</td>\n",
       "      <td>i have been good i am in school right now</td>\n",
       "    </tr>\n",
       "  </tbody>\n",
       "</table>\n",
       "</div>"
      ],
      "text/plain": [
       "                             Question  \\\n",
       "0  hi how are you doing                 \n",
       "1  i am fine how about yourself         \n",
       "2  i am pretty good thanks for asking   \n",
       "3  no problem so how have you been      \n",
       "4  i have been great what about you     \n",
       "\n",
       "                                    Response  \n",
       "0  i am fine how about yourself               \n",
       "1  i am pretty good thanks for asking         \n",
       "2  no problem so how have you been            \n",
       "3  i have been great what about you           \n",
       "4  i have been good i am in school right now  "
      ]
     },
     "execution_count": 308,
     "metadata": {},
     "output_type": "execute_result"
    }
   ],
   "source": [
    "import string\n",
    "def remove_punctuation(text):\n",
    "    return text.translate(str.maketrans('', '', string.punctuation))\n",
    "\n",
    "# Apply the function to both columns\n",
    "df['Question'] = df['Question'].apply(remove_punctuation)\n",
    "df['Response'] = df['Response'].apply(remove_punctuation)\n",
    "df.head()"
   ]
  },
  {
   "cell_type": "markdown",
   "metadata": {},
   "source": [
    "#### Numbers removal"
   ]
  },
  {
   "cell_type": "code",
   "execution_count": 309,
   "metadata": {},
   "outputs": [
    {
     "data": {
      "text/html": [
       "<div>\n",
       "<style scoped>\n",
       "    .dataframe tbody tr th:only-of-type {\n",
       "        vertical-align: middle;\n",
       "    }\n",
       "\n",
       "    .dataframe tbody tr th {\n",
       "        vertical-align: top;\n",
       "    }\n",
       "\n",
       "    .dataframe thead th {\n",
       "        text-align: right;\n",
       "    }\n",
       "</style>\n",
       "<table border=\"1\" class=\"dataframe\">\n",
       "  <thead>\n",
       "    <tr style=\"text-align: right;\">\n",
       "      <th></th>\n",
       "      <th>Question</th>\n",
       "      <th>Response</th>\n",
       "    </tr>\n",
       "  </thead>\n",
       "  <tbody>\n",
       "    <tr>\n",
       "      <th>0</th>\n",
       "      <td>hi how are you doing</td>\n",
       "      <td>i am fine how about yourself</td>\n",
       "    </tr>\n",
       "    <tr>\n",
       "      <th>1</th>\n",
       "      <td>i am fine how about yourself</td>\n",
       "      <td>i am pretty good thanks for asking</td>\n",
       "    </tr>\n",
       "    <tr>\n",
       "      <th>2</th>\n",
       "      <td>i am pretty good thanks for asking</td>\n",
       "      <td>no problem so how have you been</td>\n",
       "    </tr>\n",
       "    <tr>\n",
       "      <th>3</th>\n",
       "      <td>no problem so how have you been</td>\n",
       "      <td>i have been great what about you</td>\n",
       "    </tr>\n",
       "    <tr>\n",
       "      <th>4</th>\n",
       "      <td>i have been great what about you</td>\n",
       "      <td>i have been good i am in school right now</td>\n",
       "    </tr>\n",
       "  </tbody>\n",
       "</table>\n",
       "</div>"
      ],
      "text/plain": [
       "                             Question  \\\n",
       "0  hi how are you doing                 \n",
       "1  i am fine how about yourself         \n",
       "2  i am pretty good thanks for asking   \n",
       "3  no problem so how have you been      \n",
       "4  i have been great what about you     \n",
       "\n",
       "                                    Response  \n",
       "0  i am fine how about yourself               \n",
       "1  i am pretty good thanks for asking         \n",
       "2  no problem so how have you been            \n",
       "3  i have been great what about you           \n",
       "4  i have been good i am in school right now  "
      ]
     },
     "execution_count": 309,
     "metadata": {},
     "output_type": "execute_result"
    }
   ],
   "source": [
    "import string\n",
    "translation_table = str.maketrans('', '', string.digits)\n",
    "df['Question'] = df['Question'].apply(lambda x: x.translate(translation_table))\n",
    "df['Response'] = df['Response'].apply(lambda x: x.translate(translation_table))\n",
    "df.head()"
   ]
  },
  {
   "cell_type": "markdown",
   "metadata": {},
   "source": [
    "#### Removing Extra Spaces"
   ]
  },
  {
   "cell_type": "code",
   "execution_count": 310,
   "metadata": {},
   "outputs": [
    {
     "data": {
      "text/html": [
       "<div>\n",
       "<style scoped>\n",
       "    .dataframe tbody tr th:only-of-type {\n",
       "        vertical-align: middle;\n",
       "    }\n",
       "\n",
       "    .dataframe tbody tr th {\n",
       "        vertical-align: top;\n",
       "    }\n",
       "\n",
       "    .dataframe thead th {\n",
       "        text-align: right;\n",
       "    }\n",
       "</style>\n",
       "<table border=\"1\" class=\"dataframe\">\n",
       "  <thead>\n",
       "    <tr style=\"text-align: right;\">\n",
       "      <th></th>\n",
       "      <th>Question</th>\n",
       "      <th>Response</th>\n",
       "    </tr>\n",
       "  </thead>\n",
       "  <tbody>\n",
       "    <tr>\n",
       "      <th>0</th>\n",
       "      <td>hi how are you doing</td>\n",
       "      <td>i am fine how about yourself</td>\n",
       "    </tr>\n",
       "    <tr>\n",
       "      <th>1</th>\n",
       "      <td>i am fine how about yourself</td>\n",
       "      <td>i am pretty good thanks for asking</td>\n",
       "    </tr>\n",
       "    <tr>\n",
       "      <th>2</th>\n",
       "      <td>i am pretty good thanks for asking</td>\n",
       "      <td>no problem so how have you been</td>\n",
       "    </tr>\n",
       "    <tr>\n",
       "      <th>3</th>\n",
       "      <td>no problem so how have you been</td>\n",
       "      <td>i have been great what about you</td>\n",
       "    </tr>\n",
       "    <tr>\n",
       "      <th>4</th>\n",
       "      <td>i have been great what about you</td>\n",
       "      <td>i have been good i am in school right now</td>\n",
       "    </tr>\n",
       "  </tbody>\n",
       "</table>\n",
       "</div>"
      ],
      "text/plain": [
       "                             Question  \\\n",
       "0  hi how are you doing                 \n",
       "1  i am fine how about yourself         \n",
       "2  i am pretty good thanks for asking   \n",
       "3  no problem so how have you been      \n",
       "4  i have been great what about you     \n",
       "\n",
       "                                    Response  \n",
       "0  i am fine how about yourself               \n",
       "1  i am pretty good thanks for asking         \n",
       "2  no problem so how have you been            \n",
       "3  i have been great what about you           \n",
       "4  i have been good i am in school right now  "
      ]
     },
     "execution_count": 310,
     "metadata": {},
     "output_type": "execute_result"
    }
   ],
   "source": [
    "import re\n",
    "def remove_extra_spaces_with_re(text):\n",
    "    return re.sub(r'\\s+', ' ', text.strip())\n",
    "\n",
    "df['Question'] = df['Question'].apply(remove_extra_spaces_with_re)\n",
    "df['Response'] = df['Response'].apply(remove_extra_spaces_with_re)\n",
    "df.head()"
   ]
  },
  {
   "cell_type": "markdown",
   "metadata": {},
   "source": [
    "#### Handling Repeated Punctuations"
   ]
  },
  {
   "cell_type": "code",
   "execution_count": 311,
   "metadata": {},
   "outputs": [
    {
     "data": {
      "text/html": [
       "<div>\n",
       "<style scoped>\n",
       "    .dataframe tbody tr th:only-of-type {\n",
       "        vertical-align: middle;\n",
       "    }\n",
       "\n",
       "    .dataframe tbody tr th {\n",
       "        vertical-align: top;\n",
       "    }\n",
       "\n",
       "    .dataframe thead th {\n",
       "        text-align: right;\n",
       "    }\n",
       "</style>\n",
       "<table border=\"1\" class=\"dataframe\">\n",
       "  <thead>\n",
       "    <tr style=\"text-align: right;\">\n",
       "      <th></th>\n",
       "      <th>Question</th>\n",
       "      <th>Response</th>\n",
       "    </tr>\n",
       "  </thead>\n",
       "  <tbody>\n",
       "    <tr>\n",
       "      <th>0</th>\n",
       "      <td>hi how are you doing</td>\n",
       "      <td>i am fine how about yourself</td>\n",
       "    </tr>\n",
       "    <tr>\n",
       "      <th>1</th>\n",
       "      <td>i am fine how about yourself</td>\n",
       "      <td>i am pretty good thanks for asking</td>\n",
       "    </tr>\n",
       "    <tr>\n",
       "      <th>2</th>\n",
       "      <td>i am pretty good thanks for asking</td>\n",
       "      <td>no problem so how have you been</td>\n",
       "    </tr>\n",
       "    <tr>\n",
       "      <th>3</th>\n",
       "      <td>no problem so how have you been</td>\n",
       "      <td>i have been great what about you</td>\n",
       "    </tr>\n",
       "    <tr>\n",
       "      <th>4</th>\n",
       "      <td>i have been great what about you</td>\n",
       "      <td>i have been good i am in school right now</td>\n",
       "    </tr>\n",
       "  </tbody>\n",
       "</table>\n",
       "</div>"
      ],
      "text/plain": [
       "                             Question  \\\n",
       "0  hi how are you doing                 \n",
       "1  i am fine how about yourself         \n",
       "2  i am pretty good thanks for asking   \n",
       "3  no problem so how have you been      \n",
       "4  i have been great what about you     \n",
       "\n",
       "                                    Response  \n",
       "0  i am fine how about yourself               \n",
       "1  i am pretty good thanks for asking         \n",
       "2  no problem so how have you been            \n",
       "3  i have been great what about you           \n",
       "4  i have been good i am in school right now  "
      ]
     },
     "execution_count": 311,
     "metadata": {},
     "output_type": "execute_result"
    }
   ],
   "source": [
    "import re\n",
    "def replace_repeated_puncs(text):\n",
    "    return re.sub(r'([!?/\\.])\\1+', r'\\1', text)\n",
    "df['Question'] = df['Question'].apply(replace_repeated_puncs)\n",
    "df['Response'] = df['Response'].apply(replace_repeated_puncs)\n",
    "df.head()"
   ]
  },
  {
   "cell_type": "markdown",
   "metadata": {},
   "source": [
    "#### Decoder Stuff"
   ]
  },
  {
   "cell_type": "code",
   "execution_count": 312,
   "metadata": {},
   "outputs": [],
   "source": [
    "#df['decoder_input'] = df['Response'].apply(lambda x: 'sos ' +x)\n",
    "#df['decoder_label'] = df['Response'].apply(lambda x: x+\" eo>\")"
   ]
  },
  {
   "cell_type": "code",
   "execution_count": 313,
   "metadata": {},
   "outputs": [
    {
     "data": {
      "text/html": [
       "<div>\n",
       "<style scoped>\n",
       "    .dataframe tbody tr th:only-of-type {\n",
       "        vertical-align: middle;\n",
       "    }\n",
       "\n",
       "    .dataframe tbody tr th {\n",
       "        vertical-align: top;\n",
       "    }\n",
       "\n",
       "    .dataframe thead th {\n",
       "        text-align: right;\n",
       "    }\n",
       "</style>\n",
       "<table border=\"1\" class=\"dataframe\">\n",
       "  <thead>\n",
       "    <tr style=\"text-align: right;\">\n",
       "      <th></th>\n",
       "      <th>Question</th>\n",
       "      <th>Response</th>\n",
       "    </tr>\n",
       "  </thead>\n",
       "  <tbody>\n",
       "    <tr>\n",
       "      <th>0</th>\n",
       "      <td>hi how are you doing</td>\n",
       "      <td>i am fine how about yourself</td>\n",
       "    </tr>\n",
       "    <tr>\n",
       "      <th>1</th>\n",
       "      <td>i am fine how about yourself</td>\n",
       "      <td>i am pretty good thanks for asking</td>\n",
       "    </tr>\n",
       "    <tr>\n",
       "      <th>2</th>\n",
       "      <td>i am pretty good thanks for asking</td>\n",
       "      <td>no problem so how have you been</td>\n",
       "    </tr>\n",
       "    <tr>\n",
       "      <th>3</th>\n",
       "      <td>no problem so how have you been</td>\n",
       "      <td>i have been great what about you</td>\n",
       "    </tr>\n",
       "    <tr>\n",
       "      <th>4</th>\n",
       "      <td>i have been great what about you</td>\n",
       "      <td>i have been good i am in school right now</td>\n",
       "    </tr>\n",
       "  </tbody>\n",
       "</table>\n",
       "</div>"
      ],
      "text/plain": [
       "                             Question  \\\n",
       "0  hi how are you doing                 \n",
       "1  i am fine how about yourself         \n",
       "2  i am pretty good thanks for asking   \n",
       "3  no problem so how have you been      \n",
       "4  i have been great what about you     \n",
       "\n",
       "                                    Response  \n",
       "0  i am fine how about yourself               \n",
       "1  i am pretty good thanks for asking         \n",
       "2  no problem so how have you been            \n",
       "3  i have been great what about you           \n",
       "4  i have been good i am in school right now  "
      ]
     },
     "execution_count": 313,
     "metadata": {},
     "output_type": "execute_result"
    }
   ],
   "source": [
    "df.head()"
   ]
  },
  {
   "cell_type": "markdown",
   "metadata": {},
   "source": [
    "## Tokenization"
   ]
  },
  {
   "cell_type": "code",
   "execution_count": 314,
   "metadata": {},
   "outputs": [
    {
     "data": {
      "text/html": [
       "<div>\n",
       "<style scoped>\n",
       "    .dataframe tbody tr th:only-of-type {\n",
       "        vertical-align: middle;\n",
       "    }\n",
       "\n",
       "    .dataframe tbody tr th {\n",
       "        vertical-align: top;\n",
       "    }\n",
       "\n",
       "    .dataframe thead th {\n",
       "        text-align: right;\n",
       "    }\n",
       "</style>\n",
       "<table border=\"1\" class=\"dataframe\">\n",
       "  <thead>\n",
       "    <tr style=\"text-align: right;\">\n",
       "      <th></th>\n",
       "      <th>Question</th>\n",
       "      <th>Response</th>\n",
       "      <th>processed_question</th>\n",
       "      <th>processed_response</th>\n",
       "    </tr>\n",
       "  </thead>\n",
       "  <tbody>\n",
       "    <tr>\n",
       "      <th>0</th>\n",
       "      <td>hi how are you doing</td>\n",
       "      <td>i am fine how about yourself</td>\n",
       "      <td>[hi, how, are, you, doing]</td>\n",
       "      <td>[i, am, fine, how, about, yourself]</td>\n",
       "    </tr>\n",
       "    <tr>\n",
       "      <th>1</th>\n",
       "      <td>i am fine how about yourself</td>\n",
       "      <td>i am pretty good thanks for asking</td>\n",
       "      <td>[i, am, fine, how, about, yourself]</td>\n",
       "      <td>[i, am, pretty, good, thanks, for, asking]</td>\n",
       "    </tr>\n",
       "    <tr>\n",
       "      <th>2</th>\n",
       "      <td>i am pretty good thanks for asking</td>\n",
       "      <td>no problem so how have you been</td>\n",
       "      <td>[i, am, pretty, good, thanks, for, asking]</td>\n",
       "      <td>[no, problem, so, how, have, you, been]</td>\n",
       "    </tr>\n",
       "    <tr>\n",
       "      <th>3</th>\n",
       "      <td>no problem so how have you been</td>\n",
       "      <td>i have been great what about you</td>\n",
       "      <td>[no, problem, so, how, have, you, been]</td>\n",
       "      <td>[i, have, been, great, what, about, you]</td>\n",
       "    </tr>\n",
       "    <tr>\n",
       "      <th>4</th>\n",
       "      <td>i have been great what about you</td>\n",
       "      <td>i have been good i am in school right now</td>\n",
       "      <td>[i, have, been, great, what, about, you]</td>\n",
       "      <td>[i, have, been, good, i, am, in, school, right, now]</td>\n",
       "    </tr>\n",
       "  </tbody>\n",
       "</table>\n",
       "</div>"
      ],
      "text/plain": [
       "                             Question  \\\n",
       "0  hi how are you doing                 \n",
       "1  i am fine how about yourself         \n",
       "2  i am pretty good thanks for asking   \n",
       "3  no problem so how have you been      \n",
       "4  i have been great what about you     \n",
       "\n",
       "                                    Response  \\\n",
       "0  i am fine how about yourself                \n",
       "1  i am pretty good thanks for asking          \n",
       "2  no problem so how have you been             \n",
       "3  i have been great what about you            \n",
       "4  i have been good i am in school right now   \n",
       "\n",
       "                           processed_question  \\\n",
       "0  [hi, how, are, you, doing]                   \n",
       "1  [i, am, fine, how, about, yourself]          \n",
       "2  [i, am, pretty, good, thanks, for, asking]   \n",
       "3  [no, problem, so, how, have, you, been]      \n",
       "4  [i, have, been, great, what, about, you]     \n",
       "\n",
       "                                     processed_response  \n",
       "0  [i, am, fine, how, about, yourself]                   \n",
       "1  [i, am, pretty, good, thanks, for, asking]            \n",
       "2  [no, problem, so, how, have, you, been]               \n",
       "3  [i, have, been, great, what, about, you]              \n",
       "4  [i, have, been, good, i, am, in, school, right, now]  "
      ]
     },
     "execution_count": 314,
     "metadata": {},
     "output_type": "execute_result"
    }
   ],
   "source": [
    "from transformers import AutoTokenizer\n",
    "\n",
    "tokenizer = AutoTokenizer.from_pretrained(\"bert-base-uncased\")\n",
    "\n",
    "# Step 3: Tokenize each row in the 'question' and 'response' columns\n",
    "df['processed_question'] = df['Question'].apply(lambda x: tokenizer.tokenize(x))\n",
    "df['processed_response'] = df['Response'].apply(lambda x: tokenizer.tokenize(x))\n",
    "df.head()"
   ]
  },
  {
   "cell_type": "markdown",
   "metadata": {},
   "source": [
    "## Stemming & Lemmatization"
   ]
  },
  {
   "cell_type": "code",
   "execution_count": 315,
   "metadata": {},
   "outputs": [
    {
     "data": {
      "text/html": [
       "<div>\n",
       "<style scoped>\n",
       "    .dataframe tbody tr th:only-of-type {\n",
       "        vertical-align: middle;\n",
       "    }\n",
       "\n",
       "    .dataframe tbody tr th {\n",
       "        vertical-align: top;\n",
       "    }\n",
       "\n",
       "    .dataframe thead th {\n",
       "        text-align: right;\n",
       "    }\n",
       "</style>\n",
       "<table border=\"1\" class=\"dataframe\">\n",
       "  <thead>\n",
       "    <tr style=\"text-align: right;\">\n",
       "      <th></th>\n",
       "      <th>Question</th>\n",
       "      <th>Response</th>\n",
       "      <th>processed_question</th>\n",
       "      <th>processed_response</th>\n",
       "    </tr>\n",
       "  </thead>\n",
       "  <tbody>\n",
       "    <tr>\n",
       "      <th>0</th>\n",
       "      <td>hi how are you doing</td>\n",
       "      <td>i am fine how about yourself</td>\n",
       "      <td>[hi, how, are, you, doing]</td>\n",
       "      <td>[i, am, fine, how, about, yourself]</td>\n",
       "    </tr>\n",
       "    <tr>\n",
       "      <th>1</th>\n",
       "      <td>i am fine how about yourself</td>\n",
       "      <td>i am pretty good thanks for asking</td>\n",
       "      <td>[i, am, fine, how, about, yourself]</td>\n",
       "      <td>[i, am, pretty, good, thanks, for, asking]</td>\n",
       "    </tr>\n",
       "    <tr>\n",
       "      <th>2</th>\n",
       "      <td>i am pretty good thanks for asking</td>\n",
       "      <td>no problem so how have you been</td>\n",
       "      <td>[i, am, pretty, good, thanks, for, asking]</td>\n",
       "      <td>[no, problem, so, how, have, you, been]</td>\n",
       "    </tr>\n",
       "    <tr>\n",
       "      <th>3</th>\n",
       "      <td>no problem so how have you been</td>\n",
       "      <td>i have been great what about you</td>\n",
       "      <td>[no, problem, so, how, have, you, been]</td>\n",
       "      <td>[i, have, been, great, what, about, you]</td>\n",
       "    </tr>\n",
       "    <tr>\n",
       "      <th>4</th>\n",
       "      <td>i have been great what about you</td>\n",
       "      <td>i have been good i am in school right now</td>\n",
       "      <td>[i, have, been, great, what, about, you]</td>\n",
       "      <td>[i, have, been, good, i, am, in, school, right, now]</td>\n",
       "    </tr>\n",
       "  </tbody>\n",
       "</table>\n",
       "</div>"
      ],
      "text/plain": [
       "                             Question  \\\n",
       "0  hi how are you doing                 \n",
       "1  i am fine how about yourself         \n",
       "2  i am pretty good thanks for asking   \n",
       "3  no problem so how have you been      \n",
       "4  i have been great what about you     \n",
       "\n",
       "                                    Response  \\\n",
       "0  i am fine how about yourself                \n",
       "1  i am pretty good thanks for asking          \n",
       "2  no problem so how have you been             \n",
       "3  i have been great what about you            \n",
       "4  i have been good i am in school right now   \n",
       "\n",
       "                           processed_question  \\\n",
       "0  [hi, how, are, you, doing]                   \n",
       "1  [i, am, fine, how, about, yourself]          \n",
       "2  [i, am, pretty, good, thanks, for, asking]   \n",
       "3  [no, problem, so, how, have, you, been]      \n",
       "4  [i, have, been, great, what, about, you]     \n",
       "\n",
       "                                     processed_response  \n",
       "0  [i, am, fine, how, about, yourself]                   \n",
       "1  [i, am, pretty, good, thanks, for, asking]            \n",
       "2  [no, problem, so, how, have, you, been]               \n",
       "3  [i, have, been, great, what, about, you]              \n",
       "4  [i, have, been, good, i, am, in, school, right, now]  "
      ]
     },
     "execution_count": 315,
     "metadata": {},
     "output_type": "execute_result"
    }
   ],
   "source": [
    "from nltk.stem import WordNetLemmatizer\n",
    "wordnet_lemmatizer = WordNetLemmatizer()\n",
    "\n",
    "#defining the function for lemmatization\n",
    "def lemmatizer(text):\n",
    "    lemm_text = [wordnet_lemmatizer.lemmatize(word) for word in text]\n",
    "    return lemm_text\n",
    "df['processed_question']=df['processed_question'].apply(lambda x:lemmatizer(x))\n",
    "df['processed_response'] = df['processed_response'].apply(lambda x: lemmatizer(x))\n",
    "df.head()"
   ]
  },
  {
   "cell_type": "markdown",
   "metadata": {},
   "source": [
    "#### Train Test Split"
   ]
  },
  {
   "cell_type": "code",
   "execution_count": 316,
   "metadata": {},
   "outputs": [
    {
     "data": {
      "text/plain": [
       "'\\nfrom sklearn.model_selection import train_test_split\\n\\nencoder_input = np.array(df[\\'Question\\'])\\ndecoder_input = np.array(df[\\'decoder_input\\'])\\ndecoder_label = np.array(df[\\'decoder_label\\'])\\n\\nn_rows = df.shape[0]\\nprint(n_rows)\\n\\nindices = np.arange(n_rows)\\nnp.random.shuffle(indices)\\n\\nencoder_input = encoder_input[indices]\\ndecoder_input = decoder_input[indices]\\ndecoder_label = decoder_label[indices]\\n\\ntrain_size = 0.8\\n\\ntrain_encoder_input = encoder_input[:int(n_rows*train_size)]\\ntrain_decoder_input = decoder_input[:int(n_rows*train_size)]\\ntrain_decoder_label = decoder_label[:int(n_rows*train_size)]\\n\\ntest_encoder_input = encoder_input[int(n_rows*train_size):]\\ntest_decoder_input = decoder_input[int(n_rows*train_size):]\\ntest_decoder_label = decoder_label[int(n_rows*train_size):]\\n\\n\\nprint(train_encoder_input.shape)\\nprint(train_decoder_input.shape)\\nprint(train_decoder_label.shape)\\n\\nprint(\"================\")\\n\\nprint(test_encoder_input.shape)\\nprint(test_decoder_input.shape)\\nprint(test_decoder_label.shape)\\n'"
      ]
     },
     "execution_count": 316,
     "metadata": {},
     "output_type": "execute_result"
    }
   ],
   "source": [
    "\"\"\"\n",
    "from sklearn.model_selection import train_test_split\n",
    "\n",
    "encoder_input = np.array(df['Question'])\n",
    "decoder_input = np.array(df['decoder_input'])\n",
    "decoder_label = np.array(df['decoder_label'])\n",
    "\n",
    "n_rows = df.shape[0]\n",
    "print(n_rows)\n",
    "\n",
    "indices = np.arange(n_rows)\n",
    "np.random.shuffle(indices)\n",
    "\n",
    "encoder_input = encoder_input[indices]\n",
    "decoder_input = decoder_input[indices]\n",
    "decoder_label = decoder_label[indices]\n",
    "\n",
    "train_size = 0.8\n",
    "\n",
    "train_encoder_input = encoder_input[:int(n_rows*train_size)]\n",
    "train_decoder_input = decoder_input[:int(n_rows*train_size)]\n",
    "train_decoder_label = decoder_label[:int(n_rows*train_size)]\n",
    "\n",
    "test_encoder_input = encoder_input[int(n_rows*train_size):]\n",
    "test_decoder_input = decoder_input[int(n_rows*train_size):]\n",
    "test_decoder_label = decoder_label[int(n_rows*train_size):]\n",
    "\n",
    "\n",
    "print(train_encoder_input.shape)\n",
    "print(train_decoder_input.shape)\n",
    "print(train_decoder_label.shape)\n",
    "\n",
    "print(\"================\")\n",
    "\n",
    "print(test_encoder_input.shape)\n",
    "print(test_decoder_input.shape)\n",
    "print(test_decoder_label.shape)\n",
    "\"\"\""
   ]
  },
  {
   "cell_type": "markdown",
   "metadata": {},
   "source": [
    "#### Vocabulary Building"
   ]
  },
  {
   "cell_type": "code",
   "execution_count": 317,
   "metadata": {},
   "outputs": [
    {
     "name": "stdout",
     "output_type": "stream",
     "text": [
      "Vocabulary: 2225\n",
      "Decoding:  2225\n",
      "\n",
      "Vocabulary saved to 'vocabulary.json'\n"
     ]
    }
   ],
   "source": [
    "from collections import Counter\n",
    "\n",
    "all_tokens = [token for tokens in df[\"processed_question\"] for token in tokens] + \\\n",
    "             [token for tokens in df[\"processed_response\"] for token in tokens]\n",
    "\n",
    "# Count the frequency of each token\n",
    "token_counts = Counter(all_tokens)\n",
    "\n",
    "# Create vocabulary: map tokens to unique indices\n",
    "vocabulary = {token: idx for idx, (token, _) in enumerate(token_counts.items(), start=1)}\n",
    "\n",
    "# Add special tokens to the vocabulary\n",
    "vocabulary[\"<PAD>\"] = 0  # Padding token\n",
    "vocabulary[\"<UNK>\"] = len(vocabulary)  # Unknown token\n",
    "\n",
    "# Display the vocabulary\n",
    "print(\"Vocabulary:\", len(vocabulary))\n",
    "\n",
    "# Reverse vocabulary (for decoding indices back to tokens)\n",
    "reverse_vocab = {idx: token for token, idx in vocabulary.items()}\n",
    "print(\"Decoding: \", len(reverse_vocab))\n",
    "\n",
    "# Optionally save the vocabulary\n",
    "import json\n",
    "with open(\"vocabulary.json\", \"w\") as f:\n",
    "    json.dump(vocabulary, f)\n",
    "\n",
    "print(\"\\nVocabulary saved to 'vocabulary.json'\")"
   ]
  },
  {
   "cell_type": "markdown",
   "metadata": {},
   "source": [
    "#### Padding & Truncating Sequence"
   ]
  },
  {
   "cell_type": "code",
   "execution_count": 318,
   "metadata": {},
   "outputs": [
    {
     "name": "stdout",
     "output_type": "stream",
     "text": [
      "Maximum sequence length: 20\n",
      "\n",
      "Processed DataFrame:\n",
      "                                                                      padded_question  \\\n",
      "0     [1, 2, 3, 4, 5, 0, 0, 0, 0, 0, 0, 0, 0, 0, 0, 0, 0, 0, 0, 0]                      \n",
      "1     [6, 7, 8, 2, 9, 10, 0, 0, 0, 0, 0, 0, 0, 0, 0, 0, 0, 0, 0, 0]                     \n",
      "2     [6, 7, 11, 12, 13, 14, 15, 0, 0, 0, 0, 0, 0, 0, 0, 0, 0, 0, 0, 0]                 \n",
      "3     [16, 17, 18, 2, 19, 4, 20, 0, 0, 0, 0, 0, 0, 0, 0, 0, 0, 0, 0, 0]                 \n",
      "4     [6, 19, 20, 21, 22, 9, 4, 0, 0, 0, 0, 0, 0, 0, 0, 0, 0, 0, 0, 0]                  \n",
      "...                                                                ...                  \n",
      "3720  [58, 35, 37, 12, 522, 235, 33, 35, 53, 599, 1030, 0, 0, 0, 0, 0, 0, 0, 0, 0]      \n",
      "3721  [3, 4, 25, 2119, 1155, 0, 0, 0, 0, 0, 0, 0, 0, 0, 0, 0, 0, 0, 0, 0]               \n",
      "3722  [97, 224, 69, 624, 0, 0, 0, 0, 0, 0, 0, 0, 0, 0, 0, 0, 0, 0, 0, 0]                \n",
      "3723  [4, 3, 355, 165, 247, 25, 1269, 661, 1095, 33, 18, 163, 0, 0, 0, 0, 0, 0, 0, 0]   \n",
      "3724  [106, 6, 27, 224, 69, 1205, 42, 69, 25, 1269, 0, 0, 0, 0, 0, 0, 0, 0, 0, 0]       \n",
      "\n",
      "                                                                             padded_response  \n",
      "0     [6, 7, 8, 2, 9, 10, 0, 0, 0, 0, 0, 0, 0, 0, 0, 0, 0, 0, 0, 0]                           \n",
      "1     [6, 7, 11, 12, 13, 14, 15, 0, 0, 0, 0, 0, 0, 0, 0, 0, 0, 0, 0, 0]                       \n",
      "2     [16, 17, 18, 2, 19, 4, 20, 0, 0, 0, 0, 0, 0, 0, 0, 0, 0, 0, 0, 0]                       \n",
      "3     [6, 19, 20, 21, 22, 9, 4, 0, 0, 0, 0, 0, 0, 0, 0, 0, 0, 0, 0, 0]                        \n",
      "4     [6, 19, 20, 12, 6, 7, 23, 24, 25, 26, 0, 0, 0, 0, 0, 0, 0, 0, 0, 0]                     \n",
      "...                                                                   ...                     \n",
      "3720  [3, 4, 25, 2119, 1155, 0, 0, 0, 0, 0, 0, 0, 0, 0, 0, 0, 0, 0, 0, 0]                     \n",
      "3721  [97, 224, 69, 624, 0, 0, 0, 0, 0, 0, 0, 0, 0, 0, 0, 0, 0, 0, 0, 0]                      \n",
      "3722  [4, 3, 355, 165, 247, 25, 1269, 661, 1095, 33, 18, 163, 0, 0, 0, 0, 0, 0, 0, 0]         \n",
      "3723  [106, 6, 27, 224, 69, 1205, 42, 69, 25, 1269, 0, 0, 0, 0, 0, 0, 0, 0, 0, 0]             \n",
      "3724  [542, 2045, 685, 58, 161, 247, 635, 1269, 158, 27, 1217, 78, 332, 0, 0, 0, 0, 0, 0, 0]  \n",
      "\n",
      "[3724 rows x 2 columns]\n",
      "\n",
      "Padded sequences saved to 'processed_sequences.csv'\n"
     ]
    }
   ],
   "source": [
    "from tensorflow.keras.preprocessing.sequence import pad_sequences\n",
    "\n",
    "def tokens_to_sequence(tokens, vocab):\n",
    "    return [vocab.get(token, vocab[\"<UNK>\"]) for token in tokens]\n",
    "\n",
    "# Convert questions and responses to sequences\n",
    "df[\"question_seq\"] = df[\"processed_question\"].apply(lambda tokens: tokens_to_sequence(tokens, vocabulary))\n",
    "df[\"response_seq\"] = df[\"processed_response\"].apply(lambda tokens: tokens_to_sequence(tokens, vocabulary))\n",
    "\n",
    "# Determine the maximum sequence length\n",
    "max_seq_length = max(\n",
    "    max(df[\"question_seq\"].apply(len)),\n",
    "    max(df[\"response_seq\"].apply(len))\n",
    ")\n",
    "\n",
    "print(f\"Maximum sequence length: {max_seq_length}\")\n",
    "\n",
    "# Pad the sequences\n",
    "df[\"padded_question\"] = pad_sequences(df[\"question_seq\"], maxlen=max_seq_length, padding=\"post\").tolist()\n",
    "df[\"padded_response\"] = pad_sequences(df[\"response_seq\"], maxlen=max_seq_length, padding=\"post\").tolist()\n",
    "\n",
    "# Display the results\n",
    "print(\"\\nProcessed DataFrame:\")\n",
    "print(df[[\"padded_question\", \"padded_response\"]])\n",
    "\n",
    "# Save padded sequences (optional)\n",
    "df.to_csv(\"processed_sequences.csv\", index=False)\n",
    "print(\"\\nPadded sequences saved to 'processed_sequences.csv'\")"
   ]
  },
  {
   "cell_type": "markdown",
   "metadata": {},
   "source": [
    "## Vectorization / Feature Extraction"
   ]
  },
  {
   "cell_type": "code",
   "execution_count": 319,
   "metadata": {},
   "outputs": [
    {
     "data": {
      "text/html": [
       "<div>\n",
       "<style scoped>\n",
       "    .dataframe tbody tr th:only-of-type {\n",
       "        vertical-align: middle;\n",
       "    }\n",
       "\n",
       "    .dataframe tbody tr th {\n",
       "        vertical-align: top;\n",
       "    }\n",
       "\n",
       "    .dataframe thead th {\n",
       "        text-align: right;\n",
       "    }\n",
       "</style>\n",
       "<table border=\"1\" class=\"dataframe\">\n",
       "  <thead>\n",
       "    <tr style=\"text-align: right;\">\n",
       "      <th></th>\n",
       "      <th>Question</th>\n",
       "      <th>Response</th>\n",
       "      <th>processed_question</th>\n",
       "      <th>processed_response</th>\n",
       "      <th>question_seq</th>\n",
       "      <th>response_seq</th>\n",
       "      <th>padded_question</th>\n",
       "      <th>padded_response</th>\n",
       "    </tr>\n",
       "  </thead>\n",
       "  <tbody>\n",
       "    <tr>\n",
       "      <th>0</th>\n",
       "      <td>hi how are you doing</td>\n",
       "      <td>i am fine how about yourself</td>\n",
       "      <td>[hi, how, are, you, doing]</td>\n",
       "      <td>[i, am, fine, how, about, yourself]</td>\n",
       "      <td>[1, 2, 3, 4, 5]</td>\n",
       "      <td>[6, 7, 8, 2, 9, 10]</td>\n",
       "      <td>[1, 2, 3, 4, 5, 0, 0, 0, 0, 0, 0, 0, 0, 0, 0, 0, 0, 0, 0, 0]</td>\n",
       "      <td>[6, 7, 8, 2, 9, 10, 0, 0, 0, 0, 0, 0, 0, 0, 0, 0, 0, 0, 0, 0]</td>\n",
       "    </tr>\n",
       "    <tr>\n",
       "      <th>1</th>\n",
       "      <td>i am fine how about yourself</td>\n",
       "      <td>i am pretty good thanks for asking</td>\n",
       "      <td>[i, am, fine, how, about, yourself]</td>\n",
       "      <td>[i, am, pretty, good, thanks, for, asking]</td>\n",
       "      <td>[6, 7, 8, 2, 9, 10]</td>\n",
       "      <td>[6, 7, 11, 12, 13, 14, 15]</td>\n",
       "      <td>[6, 7, 8, 2, 9, 10, 0, 0, 0, 0, 0, 0, 0, 0, 0, 0, 0, 0, 0, 0]</td>\n",
       "      <td>[6, 7, 11, 12, 13, 14, 15, 0, 0, 0, 0, 0, 0, 0, 0, 0, 0, 0, 0, 0]</td>\n",
       "    </tr>\n",
       "    <tr>\n",
       "      <th>2</th>\n",
       "      <td>i am pretty good thanks for asking</td>\n",
       "      <td>no problem so how have you been</td>\n",
       "      <td>[i, am, pretty, good, thanks, for, asking]</td>\n",
       "      <td>[no, problem, so, how, have, you, been]</td>\n",
       "      <td>[6, 7, 11, 12, 13, 14, 15]</td>\n",
       "      <td>[16, 17, 18, 2, 19, 4, 20]</td>\n",
       "      <td>[6, 7, 11, 12, 13, 14, 15, 0, 0, 0, 0, 0, 0, 0, 0, 0, 0, 0, 0, 0]</td>\n",
       "      <td>[16, 17, 18, 2, 19, 4, 20, 0, 0, 0, 0, 0, 0, 0, 0, 0, 0, 0, 0, 0]</td>\n",
       "    </tr>\n",
       "    <tr>\n",
       "      <th>3</th>\n",
       "      <td>no problem so how have you been</td>\n",
       "      <td>i have been great what about you</td>\n",
       "      <td>[no, problem, so, how, have, you, been]</td>\n",
       "      <td>[i, have, been, great, what, about, you]</td>\n",
       "      <td>[16, 17, 18, 2, 19, 4, 20]</td>\n",
       "      <td>[6, 19, 20, 21, 22, 9, 4]</td>\n",
       "      <td>[16, 17, 18, 2, 19, 4, 20, 0, 0, 0, 0, 0, 0, 0, 0, 0, 0, 0, 0, 0]</td>\n",
       "      <td>[6, 19, 20, 21, 22, 9, 4, 0, 0, 0, 0, 0, 0, 0, 0, 0, 0, 0, 0, 0]</td>\n",
       "    </tr>\n",
       "    <tr>\n",
       "      <th>4</th>\n",
       "      <td>i have been great what about you</td>\n",
       "      <td>i have been good i am in school right now</td>\n",
       "      <td>[i, have, been, great, what, about, you]</td>\n",
       "      <td>[i, have, been, good, i, am, in, school, right, now]</td>\n",
       "      <td>[6, 19, 20, 21, 22, 9, 4]</td>\n",
       "      <td>[6, 19, 20, 12, 6, 7, 23, 24, 25, 26]</td>\n",
       "      <td>[6, 19, 20, 21, 22, 9, 4, 0, 0, 0, 0, 0, 0, 0, 0, 0, 0, 0, 0, 0]</td>\n",
       "      <td>[6, 19, 20, 12, 6, 7, 23, 24, 25, 26, 0, 0, 0, 0, 0, 0, 0, 0, 0, 0]</td>\n",
       "    </tr>\n",
       "  </tbody>\n",
       "</table>\n",
       "</div>"
      ],
      "text/plain": [
       "                             Question  \\\n",
       "0  hi how are you doing                 \n",
       "1  i am fine how about yourself         \n",
       "2  i am pretty good thanks for asking   \n",
       "3  no problem so how have you been      \n",
       "4  i have been great what about you     \n",
       "\n",
       "                                    Response  \\\n",
       "0  i am fine how about yourself                \n",
       "1  i am pretty good thanks for asking          \n",
       "2  no problem so how have you been             \n",
       "3  i have been great what about you            \n",
       "4  i have been good i am in school right now   \n",
       "\n",
       "                           processed_question  \\\n",
       "0  [hi, how, are, you, doing]                   \n",
       "1  [i, am, fine, how, about, yourself]          \n",
       "2  [i, am, pretty, good, thanks, for, asking]   \n",
       "3  [no, problem, so, how, have, you, been]      \n",
       "4  [i, have, been, great, what, about, you]     \n",
       "\n",
       "                                     processed_response  \\\n",
       "0  [i, am, fine, how, about, yourself]                    \n",
       "1  [i, am, pretty, good, thanks, for, asking]             \n",
       "2  [no, problem, so, how, have, you, been]                \n",
       "3  [i, have, been, great, what, about, you]               \n",
       "4  [i, have, been, good, i, am, in, school, right, now]   \n",
       "\n",
       "                 question_seq                           response_seq  \\\n",
       "0  [1, 2, 3, 4, 5]             [6, 7, 8, 2, 9, 10]                     \n",
       "1  [6, 7, 8, 2, 9, 10]         [6, 7, 11, 12, 13, 14, 15]              \n",
       "2  [6, 7, 11, 12, 13, 14, 15]  [16, 17, 18, 2, 19, 4, 20]              \n",
       "3  [16, 17, 18, 2, 19, 4, 20]  [6, 19, 20, 21, 22, 9, 4]               \n",
       "4  [6, 19, 20, 21, 22, 9, 4]   [6, 19, 20, 12, 6, 7, 23, 24, 25, 26]   \n",
       "\n",
       "                                                     padded_question  \\\n",
       "0  [1, 2, 3, 4, 5, 0, 0, 0, 0, 0, 0, 0, 0, 0, 0, 0, 0, 0, 0, 0]        \n",
       "1  [6, 7, 8, 2, 9, 10, 0, 0, 0, 0, 0, 0, 0, 0, 0, 0, 0, 0, 0, 0]       \n",
       "2  [6, 7, 11, 12, 13, 14, 15, 0, 0, 0, 0, 0, 0, 0, 0, 0, 0, 0, 0, 0]   \n",
       "3  [16, 17, 18, 2, 19, 4, 20, 0, 0, 0, 0, 0, 0, 0, 0, 0, 0, 0, 0, 0]   \n",
       "4  [6, 19, 20, 21, 22, 9, 4, 0, 0, 0, 0, 0, 0, 0, 0, 0, 0, 0, 0, 0]    \n",
       "\n",
       "                                                       padded_response  \n",
       "0  [6, 7, 8, 2, 9, 10, 0, 0, 0, 0, 0, 0, 0, 0, 0, 0, 0, 0, 0, 0]        \n",
       "1  [6, 7, 11, 12, 13, 14, 15, 0, 0, 0, 0, 0, 0, 0, 0, 0, 0, 0, 0, 0]    \n",
       "2  [16, 17, 18, 2, 19, 4, 20, 0, 0, 0, 0, 0, 0, 0, 0, 0, 0, 0, 0, 0]    \n",
       "3  [6, 19, 20, 21, 22, 9, 4, 0, 0, 0, 0, 0, 0, 0, 0, 0, 0, 0, 0, 0]     \n",
       "4  [6, 19, 20, 12, 6, 7, 23, 24, 25, 26, 0, 0, 0, 0, 0, 0, 0, 0, 0, 0]  "
      ]
     },
     "execution_count": 319,
     "metadata": {},
     "output_type": "execute_result"
    }
   ],
   "source": [
    "df.head()"
   ]
  },
  {
   "cell_type": "code",
   "execution_count": 320,
   "metadata": {},
   "outputs": [
    {
     "data": {
      "text/plain": [
       "(3724,)"
      ]
     },
     "execution_count": 320,
     "metadata": {},
     "output_type": "execute_result"
    }
   ],
   "source": [
    "df['padded_question'].shape"
   ]
  },
  {
   "cell_type": "markdown",
   "metadata": {},
   "source": [
    "#### Train Test Split"
   ]
  },
  {
   "cell_type": "markdown",
   "metadata": {},
   "source": [
    "#### Model Building"
   ]
  },
  {
   "cell_type": "markdown",
   "metadata": {},
   "source": [
    "#### Prediction"
   ]
  }
 ],
 "metadata": {
  "kernelspec": {
   "display_name": "chatenv",
   "language": "python",
   "name": "python3"
  },
  "language_info": {
   "codemirror_mode": {
    "name": "ipython",
    "version": 3
   },
   "file_extension": ".py",
   "mimetype": "text/x-python",
   "name": "python",
   "nbconvert_exporter": "python",
   "pygments_lexer": "ipython3",
   "version": "3.11.4"
  }
 },
 "nbformat": 4,
 "nbformat_minor": 2
}
